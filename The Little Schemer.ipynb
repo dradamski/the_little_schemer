{
 "cells": [
  {
   "cell_type": "markdown",
   "id": "193f82f0-2fb4-4959-b240-797b93d182ca",
   "metadata": {},
   "source": [
    "## Scheme Jargon"
   ]
  },
  {
   "cell_type": "code",
   "execution_count": 1,
   "id": "d52ea580-0871-4421-b19f-3e420abf89e5",
   "metadata": {},
   "outputs": [],
   "source": [
    "def null(lat):\n",
    "    \"checks if x is null\"\n",
    "    if type(lat) == list:\n",
    "        return len(lat) == 0\n",
    "    else:\n",
    "        raise TypeError(\"only checks lists\")\n",
    "\n",
    "def is_pair(x):\n",
    "    \"checks if x is a pair\"\n",
    "    if type(x) is list:\n",
    "        return len(x) == 2\n",
    "    else:\n",
    "        False\n",
    "        \n",
    "def is_zero(n):\n",
    "    \"checks if x is 0\"\n",
    "    return x == 0\n",
    "\n",
    "def car(l):\n",
    "    \"returns first item in a list\"\n",
    "    return l[0]\n",
    "\n",
    "def cdr(l):\n",
    "    \"returns a list without the first item\"\n",
    "    return l[1:]\n",
    "\n",
    "def eq(a, b):\n",
    "    \"returns equality of two items\"\n",
    "    return a == b\n",
    "\n",
    "def add1(a):\n",
    "    \"adds q\"\n",
    "    return a + 1\n",
    "\n",
    "def sub1(a):\n",
    "    \"subtracts 1\"\n",
    "    return a - 1\n",
    "\n",
    "def cons(s, l):\n",
    "    l.insert(0, s)\n",
    "    return l"
   ]
  },
  {
   "cell_type": "markdown",
   "id": "b8896fca-fa7b-431e-b897-125a742930b3",
   "metadata": {},
   "source": [
    "## Chapter 1"
   ]
  },
  {
   "cell_type": "code",
   "execution_count": 2,
   "id": "0822c533-ed7f-4dbe-816a-19526e80b135",
   "metadata": {},
   "outputs": [
    {
     "data": {
      "text/plain": [
       "[['banana', 'and'], 'peanut', 'butter', 'and', 'jelly']"
      ]
     },
     "execution_count": 2,
     "metadata": {},
     "output_type": "execute_result"
    }
   ],
   "source": [
    "s = ['banana', 'and']\n",
    "l = ['peanut', 'butter', 'and', 'jelly']\n",
    "cons(s, l)"
   ]
  },
  {
   "cell_type": "code",
   "execution_count": 3,
   "id": "fa655a4d-d563-4464-ad02-f11399fe2141",
   "metadata": {},
   "outputs": [
    {
     "data": {
      "text/plain": [
       "[[['help'], 'this'], 'is', 'very', [['hard'], 'to', 'learn']]"
      ]
     },
     "execution_count": 3,
     "metadata": {},
     "output_type": "execute_result"
    }
   ],
   "source": [
    "s = [['help'], 'this']\n",
    "l = ['is', 'very', [['hard'], 'to', 'learn']]\n",
    "cons(s, l)"
   ]
  },
  {
   "cell_type": "code",
   "execution_count": 4,
   "id": "deead4a1-1c82-447a-b610-839fedbe9b28",
   "metadata": {},
   "outputs": [
    {
     "data": {
      "text/plain": [
       "['a', 'b']"
      ]
     },
     "execution_count": 4,
     "metadata": {},
     "output_type": "execute_result"
    }
   ],
   "source": [
    "s = 'a'\n",
    "l = [['b'], 'c', 'd']\n",
    "cons(s, car(l))"
   ]
  },
  {
   "cell_type": "code",
   "execution_count": 5,
   "id": "2e7be96b-29bf-4d34-9614-cdd806d3cc0e",
   "metadata": {},
   "outputs": [
    {
     "data": {
      "text/plain": [
       "True"
      ]
     },
     "execution_count": 5,
     "metadata": {},
     "output_type": "execute_result"
    }
   ],
   "source": [
    "null([])"
   ]
  },
  {
   "cell_type": "code",
   "execution_count": 6,
   "id": "b2ded28b-9214-4410-b489-3f790a799e01",
   "metadata": {},
   "outputs": [
    {
     "data": {
      "text/plain": [
       "False"
      ]
     },
     "execution_count": 6,
     "metadata": {},
     "output_type": "execute_result"
    }
   ],
   "source": [
    "null(['a', 'b', 'c'])"
   ]
  },
  {
   "cell_type": "code",
   "execution_count": 7,
   "id": "f8adbccd-44ed-4229-b537-c36cc34c7421",
   "metadata": {},
   "outputs": [
    {
     "ename": "TypeError",
     "evalue": "only checks lists",
     "output_type": "error",
     "traceback": [
      "\u001b[0;31m---------------------------------------------------------------------------\u001b[0m",
      "\u001b[0;31mTypeError\u001b[0m                                 Traceback (most recent call last)",
      "\u001b[0;32m<ipython-input-7-0f70b4018080>\u001b[0m in \u001b[0;36m<module>\u001b[0;34m\u001b[0m\n\u001b[0;32m----> 1\u001b[0;31m \u001b[0mnull\u001b[0m\u001b[0;34m(\u001b[0m\u001b[0;34m'a'\u001b[0m\u001b[0;34m)\u001b[0m\u001b[0;34m\u001b[0m\u001b[0;34m\u001b[0m\u001b[0m\n\u001b[0m",
      "\u001b[0;32m<ipython-input-1-1c3466b0ce12>\u001b[0m in \u001b[0;36mnull\u001b[0;34m(lat)\u001b[0m\n\u001b[1;32m      4\u001b[0m         \u001b[0;32mreturn\u001b[0m \u001b[0mlen\u001b[0m\u001b[0;34m(\u001b[0m\u001b[0mlat\u001b[0m\u001b[0;34m)\u001b[0m \u001b[0;34m==\u001b[0m \u001b[0;36m0\u001b[0m\u001b[0;34m\u001b[0m\u001b[0;34m\u001b[0m\u001b[0m\n\u001b[1;32m      5\u001b[0m     \u001b[0;32melse\u001b[0m\u001b[0;34m:\u001b[0m\u001b[0;34m\u001b[0m\u001b[0;34m\u001b[0m\u001b[0m\n\u001b[0;32m----> 6\u001b[0;31m         \u001b[0;32mraise\u001b[0m \u001b[0mTypeError\u001b[0m\u001b[0;34m(\u001b[0m\u001b[0;34m\"only checks lists\"\u001b[0m\u001b[0;34m)\u001b[0m\u001b[0;34m\u001b[0m\u001b[0;34m\u001b[0m\u001b[0m\n\u001b[0m\u001b[1;32m      7\u001b[0m \u001b[0;34m\u001b[0m\u001b[0m\n\u001b[1;32m      8\u001b[0m \u001b[0;32mdef\u001b[0m \u001b[0mis_pair\u001b[0m\u001b[0;34m(\u001b[0m\u001b[0mx\u001b[0m\u001b[0;34m)\u001b[0m\u001b[0;34m:\u001b[0m\u001b[0;34m\u001b[0m\u001b[0;34m\u001b[0m\u001b[0m\n",
      "\u001b[0;31mTypeError\u001b[0m: only checks lists"
     ]
    }
   ],
   "source": [
    "null('a')"
   ]
  },
  {
   "cell_type": "markdown",
   "id": "20dd1a6c-1056-43ee-bac2-6378999f829d",
   "metadata": {},
   "source": [
    "# Chapter 2"
   ]
  },
  {
   "cell_type": "code",
   "execution_count": 8,
   "id": "ab676e25-aadb-4bd3-8af5-f4037d61cd39",
   "metadata": {},
   "outputs": [],
   "source": [
    "def is_atom(a):\n",
    "    return type(a) in (int, str)"
   ]
  },
  {
   "cell_type": "code",
   "execution_count": 9,
   "id": "c7e72375-826e-4c8b-bc21-b99abd3e88f4",
   "metadata": {},
   "outputs": [],
   "source": [
    "def lat(l):\n",
    "    while not null(l):\n",
    "        if is_atom(car(l)):\n",
    "            l = cdr(l)\n",
    "        else:\n",
    "            return False\n",
    "    return True"
   ]
  },
  {
   "cell_type": "code",
   "execution_count": 10,
   "id": "52aab5f3-62a0-47b2-a44f-1dfe1ae36aec",
   "metadata": {},
   "outputs": [
    {
     "data": {
      "text/plain": [
       "False"
      ]
     },
     "execution_count": 10,
     "metadata": {},
     "output_type": "execute_result"
    }
   ],
   "source": [
    "lat([1, 2, [3, 3]])"
   ]
  },
  {
   "cell_type": "code",
   "execution_count": 11,
   "id": "b9248dd8-5a96-483f-8222-9058f058bab2",
   "metadata": {},
   "outputs": [],
   "source": [
    "def member(a, lat):\n",
    "    if null(lat): return False\n",
    "    else:\n",
    "        return (eq(car(lat), a) or member(a, cdr(lat)))"
   ]
  },
  {
   "cell_type": "code",
   "execution_count": 12,
   "id": "54373f08-6f58-48f8-956e-0c4f8935f468",
   "metadata": {},
   "outputs": [],
   "source": [
    "a = \"meat\"\n",
    "lat = [\"mashed\", \"potatoes\", \"and\", \"meat\", \"gravy\"]"
   ]
  },
  {
   "cell_type": "code",
   "execution_count": 13,
   "id": "99bc78f0-b12d-406a-840b-7fb281aa3175",
   "metadata": {},
   "outputs": [
    {
     "data": {
      "text/plain": [
       "True"
      ]
     },
     "execution_count": 13,
     "metadata": {},
     "output_type": "execute_result"
    }
   ],
   "source": [
    "member(a, lat)"
   ]
  },
  {
   "cell_type": "markdown",
   "id": "5429b7bf-e75c-4ca5-bd5f-4e017818d3c6",
   "metadata": {},
   "source": [
    "## First Commandment:\n",
    "### Always ask *null?* as the first question in expressing any function"
   ]
  },
  {
   "cell_type": "markdown",
   "id": "1bfc5307-b261-47e2-bb16-2670b91072b4",
   "metadata": {},
   "source": [
    "# Chapter 3 "
   ]
  },
  {
   "cell_type": "code",
   "execution_count": 14,
   "id": "888cba8c-fb23-4bd1-a2de-815562e56db5",
   "metadata": {},
   "outputs": [
    {
     "data": {
      "text/plain": [
       "['mashed', 'potatoes', 'and', 'meat', 'gravy']"
      ]
     },
     "execution_count": 14,
     "metadata": {},
     "output_type": "execute_result"
    }
   ],
   "source": [
    "lat"
   ]
  },
  {
   "cell_type": "code",
   "execution_count": 15,
   "id": "ed7f8f2d-ec03-4fcd-aa95-c8da64388ff6",
   "metadata": {},
   "outputs": [
    {
     "name": "stdout",
     "output_type": "stream",
     "text": [
      "['gravy']\n"
     ]
    }
   ],
   "source": [
    "if eq('meat', car(['meat', 'gravy'])):\n",
    "    print(cdr(['meat', 'gravy']))"
   ]
  },
  {
   "cell_type": "code",
   "execution_count": 16,
   "id": "91aac616-9da6-42c7-bc79-01748b9dd449",
   "metadata": {},
   "outputs": [],
   "source": [
    "def rember(a, lat):\n",
    "    if null(lat): \n",
    "        return False\n",
    "    elif eq(car(lat), a):\n",
    "        return cdr(lat)\n",
    "    else: \n",
    "        return rember(a, cdr(lat))"
   ]
  },
  {
   "cell_type": "code",
   "execution_count": 17,
   "id": "5de33bf9-6463-438e-98b4-52fcd80703a7",
   "metadata": {},
   "outputs": [
    {
     "data": {
      "text/plain": [
       "['lettuce', 'and', 'tomato']"
      ]
     },
     "execution_count": 17,
     "metadata": {},
     "output_type": "execute_result"
    }
   ],
   "source": [
    "a = \"bacon\"\n",
    "lat = [\"bacon\", \"lettuce\", \"and\", \"tomato\"]\n",
    "rember(a, lat)"
   ]
  },
  {
   "cell_type": "code",
   "execution_count": 18,
   "id": "08b828c6-7b9c-4aef-a546-50c46a09d7f4",
   "metadata": {},
   "outputs": [
    {
     "data": {
      "text/plain": [
       "['tomato']"
      ]
     },
     "execution_count": 18,
     "metadata": {},
     "output_type": "execute_result"
    }
   ],
   "source": [
    "# why doesnt this return anything?\n",
    "a = \"and\"\n",
    "lat = [\"bacon\", \"lettuce\", \"and\", \"tomato\"]\n",
    "rember(a, lat)"
   ]
  },
  {
   "cell_type": "markdown",
   "id": "f69a34e9-9a83-42fa-85c1-01c9e560634b",
   "metadata": {},
   "source": [
    "## The Second Commandment\n",
    "### Use *cons* to build lists"
   ]
  },
  {
   "cell_type": "code",
   "execution_count": 19,
   "id": "406a0ee9-74a3-4d4a-97b3-bf60b05755d7",
   "metadata": {},
   "outputs": [],
   "source": [
    "def rember(a, lat):  \n",
    "    if null(lat): \n",
    "        return []\n",
    "    elif eq(car(lat), a): \n",
    "        return cdr(lat)\n",
    "    else: \n",
    "        return cons(car(lat), rember(a, cdr(lat)))"
   ]
  },
  {
   "cell_type": "code",
   "execution_count": 20,
   "id": "2b2d77ed-c40b-4ea0-b64b-169c0045c1de",
   "metadata": {},
   "outputs": [
    {
     "data": {
      "text/plain": [
       "[['a', 'b'], 'c', 'd']"
      ]
     },
     "execution_count": 20,
     "metadata": {},
     "output_type": "execute_result"
    }
   ],
   "source": [
    "a = \"and\"\n",
    "lat = [\"bacon\", \"lettuce\", \"and\", \"tomato\"]\n",
    "rember(a, l)"
   ]
  },
  {
   "cell_type": "code",
   "execution_count": 21,
   "id": "698aa855-e513-4bbc-a46f-e548b3aef3e1",
   "metadata": {},
   "outputs": [],
   "source": [
    "def firsts(l):\n",
    "    if null(l):\n",
    "        return []\n",
    "    else:\n",
    "        return cons(car(car(l)), firsts(cdr(l)))"
   ]
  },
  {
   "cell_type": "code",
   "execution_count": 22,
   "id": "135210f5-02a3-4a17-b233-0121ea5e6da6",
   "metadata": {},
   "outputs": [
    {
     "data": {
      "text/plain": [
       "'a'"
      ]
     },
     "execution_count": 22,
     "metadata": {},
     "output_type": "execute_result"
    }
   ],
   "source": [
    "car(car([\"a\",\"b\"]))"
   ]
  },
  {
   "cell_type": "code",
   "execution_count": 23,
   "id": "8346c6e7-2d43-4fcd-8adf-ab723e50f41f",
   "metadata": {},
   "outputs": [
    {
     "data": {
      "text/plain": [
       "['a', 'c', 'e']"
      ]
     },
     "execution_count": 23,
     "metadata": {},
     "output_type": "execute_result"
    }
   ],
   "source": [
    "l = [[\"a\", \"b\"], [\"c\", \"d\"], [\"e\"]]\n",
    "firsts(l)"
   ]
  },
  {
   "cell_type": "markdown",
   "id": "423e0214-3a4f-4552-8436-a5e0445e852e",
   "metadata": {},
   "source": [
    "## Third Commandment\n",
    "### When building a list, describe the first typical element, and then *cons* it onto the natural recursion"
   ]
  },
  {
   "cell_type": "code",
   "execution_count": 24,
   "id": "5488ee90-0d7e-45bf-9993-d90d4c6cefa0",
   "metadata": {},
   "outputs": [],
   "source": [
    "def insertR(new, old, lat):\n",
    "    if null(lat):\n",
    "        return []\n",
    "    elif eq(car(lat), old):\n",
    "        return cons(old, cons(new, cdr(lat)))\n",
    "#         return cons(new, lat) # this also works\n",
    "    else:\n",
    "        return cons(car(lat), insertR(new, old, cdr(lat)))"
   ]
  },
  {
   "cell_type": "code",
   "execution_count": 25,
   "id": "5cd0a3ee-bbd2-4259-b5a6-f40717f384f9",
   "metadata": {},
   "outputs": [],
   "source": [
    "lat = [\"a\", \"b\", \"c\", \"e\", \"f\"]\n",
    "old = \"c\"\n",
    "new = \"d\""
   ]
  },
  {
   "cell_type": "code",
   "execution_count": 26,
   "id": "b96c4174-852d-4bb5-92d1-bb4e03fde084",
   "metadata": {},
   "outputs": [
    {
     "data": {
      "text/plain": [
       "['a', 'b', 'c', 'd', 'e', 'f']"
      ]
     },
     "execution_count": 26,
     "metadata": {},
     "output_type": "execute_result"
    }
   ],
   "source": [
    "insertR(new, old, lat)"
   ]
  },
  {
   "cell_type": "code",
   "execution_count": 27,
   "id": "15cdbe2f-8709-458a-8006-f33b24da6f12",
   "metadata": {},
   "outputs": [],
   "source": [
    "lat = [\"a\", \"b\", \"c\", \"e\", \"f\"]\n",
    "old = \"c\"\n",
    "new = \"d\""
   ]
  },
  {
   "cell_type": "code",
   "execution_count": 28,
   "id": "609497f8-c418-490e-a02b-be0c5e508a48",
   "metadata": {},
   "outputs": [],
   "source": [
    "def insertL(new, old, lat):\n",
    "    if null(lat):\n",
    "        return []\n",
    "    elif eq(car(lat), old):\n",
    "        return cons(new, cons(old, cdr(lat)))\n",
    "#         return cons(new, lat) # this also works\n",
    "    else:\n",
    "        return cons(car(lat), insertL(new, old, cdr(lat)))"
   ]
  },
  {
   "cell_type": "code",
   "execution_count": 29,
   "id": "5ae803e8-d98b-4319-8033-b1efbad826b0",
   "metadata": {},
   "outputs": [
    {
     "data": {
      "text/plain": [
       "['a', 'b', 'd', 'c', 'e', 'f']"
      ]
     },
     "execution_count": 29,
     "metadata": {},
     "output_type": "execute_result"
    }
   ],
   "source": [
    "insertL(new, old, lat)"
   ]
  },
  {
   "cell_type": "code",
   "execution_count": 30,
   "id": "fb6e7b6a-01c5-47ae-9b88-a693f472e6d4",
   "metadata": {},
   "outputs": [],
   "source": [
    "def subst(new, old, lat):\n",
    "    if null(lat): \n",
    "        return []\n",
    "    elif car(lat)==old:\n",
    "        return cons(new, cdr(lat))\n",
    "    else:\n",
    "        return cons(car(lat), subst(new, old, cdr(lat)))"
   ]
  },
  {
   "cell_type": "code",
   "execution_count": 31,
   "id": "10934b32-c81a-4cc6-8102-a80b2a842241",
   "metadata": {},
   "outputs": [
    {
     "data": {
      "text/plain": [
       "['a', 'b', 'd', 'e', 'f']"
      ]
     },
     "execution_count": 31,
     "metadata": {},
     "output_type": "execute_result"
    }
   ],
   "source": [
    "subst(new, old, lat)"
   ]
  },
  {
   "cell_type": "code",
   "execution_count": null,
   "id": "c3e19cf0-5be8-48d0-b257-46580e5ae5c1",
   "metadata": {},
   "outputs": [],
   "source": []
  },
  {
   "cell_type": "code",
   "execution_count": null,
   "id": "af1fe9ad-c456-4599-8890-6d98f9b7235f",
   "metadata": {},
   "outputs": [],
   "source": []
  }
 ],
 "metadata": {
  "kernelspec": {
   "display_name": "Python 3",
   "language": "python",
   "name": "python3"
  },
  "language_info": {
   "codemirror_mode": {
    "name": "ipython",
    "version": 3
   },
   "file_extension": ".py",
   "mimetype": "text/x-python",
   "name": "python",
   "nbconvert_exporter": "python",
   "pygments_lexer": "ipython3",
   "version": "3.8.8"
  }
 },
 "nbformat": 4,
 "nbformat_minor": 5
}
