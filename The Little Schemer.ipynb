{
 "cells": [
  {
   "cell_type": "markdown",
   "id": "193f82f0-2fb4-4959-b240-797b93d182ca",
   "metadata": {},
   "source": [
    "## Scheme Jargon\n",
    "These are built in functions used in LISP"
   ]
  },
  {
   "cell_type": "code",
   "execution_count": 1,
   "id": "d52ea580-0871-4421-b19f-3e420abf89e5",
   "metadata": {},
   "outputs": [],
   "source": [
    "def null(lat):\n",
    "    \"checks if x is null\"\n",
    "    if isinstance(lat, list):\n",
    "        return len(lat) == 0\n",
    "    else:\n",
    "        raise TypeError(\"only checks lists\")\n",
    "\n",
    "def is_pair(x):\n",
    "    \"checks if x is a pair\"\n",
    "    if isinstance(x, list):\n",
    "        return len(x) == 2\n",
    "    else:\n",
    "        False\n",
    "        \n",
    "def zero(n):\n",
    "    \"checks if x is 0\"\n",
    "    return n == 0\n",
    "\n",
    "def car(l):\n",
    "    \"returns first item in a list\"\n",
    "    return l[0]\n",
    "\n",
    "def cdr(l):\n",
    "    \"returns a list without the first item\"\n",
    "    if null(l):\n",
    "        raise ValueError(\"Cannot cdr empty list\")\n",
    "    return l[1:]\n",
    "\n",
    "def eq(a, b):\n",
    "    \"returns equality of two items\"\n",
    "    return a == b\n",
    "\n",
    "def add1(a):\n",
    "    \"adds q\"\n",
    "    return a + 1\n",
    "\n",
    "def sub1(a):\n",
    "    \"subtracts 1\"\n",
    "    return a - 1\n",
    "\n",
    "def cons(s, l):\n",
    "    \"adds an object s onto a list\"\n",
    "    l.insert(0, s)\n",
    "    return l\n",
    "\n",
    "def number(n):\n",
    "    \"checks if n is a number\"\n",
    "    return isinstance(n, int)"
   ]
  },
  {
   "cell_type": "markdown",
   "id": "b8896fca-fa7b-431e-b897-125a742930b3",
   "metadata": {},
   "source": [
    "## Chapter 1: Toys"
   ]
  },
  {
   "cell_type": "code",
   "execution_count": 2,
   "id": "0822c533-ed7f-4dbe-816a-19526e80b135",
   "metadata": {},
   "outputs": [
    {
     "data": {
      "text/plain": [
       "[['banana', 'and'], 'peanut', 'butter', 'and', 'jelly']"
      ]
     },
     "execution_count": 2,
     "metadata": {},
     "output_type": "execute_result"
    }
   ],
   "source": [
    "s = ['banana', 'and']\n",
    "l = ['peanut', 'butter', 'and', 'jelly']\n",
    "cons(s, l)"
   ]
  },
  {
   "cell_type": "code",
   "execution_count": 3,
   "id": "fa655a4d-d563-4464-ad02-f11399fe2141",
   "metadata": {},
   "outputs": [
    {
     "data": {
      "text/plain": [
       "[[['help'], 'this'], 'is', 'very', [['hard'], 'to', 'learn']]"
      ]
     },
     "execution_count": 3,
     "metadata": {},
     "output_type": "execute_result"
    }
   ],
   "source": [
    "s = [['help'], 'this']\n",
    "l = ['is', 'very', [['hard'], 'to', 'learn']]\n",
    "cons(s, l)"
   ]
  },
  {
   "cell_type": "code",
   "execution_count": 4,
   "id": "deead4a1-1c82-447a-b610-839fedbe9b28",
   "metadata": {},
   "outputs": [
    {
     "data": {
      "text/plain": [
       "['a', 'b']"
      ]
     },
     "execution_count": 4,
     "metadata": {},
     "output_type": "execute_result"
    }
   ],
   "source": [
    "s = 'a'\n",
    "l = [['b'], 'c', 'd']\n",
    "cons(s, car(l))"
   ]
  },
  {
   "cell_type": "code",
   "execution_count": 5,
   "id": "2e7be96b-29bf-4d34-9614-cdd806d3cc0e",
   "metadata": {},
   "outputs": [
    {
     "data": {
      "text/plain": [
       "True"
      ]
     },
     "execution_count": 5,
     "metadata": {},
     "output_type": "execute_result"
    }
   ],
   "source": [
    "null([])"
   ]
  },
  {
   "cell_type": "code",
   "execution_count": 6,
   "id": "b2ded28b-9214-4410-b489-3f790a799e01",
   "metadata": {},
   "outputs": [
    {
     "data": {
      "text/plain": [
       "False"
      ]
     },
     "execution_count": 6,
     "metadata": {},
     "output_type": "execute_result"
    }
   ],
   "source": [
    "null(['a', 'b', 'c'])"
   ]
  },
  {
   "cell_type": "code",
   "execution_count": 7,
   "id": "f8adbccd-44ed-4229-b537-c36cc34c7421",
   "metadata": {},
   "outputs": [
    {
     "ename": "TypeError",
     "evalue": "only checks lists",
     "output_type": "error",
     "traceback": [
      "\u001b[0;31m---------------------------------------------------------------------------\u001b[0m",
      "\u001b[0;31mTypeError\u001b[0m                                 Traceback (most recent call last)",
      "\u001b[0;32m<ipython-input-7-0f70b4018080>\u001b[0m in \u001b[0;36m<module>\u001b[0;34m\u001b[0m\n\u001b[0;32m----> 1\u001b[0;31m \u001b[0mnull\u001b[0m\u001b[0;34m(\u001b[0m\u001b[0;34m'a'\u001b[0m\u001b[0;34m)\u001b[0m\u001b[0;34m\u001b[0m\u001b[0;34m\u001b[0m\u001b[0m\n\u001b[0m",
      "\u001b[0;32m<ipython-input-1-21d38a1a72c0>\u001b[0m in \u001b[0;36mnull\u001b[0;34m(lat)\u001b[0m\n\u001b[1;32m      4\u001b[0m         \u001b[0;32mreturn\u001b[0m \u001b[0mlen\u001b[0m\u001b[0;34m(\u001b[0m\u001b[0mlat\u001b[0m\u001b[0;34m)\u001b[0m \u001b[0;34m==\u001b[0m \u001b[0;36m0\u001b[0m\u001b[0;34m\u001b[0m\u001b[0;34m\u001b[0m\u001b[0m\n\u001b[1;32m      5\u001b[0m     \u001b[0;32melse\u001b[0m\u001b[0;34m:\u001b[0m\u001b[0;34m\u001b[0m\u001b[0;34m\u001b[0m\u001b[0m\n\u001b[0;32m----> 6\u001b[0;31m         \u001b[0;32mraise\u001b[0m \u001b[0mTypeError\u001b[0m\u001b[0;34m(\u001b[0m\u001b[0;34m\"only checks lists\"\u001b[0m\u001b[0;34m)\u001b[0m\u001b[0;34m\u001b[0m\u001b[0;34m\u001b[0m\u001b[0m\n\u001b[0m\u001b[1;32m      7\u001b[0m \u001b[0;34m\u001b[0m\u001b[0m\n\u001b[1;32m      8\u001b[0m \u001b[0;32mdef\u001b[0m \u001b[0mis_pair\u001b[0m\u001b[0;34m(\u001b[0m\u001b[0mx\u001b[0m\u001b[0;34m)\u001b[0m\u001b[0;34m:\u001b[0m\u001b[0;34m\u001b[0m\u001b[0;34m\u001b[0m\u001b[0m\n",
      "\u001b[0;31mTypeError\u001b[0m: only checks lists"
     ]
    }
   ],
   "source": [
    "null('a')"
   ]
  },
  {
   "cell_type": "markdown",
   "id": "20dd1a6c-1056-43ee-bac2-6378999f829d",
   "metadata": {},
   "source": [
    "## Chapter 2: Do It, Do It Again, and Again, and Again..."
   ]
  },
  {
   "cell_type": "code",
   "execution_count": 8,
   "id": "ab676e25-aadb-4bd3-8af5-f4037d61cd39",
   "metadata": {},
   "outputs": [],
   "source": [
    "def is_atom(a):\n",
    "    return type(a) in (int, str)"
   ]
  },
  {
   "cell_type": "code",
   "execution_count": 9,
   "id": "c7e72375-826e-4c8b-bc21-b99abd3e88f4",
   "metadata": {},
   "outputs": [],
   "source": [
    "def is_lat(l):\n",
    "    while not null(l):\n",
    "        if is_atom(car(l)):\n",
    "            l = cdr(l)\n",
    "        else:\n",
    "            return False\n",
    "    return True"
   ]
  },
  {
   "cell_type": "code",
   "execution_count": 10,
   "id": "52aab5f3-62a0-47b2-a44f-1dfe1ae36aec",
   "metadata": {},
   "outputs": [
    {
     "data": {
      "text/plain": [
       "False"
      ]
     },
     "execution_count": 10,
     "metadata": {},
     "output_type": "execute_result"
    }
   ],
   "source": [
    "is_lat([1, 2, [3, 3]])"
   ]
  },
  {
   "cell_type": "code",
   "execution_count": 11,
   "id": "b9248dd8-5a96-483f-8222-9058f058bab2",
   "metadata": {},
   "outputs": [],
   "source": [
    "def member(a, lat):\n",
    "    if null(lat): \n",
    "        return False\n",
    "    else:\n",
    "        return (eq(car(lat), a) or member(a, cdr(lat)))"
   ]
  },
  {
   "cell_type": "code",
   "execution_count": 12,
   "id": "54373f08-6f58-48f8-956e-0c4f8935f468",
   "metadata": {},
   "outputs": [],
   "source": [
    "a = \"meat\"\n",
    "lat = [\"mashed\", \"potatoes\", \"and\", \"meat\", \"gravy\"]"
   ]
  },
  {
   "cell_type": "code",
   "execution_count": 13,
   "id": "99bc78f0-b12d-406a-840b-7fb281aa3175",
   "metadata": {},
   "outputs": [
    {
     "data": {
      "text/plain": [
       "True"
      ]
     },
     "execution_count": 13,
     "metadata": {},
     "output_type": "execute_result"
    }
   ],
   "source": [
    "member(a, lat)"
   ]
  },
  {
   "cell_type": "markdown",
   "id": "5429b7bf-e75c-4ca5-bd5f-4e017818d3c6",
   "metadata": {},
   "source": [
    "## First Commandment:\n",
    "### Always ask *null?* as the first question in expressing any function"
   ]
  },
  {
   "cell_type": "markdown",
   "id": "1bfc5307-b261-47e2-bb16-2670b91072b4",
   "metadata": {},
   "source": [
    "# Chapter 3: Cons the Magnificent"
   ]
  },
  {
   "cell_type": "code",
   "execution_count": 14,
   "id": "888cba8c-fb23-4bd1-a2de-815562e56db5",
   "metadata": {},
   "outputs": [
    {
     "data": {
      "text/plain": [
       "['mashed', 'potatoes', 'and', 'meat', 'gravy']"
      ]
     },
     "execution_count": 14,
     "metadata": {},
     "output_type": "execute_result"
    }
   ],
   "source": [
    "lat"
   ]
  },
  {
   "cell_type": "code",
   "execution_count": 15,
   "id": "ed7f8f2d-ec03-4fcd-aa95-c8da64388ff6",
   "metadata": {},
   "outputs": [
    {
     "name": "stdout",
     "output_type": "stream",
     "text": [
      "['gravy']\n"
     ]
    }
   ],
   "source": [
    "if eq('meat', car(['meat', 'gravy'])):\n",
    "    print(cdr(['meat', 'gravy']))"
   ]
  },
  {
   "cell_type": "code",
   "execution_count": 16,
   "id": "91aac616-9da6-42c7-bc79-01748b9dd449",
   "metadata": {},
   "outputs": [],
   "source": [
    "def rember(a, lat):\n",
    "    if null(lat): \n",
    "        return False\n",
    "    elif eq(car(lat), a):\n",
    "        return cdr(lat)\n",
    "    else: \n",
    "        return rember(a, cdr(lat))"
   ]
  },
  {
   "cell_type": "code",
   "execution_count": 17,
   "id": "5de33bf9-6463-438e-98b4-52fcd80703a7",
   "metadata": {},
   "outputs": [
    {
     "data": {
      "text/plain": [
       "['lettuce', 'and', 'tomato']"
      ]
     },
     "execution_count": 17,
     "metadata": {},
     "output_type": "execute_result"
    }
   ],
   "source": [
    "a = \"bacon\"\n",
    "lat = [\"bacon\", \"lettuce\", \"and\", \"tomato\"]\n",
    "rember(a, lat)"
   ]
  },
  {
   "cell_type": "code",
   "execution_count": 18,
   "id": "08b828c6-7b9c-4aef-a546-50c46a09d7f4",
   "metadata": {},
   "outputs": [
    {
     "data": {
      "text/plain": [
       "['tomato']"
      ]
     },
     "execution_count": 18,
     "metadata": {},
     "output_type": "execute_result"
    }
   ],
   "source": [
    "a = \"and\"\n",
    "lat = [\"bacon\", \"lettuce\", \"and\", \"tomato\"]\n",
    "rember(a, lat)"
   ]
  },
  {
   "cell_type": "markdown",
   "id": "f69a34e9-9a83-42fa-85c1-01c9e560634b",
   "metadata": {},
   "source": [
    "## The Second Commandment\n",
    "### Use *cons* to build lists"
   ]
  },
  {
   "cell_type": "code",
   "execution_count": 19,
   "id": "406a0ee9-74a3-4d4a-97b3-bf60b05755d7",
   "metadata": {},
   "outputs": [],
   "source": [
    "def rember(a, lat):  \n",
    "    if null(lat): \n",
    "        return []\n",
    "    elif eq(car(lat), a): \n",
    "        return cdr(lat)\n",
    "    else: \n",
    "        return cons(car(lat), rember(a, cdr(lat)))"
   ]
  },
  {
   "cell_type": "code",
   "execution_count": 20,
   "id": "2b2d77ed-c40b-4ea0-b64b-169c0045c1de",
   "metadata": {},
   "outputs": [
    {
     "data": {
      "text/plain": [
       "[['a', 'b'], 'c', 'd']"
      ]
     },
     "execution_count": 20,
     "metadata": {},
     "output_type": "execute_result"
    }
   ],
   "source": [
    "a = \"and\"\n",
    "lat = [\"bacon\", \"lettuce\", \"and\", \"tomato\"]\n",
    "rember(a, l)"
   ]
  },
  {
   "cell_type": "code",
   "execution_count": 21,
   "id": "698aa855-e513-4bbc-a46f-e548b3aef3e1",
   "metadata": {},
   "outputs": [],
   "source": [
    "def firsts(l):\n",
    "    if null(l):\n",
    "        return []\n",
    "    else:\n",
    "        return cons(car(car(l)), firsts(cdr(l)))"
   ]
  },
  {
   "cell_type": "code",
   "execution_count": 22,
   "id": "135210f5-02a3-4a17-b233-0121ea5e6da6",
   "metadata": {},
   "outputs": [
    {
     "data": {
      "text/plain": [
       "'a'"
      ]
     },
     "execution_count": 22,
     "metadata": {},
     "output_type": "execute_result"
    }
   ],
   "source": [
    "car(car([\"a\",\"b\"]))"
   ]
  },
  {
   "cell_type": "code",
   "execution_count": 23,
   "id": "8346c6e7-2d43-4fcd-8adf-ab723e50f41f",
   "metadata": {},
   "outputs": [
    {
     "data": {
      "text/plain": [
       "['a', 'c', 'e']"
      ]
     },
     "execution_count": 23,
     "metadata": {},
     "output_type": "execute_result"
    }
   ],
   "source": [
    "l = [[\"a\", \"b\"], [\"c\", \"d\"], [\"e\"]]\n",
    "firsts(l)"
   ]
  },
  {
   "cell_type": "markdown",
   "id": "423e0214-3a4f-4552-8436-a5e0445e852e",
   "metadata": {},
   "source": [
    "## Third Commandment\n",
    "### When building a list, describe the first typical element, and then *cons* it onto the natural recursion"
   ]
  },
  {
   "cell_type": "code",
   "execution_count": 24,
   "id": "5488ee90-0d7e-45bf-9993-d90d4c6cefa0",
   "metadata": {},
   "outputs": [],
   "source": [
    "def insertR(new, old, lat):\n",
    "    if null(lat):\n",
    "        return []\n",
    "    elif eq(car(lat), old):\n",
    "        return cons(old, cons(new, cdr(lat)))\n",
    "#         return cons(new, lat) # this also works\n",
    "    else:\n",
    "        return cons(car(lat), insertR(new, old, cdr(lat)))"
   ]
  },
  {
   "cell_type": "code",
   "execution_count": 25,
   "id": "5cd0a3ee-bbd2-4259-b5a6-f40717f384f9",
   "metadata": {},
   "outputs": [],
   "source": [
    "lat = [\"a\", \"b\", \"c\", \"e\", \"f\"]\n",
    "old = \"c\"\n",
    "new = \"d\""
   ]
  },
  {
   "cell_type": "code",
   "execution_count": 26,
   "id": "b96c4174-852d-4bb5-92d1-bb4e03fde084",
   "metadata": {},
   "outputs": [
    {
     "data": {
      "text/plain": [
       "['a', 'b', 'c', 'd', 'e', 'f']"
      ]
     },
     "execution_count": 26,
     "metadata": {},
     "output_type": "execute_result"
    }
   ],
   "source": [
    "insertR(new, old, lat)"
   ]
  },
  {
   "cell_type": "code",
   "execution_count": 27,
   "id": "609497f8-c418-490e-a02b-be0c5e508a48",
   "metadata": {},
   "outputs": [],
   "source": [
    "def insertL(new, old, lat):\n",
    "    if null(lat):\n",
    "        return []\n",
    "    elif eq(car(lat), old):\n",
    "        return cons(new, cons(old, cdr(lat)))\n",
    "#         return cons(new, lat) # this also works\n",
    "    else:\n",
    "        return cons(car(lat), insertL(new, old, cdr(lat)))"
   ]
  },
  {
   "cell_type": "code",
   "execution_count": 28,
   "id": "5ae803e8-d98b-4319-8033-b1efbad826b0",
   "metadata": {},
   "outputs": [
    {
     "data": {
      "text/plain": [
       "['a', 'b', 'd', 'c', 'e', 'f']"
      ]
     },
     "execution_count": 28,
     "metadata": {},
     "output_type": "execute_result"
    }
   ],
   "source": [
    "insertL(new, old, lat)"
   ]
  },
  {
   "cell_type": "code",
   "execution_count": 29,
   "id": "fb6e7b6a-01c5-47ae-9b88-a693f472e6d4",
   "metadata": {},
   "outputs": [],
   "source": [
    "def subst(new, old, lat):\n",
    "    if null(lat): \n",
    "        return []\n",
    "    elif eq(car(lat), old):\n",
    "        return cons(new, cdr(lat))\n",
    "    else:\n",
    "        return cons(car(lat), subst(new, old, cdr(lat)))"
   ]
  },
  {
   "cell_type": "code",
   "execution_count": 30,
   "id": "10934b32-c81a-4cc6-8102-a80b2a842241",
   "metadata": {},
   "outputs": [
    {
     "data": {
      "text/plain": [
       "['a', 'b', 'd', 'e', 'f']"
      ]
     },
     "execution_count": 30,
     "metadata": {},
     "output_type": "execute_result"
    }
   ],
   "source": [
    "subst(new, old, lat)"
   ]
  },
  {
   "cell_type": "code",
   "execution_count": 31,
   "id": "c3e19cf0-5be8-48d0-b257-46580e5ae5c1",
   "metadata": {},
   "outputs": [],
   "source": [
    "def subst2(new, o1, o2, lat):\n",
    "    if null(lat):\n",
    "        return []\n",
    "    elif car(lat) in (o1, o2):\n",
    "        return cons(new, cdr(lat))\n",
    "    else:\n",
    "        return cons(car(lat), subst2(new, o1, o2, cdr(lat)))"
   ]
  },
  {
   "cell_type": "code",
   "execution_count": 32,
   "id": "af1fe9ad-c456-4599-8890-6d98f9b7235f",
   "metadata": {},
   "outputs": [
    {
     "data": {
      "text/plain": [
       "['vanilla', 'ice', 'cream', 'with', 'chocolate', 'topping']"
      ]
     },
     "execution_count": 32,
     "metadata": {},
     "output_type": "execute_result"
    }
   ],
   "source": [
    "new = \"vanilla\"\n",
    "o1 = \"chocolate\"\n",
    "o2 = \"banana\"\n",
    "lat = [\"banana\", \"ice\", \"cream\", \"with\", \"chocolate\", \"topping\"]\n",
    "subst2(new, o1, o2, lat)"
   ]
  },
  {
   "cell_type": "code",
   "execution_count": 33,
   "id": "16cf5f15-4b0d-4859-9308-f118a27cd95e",
   "metadata": {},
   "outputs": [],
   "source": [
    "def multirember(a, lat):\n",
    "    if null(lat):\n",
    "        return []\n",
    "    elif eq(car(lat), a):\n",
    "        return multirember(a, cdr(lat))\n",
    "    else:\n",
    "        return cons(car(lat), multirember(a, cdr(lat)))"
   ]
  },
  {
   "cell_type": "code",
   "execution_count": 34,
   "id": "a2e5d53e-ab0f-4c9a-90c0-d7fffcde2ac3",
   "metadata": {},
   "outputs": [
    {
     "data": {
      "text/plain": [
       "['coffee', 'tea', 'and', 'hick']"
      ]
     },
     "execution_count": 34,
     "metadata": {},
     "output_type": "execute_result"
    }
   ],
   "source": [
    "lat = ['coffee', 'cup', 'tea', 'cup', 'and', 'hick', 'cup']\n",
    "a = 'cup'\n",
    "multirember(a, lat)"
   ]
  },
  {
   "cell_type": "code",
   "execution_count": 35,
   "id": "94a56b82-c21f-4bdb-9902-fb95bd17ce1a",
   "metadata": {},
   "outputs": [],
   "source": [
    "def multiinsertR(new, old, lat):\n",
    "    if null(lat):\n",
    "        return []\n",
    "    elif eq(old, car(lat)):\n",
    "        return cons(car(lat), cons(new, multiinsertR(new, old, cdr(lat))))\n",
    "    else:\n",
    "        return cons(car(lat), multiinsertR(new, old, cdr(lat)))"
   ]
  },
  {
   "cell_type": "code",
   "execution_count": 36,
   "id": "0758afa3-c5af-4957-accf-bd7b2bc08ba2",
   "metadata": {},
   "outputs": [],
   "source": [
    "def wrongmultiinsertL(new, old, lat):\n",
    "    if null(lat):\n",
    "        return []\n",
    "    elif eq(car(lat), old):\n",
    "        cons(new, cons(old, wrongmultiinsertL(new, old, lat)))\n",
    "    else:\n",
    "        cons(car(lat), wrongmultiinsertL(new, old, cdr(lat)))\n",
    "        "
   ]
  },
  {
   "cell_type": "code",
   "execution_count": 37,
   "id": "e74e8138-2d1b-4e3f-bf09-b83ff9ccd862",
   "metadata": {
    "scrolled": true,
    "tags": []
   },
   "outputs": [
    {
     "ename": "RecursionError",
     "evalue": "maximum recursion depth exceeded while calling a Python object",
     "output_type": "error",
     "traceback": [
      "\u001b[0;31m---------------------------------------------------------------------------\u001b[0m",
      "\u001b[0;31mRecursionError\u001b[0m                            Traceback (most recent call last)",
      "\u001b[0;32m<ipython-input-37-c4392a28aff9>\u001b[0m in \u001b[0;36m<module>\u001b[0;34m\u001b[0m\n\u001b[1;32m      2\u001b[0m \u001b[0mold\u001b[0m \u001b[0;34m=\u001b[0m \u001b[0;34m\"fish\"\u001b[0m\u001b[0;34m\u001b[0m\u001b[0;34m\u001b[0m\u001b[0m\n\u001b[1;32m      3\u001b[0m \u001b[0mlat\u001b[0m \u001b[0;34m=\u001b[0m \u001b[0;34m[\u001b[0m\u001b[0;34m\"chips\"\u001b[0m\u001b[0;34m,\u001b[0m \u001b[0;34m\"and\"\u001b[0m\u001b[0;34m,\u001b[0m \u001b[0;34m\"fish\"\u001b[0m\u001b[0;34m,\u001b[0m \u001b[0;34m\"or\"\u001b[0m\u001b[0;34m,\u001b[0m \u001b[0;34m\"fish\"\u001b[0m\u001b[0;34m,\u001b[0m \u001b[0;34m\"and\"\u001b[0m\u001b[0;34m,\u001b[0m \u001b[0;34m\"fried\"\u001b[0m\u001b[0;34m]\u001b[0m\u001b[0;34m\u001b[0m\u001b[0;34m\u001b[0m\u001b[0m\n\u001b[0;32m----> 4\u001b[0;31m \u001b[0mwrongmultiinsertL\u001b[0m\u001b[0;34m(\u001b[0m\u001b[0mnew\u001b[0m\u001b[0;34m,\u001b[0m \u001b[0mold\u001b[0m\u001b[0;34m,\u001b[0m \u001b[0mlat\u001b[0m\u001b[0;34m)\u001b[0m\u001b[0;34m\u001b[0m\u001b[0;34m\u001b[0m\u001b[0m\n\u001b[0m",
      "\u001b[0;32m<ipython-input-36-d09d689311ec>\u001b[0m in \u001b[0;36mwrongmultiinsertL\u001b[0;34m(new, old, lat)\u001b[0m\n\u001b[1;32m      5\u001b[0m         \u001b[0mcons\u001b[0m\u001b[0;34m(\u001b[0m\u001b[0mnew\u001b[0m\u001b[0;34m,\u001b[0m \u001b[0mcons\u001b[0m\u001b[0;34m(\u001b[0m\u001b[0mold\u001b[0m\u001b[0;34m,\u001b[0m \u001b[0mwrongmultiinsertL\u001b[0m\u001b[0;34m(\u001b[0m\u001b[0mnew\u001b[0m\u001b[0;34m,\u001b[0m \u001b[0mold\u001b[0m\u001b[0;34m,\u001b[0m \u001b[0mlat\u001b[0m\u001b[0;34m)\u001b[0m\u001b[0;34m)\u001b[0m\u001b[0;34m)\u001b[0m\u001b[0;34m\u001b[0m\u001b[0;34m\u001b[0m\u001b[0m\n\u001b[1;32m      6\u001b[0m     \u001b[0;32melse\u001b[0m\u001b[0;34m:\u001b[0m\u001b[0;34m\u001b[0m\u001b[0;34m\u001b[0m\u001b[0m\n\u001b[0;32m----> 7\u001b[0;31m         \u001b[0mcons\u001b[0m\u001b[0;34m(\u001b[0m\u001b[0mcar\u001b[0m\u001b[0;34m(\u001b[0m\u001b[0mlat\u001b[0m\u001b[0;34m)\u001b[0m\u001b[0;34m,\u001b[0m \u001b[0mwrongmultiinsertL\u001b[0m\u001b[0;34m(\u001b[0m\u001b[0mnew\u001b[0m\u001b[0;34m,\u001b[0m \u001b[0mold\u001b[0m\u001b[0;34m,\u001b[0m \u001b[0mcdr\u001b[0m\u001b[0;34m(\u001b[0m\u001b[0mlat\u001b[0m\u001b[0;34m)\u001b[0m\u001b[0;34m)\u001b[0m\u001b[0;34m)\u001b[0m\u001b[0;34m\u001b[0m\u001b[0;34m\u001b[0m\u001b[0m\n\u001b[0m\u001b[1;32m      8\u001b[0m \u001b[0;34m\u001b[0m\u001b[0m\n",
      "\u001b[0;32m<ipython-input-36-d09d689311ec>\u001b[0m in \u001b[0;36mwrongmultiinsertL\u001b[0;34m(new, old, lat)\u001b[0m\n\u001b[1;32m      5\u001b[0m         \u001b[0mcons\u001b[0m\u001b[0;34m(\u001b[0m\u001b[0mnew\u001b[0m\u001b[0;34m,\u001b[0m \u001b[0mcons\u001b[0m\u001b[0;34m(\u001b[0m\u001b[0mold\u001b[0m\u001b[0;34m,\u001b[0m \u001b[0mwrongmultiinsertL\u001b[0m\u001b[0;34m(\u001b[0m\u001b[0mnew\u001b[0m\u001b[0;34m,\u001b[0m \u001b[0mold\u001b[0m\u001b[0;34m,\u001b[0m \u001b[0mlat\u001b[0m\u001b[0;34m)\u001b[0m\u001b[0;34m)\u001b[0m\u001b[0;34m)\u001b[0m\u001b[0;34m\u001b[0m\u001b[0;34m\u001b[0m\u001b[0m\n\u001b[1;32m      6\u001b[0m     \u001b[0;32melse\u001b[0m\u001b[0;34m:\u001b[0m\u001b[0;34m\u001b[0m\u001b[0;34m\u001b[0m\u001b[0m\n\u001b[0;32m----> 7\u001b[0;31m         \u001b[0mcons\u001b[0m\u001b[0;34m(\u001b[0m\u001b[0mcar\u001b[0m\u001b[0;34m(\u001b[0m\u001b[0mlat\u001b[0m\u001b[0;34m)\u001b[0m\u001b[0;34m,\u001b[0m \u001b[0mwrongmultiinsertL\u001b[0m\u001b[0;34m(\u001b[0m\u001b[0mnew\u001b[0m\u001b[0;34m,\u001b[0m \u001b[0mold\u001b[0m\u001b[0;34m,\u001b[0m \u001b[0mcdr\u001b[0m\u001b[0;34m(\u001b[0m\u001b[0mlat\u001b[0m\u001b[0;34m)\u001b[0m\u001b[0;34m)\u001b[0m\u001b[0;34m)\u001b[0m\u001b[0;34m\u001b[0m\u001b[0;34m\u001b[0m\u001b[0m\n\u001b[0m\u001b[1;32m      8\u001b[0m \u001b[0;34m\u001b[0m\u001b[0m\n",
      "\u001b[0;32m<ipython-input-36-d09d689311ec>\u001b[0m in \u001b[0;36mwrongmultiinsertL\u001b[0;34m(new, old, lat)\u001b[0m\n\u001b[1;32m      3\u001b[0m         \u001b[0;32mreturn\u001b[0m \u001b[0;34m[\u001b[0m\u001b[0;34m]\u001b[0m\u001b[0;34m\u001b[0m\u001b[0;34m\u001b[0m\u001b[0m\n\u001b[1;32m      4\u001b[0m     \u001b[0;32melif\u001b[0m \u001b[0meq\u001b[0m\u001b[0;34m(\u001b[0m\u001b[0mcar\u001b[0m\u001b[0;34m(\u001b[0m\u001b[0mlat\u001b[0m\u001b[0;34m)\u001b[0m\u001b[0;34m,\u001b[0m \u001b[0mold\u001b[0m\u001b[0;34m)\u001b[0m\u001b[0;34m:\u001b[0m\u001b[0;34m\u001b[0m\u001b[0;34m\u001b[0m\u001b[0m\n\u001b[0;32m----> 5\u001b[0;31m         \u001b[0mcons\u001b[0m\u001b[0;34m(\u001b[0m\u001b[0mnew\u001b[0m\u001b[0;34m,\u001b[0m \u001b[0mcons\u001b[0m\u001b[0;34m(\u001b[0m\u001b[0mold\u001b[0m\u001b[0;34m,\u001b[0m \u001b[0mwrongmultiinsertL\u001b[0m\u001b[0;34m(\u001b[0m\u001b[0mnew\u001b[0m\u001b[0;34m,\u001b[0m \u001b[0mold\u001b[0m\u001b[0;34m,\u001b[0m \u001b[0mlat\u001b[0m\u001b[0;34m)\u001b[0m\u001b[0;34m)\u001b[0m\u001b[0;34m)\u001b[0m\u001b[0;34m\u001b[0m\u001b[0;34m\u001b[0m\u001b[0m\n\u001b[0m\u001b[1;32m      6\u001b[0m     \u001b[0;32melse\u001b[0m\u001b[0;34m:\u001b[0m\u001b[0;34m\u001b[0m\u001b[0;34m\u001b[0m\u001b[0m\n\u001b[1;32m      7\u001b[0m         \u001b[0mcons\u001b[0m\u001b[0;34m(\u001b[0m\u001b[0mcar\u001b[0m\u001b[0;34m(\u001b[0m\u001b[0mlat\u001b[0m\u001b[0;34m)\u001b[0m\u001b[0;34m,\u001b[0m \u001b[0mwrongmultiinsertL\u001b[0m\u001b[0;34m(\u001b[0m\u001b[0mnew\u001b[0m\u001b[0;34m,\u001b[0m \u001b[0mold\u001b[0m\u001b[0;34m,\u001b[0m \u001b[0mcdr\u001b[0m\u001b[0;34m(\u001b[0m\u001b[0mlat\u001b[0m\u001b[0;34m)\u001b[0m\u001b[0;34m)\u001b[0m\u001b[0;34m)\u001b[0m\u001b[0;34m\u001b[0m\u001b[0;34m\u001b[0m\u001b[0m\n",
      "... last 1 frames repeated, from the frame below ...\n",
      "\u001b[0;32m<ipython-input-36-d09d689311ec>\u001b[0m in \u001b[0;36mwrongmultiinsertL\u001b[0;34m(new, old, lat)\u001b[0m\n\u001b[1;32m      3\u001b[0m         \u001b[0;32mreturn\u001b[0m \u001b[0;34m[\u001b[0m\u001b[0;34m]\u001b[0m\u001b[0;34m\u001b[0m\u001b[0;34m\u001b[0m\u001b[0m\n\u001b[1;32m      4\u001b[0m     \u001b[0;32melif\u001b[0m \u001b[0meq\u001b[0m\u001b[0;34m(\u001b[0m\u001b[0mcar\u001b[0m\u001b[0;34m(\u001b[0m\u001b[0mlat\u001b[0m\u001b[0;34m)\u001b[0m\u001b[0;34m,\u001b[0m \u001b[0mold\u001b[0m\u001b[0;34m)\u001b[0m\u001b[0;34m:\u001b[0m\u001b[0;34m\u001b[0m\u001b[0;34m\u001b[0m\u001b[0m\n\u001b[0;32m----> 5\u001b[0;31m         \u001b[0mcons\u001b[0m\u001b[0;34m(\u001b[0m\u001b[0mnew\u001b[0m\u001b[0;34m,\u001b[0m \u001b[0mcons\u001b[0m\u001b[0;34m(\u001b[0m\u001b[0mold\u001b[0m\u001b[0;34m,\u001b[0m \u001b[0mwrongmultiinsertL\u001b[0m\u001b[0;34m(\u001b[0m\u001b[0mnew\u001b[0m\u001b[0;34m,\u001b[0m \u001b[0mold\u001b[0m\u001b[0;34m,\u001b[0m \u001b[0mlat\u001b[0m\u001b[0;34m)\u001b[0m\u001b[0;34m)\u001b[0m\u001b[0;34m)\u001b[0m\u001b[0;34m\u001b[0m\u001b[0;34m\u001b[0m\u001b[0m\n\u001b[0m\u001b[1;32m      6\u001b[0m     \u001b[0;32melse\u001b[0m\u001b[0;34m:\u001b[0m\u001b[0;34m\u001b[0m\u001b[0;34m\u001b[0m\u001b[0m\n\u001b[1;32m      7\u001b[0m         \u001b[0mcons\u001b[0m\u001b[0;34m(\u001b[0m\u001b[0mcar\u001b[0m\u001b[0;34m(\u001b[0m\u001b[0mlat\u001b[0m\u001b[0;34m)\u001b[0m\u001b[0;34m,\u001b[0m \u001b[0mwrongmultiinsertL\u001b[0m\u001b[0;34m(\u001b[0m\u001b[0mnew\u001b[0m\u001b[0;34m,\u001b[0m \u001b[0mold\u001b[0m\u001b[0;34m,\u001b[0m \u001b[0mcdr\u001b[0m\u001b[0;34m(\u001b[0m\u001b[0mlat\u001b[0m\u001b[0;34m)\u001b[0m\u001b[0;34m)\u001b[0m\u001b[0;34m)\u001b[0m\u001b[0;34m\u001b[0m\u001b[0;34m\u001b[0m\u001b[0m\n",
      "\u001b[0;31mRecursionError\u001b[0m: maximum recursion depth exceeded while calling a Python object"
     ]
    }
   ],
   "source": [
    "new = \"fried\"\n",
    "old = \"fish\"\n",
    "lat = [\"chips\", \"and\", \"fish\", \"or\", \"fish\", \"and\", \"fried\"]\n",
    "wrongmultiinsertL(new, old, lat)"
   ]
  },
  {
   "cell_type": "code",
   "execution_count": 38,
   "id": "1f8f61ca-de70-4fb0-94e4-12e88167079c",
   "metadata": {},
   "outputs": [],
   "source": [
    "def multiinsertL(new, old, lat):\n",
    "    if null(lat):\n",
    "        return []\n",
    "    elif eq(car(lat), old):\n",
    "        return cons(new, cons(old, multiinsertL(new, old, cdr(lat))))\n",
    "    else:\n",
    "        return cons(car(lat), multiinsertL(new, old, cdr(lat)))"
   ]
  },
  {
   "cell_type": "code",
   "execution_count": 39,
   "id": "e4d98654-f992-4800-b826-4070b37f49b4",
   "metadata": {},
   "outputs": [
    {
     "data": {
      "text/plain": [
       "['chips', 'and', 'fried', 'fish', 'or', 'fried', 'fish', 'and', 'fried']"
      ]
     },
     "execution_count": 39,
     "metadata": {},
     "output_type": "execute_result"
    }
   ],
   "source": [
    "multiinsertL(new, old, lat)"
   ]
  },
  {
   "cell_type": "markdown",
   "id": "eebe2444-2a4d-4571-af80-95c53b573929",
   "metadata": {},
   "source": [
    "## The Fourth Commandment\n",
    "#### (*preliminary*)\n",
    "### Always change at least one argument while recurring. It must be changed to be closer to termination. The changing argument must be tested in the termination condition: when using *cdr*, test termination with *null?*."
   ]
  },
  {
   "cell_type": "code",
   "execution_count": 40,
   "id": "d947bfd2-7520-4702-bbb9-2277e7d39ce4",
   "metadata": {},
   "outputs": [],
   "source": [
    "def multisubst(new, old, lat):\n",
    "    if null(lat):\n",
    "        return []\n",
    "    elif eq(car(lat), old):\n",
    "        return cons(new, multisubst(new, old, cdr(lat)))\n",
    "    else:\n",
    "        return cons(car(lat), multisubst(new, old, cdr(lat)))"
   ]
  },
  {
   "cell_type": "code",
   "execution_count": 41,
   "id": "30220f06-7024-42df-9286-58b82aecafe8",
   "metadata": {},
   "outputs": [
    {
     "data": {
      "text/plain": [
       "['chips', 'and', 'fried', 'or', 'fried', 'and', 'fried']"
      ]
     },
     "execution_count": 41,
     "metadata": {},
     "output_type": "execute_result"
    }
   ],
   "source": [
    "multisubst(new, old, lat)"
   ]
  },
  {
   "cell_type": "markdown",
   "id": "2aa2c0a2-9967-48ad-aa9b-040757043b51",
   "metadata": {},
   "source": [
    "# Chapter 4: Numbers Games"
   ]
  },
  {
   "cell_type": "code",
   "execution_count": 42,
   "id": "62dd4105-2cb2-4f31-b961-fafbb2d6ff5b",
   "metadata": {},
   "outputs": [],
   "source": [
    "def plus(a, b):\n",
    "    if zero(b):\n",
    "        return a\n",
    "    else:\n",
    "        return plus(add1(a), sub1(b))"
   ]
  },
  {
   "cell_type": "code",
   "execution_count": 43,
   "id": "cbbb7782-1498-4ae5-b82c-f28a50cc347f",
   "metadata": {},
   "outputs": [
    {
     "data": {
      "text/plain": [
       "26"
      ]
     },
     "execution_count": 43,
     "metadata": {},
     "output_type": "execute_result"
    }
   ],
   "source": [
    "plus(12, 14)"
   ]
  },
  {
   "cell_type": "code",
   "execution_count": 44,
   "id": "42481d79-f9e3-474f-b880-dab47cc58890",
   "metadata": {},
   "outputs": [],
   "source": [
    "def minus(a, b):\n",
    "    if zero(b):\n",
    "        return a\n",
    "    else:\n",
    "        return sub1(minus(a, sub1(b)))"
   ]
  },
  {
   "cell_type": "code",
   "execution_count": 45,
   "id": "e4b8df6c-94bd-4dbd-98b3-13f95919d5e4",
   "metadata": {},
   "outputs": [
    {
     "data": {
      "text/plain": [
       "9"
      ]
     },
     "execution_count": 45,
     "metadata": {},
     "output_type": "execute_result"
    }
   ],
   "source": [
    "minus(17, 8)"
   ]
  },
  {
   "cell_type": "markdown",
   "id": "6e854dd8-fd3f-495b-9dd1-43dcd554a61e",
   "metadata": {},
   "source": [
    "## The First Commandment\n",
    "#### (*first revision*)\n",
    "### When recurring on a list of atoms, *lat*, ask two questions about it (*null? lat*) and else.\n",
    "### When recurring on a number, *n*, ask two questions about it: (*zero? n*) and else."
   ]
  },
  {
   "cell_type": "code",
   "execution_count": 46,
   "id": "457f85dc-b9e2-4c90-90c9-a68092ffce19",
   "metadata": {},
   "outputs": [],
   "source": [
    "def addtup(tup):\n",
    "    if null(tup):\n",
    "        return 0\n",
    "    else:\n",
    "        return plus(car(tup), addtup(cdr(tup)))"
   ]
  },
  {
   "cell_type": "code",
   "execution_count": 47,
   "id": "a488200b-6f01-45b0-9714-9bf60f6ed066",
   "metadata": {},
   "outputs": [
    {
     "data": {
      "text/plain": [
       "43"
      ]
     },
     "execution_count": 47,
     "metadata": {},
     "output_type": "execute_result"
    }
   ],
   "source": [
    "addtup([15, 6, 7, 12, 3])"
   ]
  },
  {
   "cell_type": "code",
   "execution_count": 48,
   "id": "46299448-4563-4a41-ab38-70d5847bb442",
   "metadata": {},
   "outputs": [
    {
     "data": {
      "text/plain": [
       "18"
      ]
     },
     "execution_count": 48,
     "metadata": {},
     "output_type": "execute_result"
    }
   ],
   "source": [
    "addtup([3, 5, 2,8])"
   ]
  },
  {
   "cell_type": "markdown",
   "id": "989c40e3-c76c-4945-8e75-4f7781d1cfa2",
   "metadata": {},
   "source": [
    "## The Fourth Commandment\n",
    "#### (*first revision*)\n",
    "### Always change at least one argument while recurring. It must be changed to be closer to termination. The changing argument must be tested in the termination condition:\n",
    "### when using *cdr*, test termination with *null?* and when using *sub1*, test termination with *zero?*.\n"
   ]
  },
  {
   "cell_type": "code",
   "execution_count": 49,
   "id": "d819886d-5b61-4155-8eda-02c4ac538224",
   "metadata": {},
   "outputs": [],
   "source": [
    "def multiply(n, m):\n",
    "    if zero(n):\n",
    "        return 0\n",
    "    else:\n",
    "        return plus(m, multiply(m, sub1(n)))"
   ]
  },
  {
   "cell_type": "code",
   "execution_count": 50,
   "id": "f9333eac-b919-44a8-a6dd-6c37bdd78934",
   "metadata": {},
   "outputs": [
    {
     "data": {
      "text/plain": [
       "6"
      ]
     },
     "execution_count": 50,
     "metadata": {},
     "output_type": "execute_result"
    }
   ],
   "source": [
    "multiply(2, 3)"
   ]
  },
  {
   "cell_type": "markdown",
   "id": "39534670-47fb-4903-9f25-25268c744d04",
   "metadata": {},
   "source": [
    "## The Fifth Commandment\n",
    "### When bulding a value with **+**, always use 0 for the value of the terminating line, for adding 0 does not change the value of an addition.\n",
    "### When building a value with **x**, always use 1 for the value of the terminating line, for multiplying by 1 does not change the value of multiplication\n",
    "### When building a value with *cons*, always consider () for the value of the terminating line."
   ]
  },
  {
   "cell_type": "code",
   "execution_count": 51,
   "id": "4489276f-7416-4675-85ad-8cab4555eba5",
   "metadata": {},
   "outputs": [],
   "source": [
    "def plustup(tup1, tup2):\n",
    "    if null(tup1) and null(tup2):\n",
    "        return []\n",
    "    else:\n",
    "        return cons(\n",
    "            plus(car(tup1), car(tup2)), \n",
    "            plustup(\n",
    "                cdr(tup1), \n",
    "                cdr(tup2)\n",
    "            )\n",
    "        )"
   ]
  },
  {
   "cell_type": "code",
   "execution_count": 52,
   "id": "085797f0-763c-4af3-9fda-8c3c9f1bbd3b",
   "metadata": {},
   "outputs": [
    {
     "data": {
      "text/plain": [
       "[6, 9]"
      ]
     },
     "execution_count": 52,
     "metadata": {},
     "output_type": "execute_result"
    }
   ],
   "source": [
    "tup1 = [2, 3]\n",
    "tup2 = [4, 6]\n",
    "plustup(tup1, tup2)"
   ]
  },
  {
   "cell_type": "code",
   "execution_count": 53,
   "id": "36406272-fe9e-4cbc-9a68-8bd53d2cbdf4",
   "metadata": {},
   "outputs": [
    {
     "data": {
      "text/plain": [
       "[7, 13]"
      ]
     },
     "execution_count": 53,
     "metadata": {},
     "output_type": "execute_result"
    }
   ],
   "source": [
    "tup1 = [3, 7]\n",
    "tup2 = [4, 6]\n",
    "plustup(tup1, tup2)"
   ]
  },
  {
   "cell_type": "code",
   "execution_count": 54,
   "id": "9f7d9179-50fa-453a-8850-288ac5c9a191",
   "metadata": {},
   "outputs": [],
   "source": [
    "def plusanytup(tup1, tup2):\n",
    "    if null(tup1):\n",
    "        return tup2\n",
    "    elif null(tup2):\n",
    "        return tup1\n",
    "    else:\n",
    "        return cons(\n",
    "            plus(car(tup1), car(tup2)),\n",
    "            plusanytup(\n",
    "                cdr(tup1),\n",
    "                cdr(tup2)\n",
    "            )\n",
    "        )"
   ]
  },
  {
   "cell_type": "code",
   "execution_count": 55,
   "id": "a91130b8-4a62-4d4f-829a-77487d667cc6",
   "metadata": {},
   "outputs": [
    {
     "data": {
      "text/plain": [
       "[7, 13]"
      ]
     },
     "execution_count": 55,
     "metadata": {},
     "output_type": "execute_result"
    }
   ],
   "source": [
    "plusanytup(tup1, tup2)"
   ]
  },
  {
   "cell_type": "code",
   "execution_count": 56,
   "id": "09a54241-bfe9-44af-b693-7f3cb59c5a8b",
   "metadata": {},
   "outputs": [],
   "source": [
    "def greater_than(n, m):\n",
    "    if zero(n):\n",
    "        return False\n",
    "    elif zero(m): \n",
    "        return True\n",
    "    else:\n",
    "        return greater_than(sub1(n), sub1(m))"
   ]
  },
  {
   "cell_type": "code",
   "execution_count": 57,
   "id": "c472b04e-5d9c-4293-a3c0-59600717aa38",
   "metadata": {},
   "outputs": [
    {
     "data": {
      "text/plain": [
       "False"
      ]
     },
     "execution_count": 57,
     "metadata": {},
     "output_type": "execute_result"
    }
   ],
   "source": [
    "greater_than(1,2)"
   ]
  },
  {
   "cell_type": "code",
   "execution_count": 58,
   "id": "60d26cd8-61ec-494f-9e0d-d0f004faf63f",
   "metadata": {},
   "outputs": [
    {
     "data": {
      "text/plain": [
       "False"
      ]
     },
     "execution_count": 58,
     "metadata": {},
     "output_type": "execute_result"
    }
   ],
   "source": [
    "greater_than(3,3)"
   ]
  },
  {
   "cell_type": "code",
   "execution_count": 59,
   "id": "84ad0ea0-15fb-417b-bff3-ffaacc01aa87",
   "metadata": {},
   "outputs": [
    {
     "data": {
      "text/plain": [
       "True"
      ]
     },
     "execution_count": 59,
     "metadata": {},
     "output_type": "execute_result"
    }
   ],
   "source": [
    "greater_than(2,1)"
   ]
  },
  {
   "cell_type": "code",
   "execution_count": 60,
   "id": "b22e4c69-6058-4a74-af30-754fbbc897cf",
   "metadata": {},
   "outputs": [],
   "source": [
    "def less_than(n, m):\n",
    "    if zero(m):\n",
    "        return False\n",
    "    elif zero(n):\n",
    "        return True\n",
    "    else:\n",
    "        return less_than(sub1(n), sub1(m))"
   ]
  },
  {
   "cell_type": "code",
   "execution_count": 61,
   "id": "0f211d5f-2a22-425a-8b33-ae2cedf6aacc",
   "metadata": {},
   "outputs": [
    {
     "data": {
      "text/plain": [
       "True"
      ]
     },
     "execution_count": 61,
     "metadata": {},
     "output_type": "execute_result"
    }
   ],
   "source": [
    "less_than(1, 2)"
   ]
  },
  {
   "cell_type": "code",
   "execution_count": 62,
   "id": "88a17d07-26b2-487e-8c8f-0fbc3a320bc7",
   "metadata": {},
   "outputs": [
    {
     "data": {
      "text/plain": [
       "False"
      ]
     },
     "execution_count": 62,
     "metadata": {},
     "output_type": "execute_result"
    }
   ],
   "source": [
    "less_than(3, 3)"
   ]
  },
  {
   "cell_type": "code",
   "execution_count": 63,
   "id": "dece2d65-4dc2-44f1-b8b6-dbc4d23ed409",
   "metadata": {},
   "outputs": [],
   "source": [
    "def equals(n, m):\n",
    "    if less_than(n, m) or greater_than(n, m):\n",
    "        return False\n",
    "    else:\n",
    "        return True"
   ]
  },
  {
   "cell_type": "code",
   "execution_count": 64,
   "id": "b6c5ebad-306b-4d6d-adbb-067bcb5280d8",
   "metadata": {},
   "outputs": [
    {
     "data": {
      "text/plain": [
       "False"
      ]
     },
     "execution_count": 64,
     "metadata": {},
     "output_type": "execute_result"
    }
   ],
   "source": [
    "equals(1,2)"
   ]
  },
  {
   "cell_type": "code",
   "execution_count": 65,
   "id": "081bc5a0-03e1-4038-b052-4d0feb0c4818",
   "metadata": {},
   "outputs": [
    {
     "data": {
      "text/plain": [
       "False"
      ]
     },
     "execution_count": 65,
     "metadata": {},
     "output_type": "execute_result"
    }
   ],
   "source": [
    "equals(2,1)"
   ]
  },
  {
   "cell_type": "code",
   "execution_count": 66,
   "id": "28237b8e-947a-47cf-9d67-864f4d0dece0",
   "metadata": {},
   "outputs": [
    {
     "data": {
      "text/plain": [
       "True"
      ]
     },
     "execution_count": 66,
     "metadata": {},
     "output_type": "execute_result"
    }
   ],
   "source": [
    "equals(2,2)"
   ]
  },
  {
   "cell_type": "code",
   "execution_count": 67,
   "id": "2708769a-7b36-4c81-89d3-f27275039861",
   "metadata": {},
   "outputs": [],
   "source": [
    "def exponent(n, m):\n",
    "    if zero(m):\n",
    "        return 1\n",
    "    else:\n",
    "        return multiply(n, exponent(n, sub1(m)))"
   ]
  },
  {
   "cell_type": "code",
   "execution_count": 68,
   "id": "9fedc4ae-26b1-49e7-9e99-728410c17e82",
   "metadata": {},
   "outputs": [
    {
     "data": {
      "text/plain": [
       "4"
      ]
     },
     "execution_count": 68,
     "metadata": {},
     "output_type": "execute_result"
    }
   ],
   "source": [
    "exponent(2,2)"
   ]
  },
  {
   "cell_type": "code",
   "execution_count": 69,
   "id": "5340da79-979d-4032-a31d-22a1956adb09",
   "metadata": {},
   "outputs": [
    {
     "data": {
      "text/plain": [
       "1"
      ]
     },
     "execution_count": 69,
     "metadata": {},
     "output_type": "execute_result"
    }
   ],
   "source": [
    "exponent(1, 2)"
   ]
  },
  {
   "cell_type": "code",
   "execution_count": 70,
   "id": "58c160cf-024e-411d-8abf-3cd9153d03d4",
   "metadata": {},
   "outputs": [
    {
     "ename": "RecursionError",
     "evalue": "maximum recursion depth exceeded in comparison",
     "output_type": "error",
     "traceback": [
      "\u001b[0;31m---------------------------------------------------------------------------\u001b[0m",
      "\u001b[0;31mRecursionError\u001b[0m                            Traceback (most recent call last)",
      "\u001b[0;32m<ipython-input-70-1ada04f8b01a>\u001b[0m in \u001b[0;36m<module>\u001b[0;34m\u001b[0m\n\u001b[1;32m      1\u001b[0m \u001b[0;31m## this doesn't work and i can tell why, but i haven't figured out how to fix it\u001b[0m\u001b[0;34m\u001b[0m\u001b[0;34m\u001b[0m\u001b[0;34m\u001b[0m\u001b[0m\n\u001b[0;32m----> 2\u001b[0;31m \u001b[0mexponent\u001b[0m\u001b[0;34m(\u001b[0m\u001b[0;36m5\u001b[0m\u001b[0;34m,\u001b[0m \u001b[0;36m6\u001b[0m\u001b[0;34m)\u001b[0m\u001b[0;34m\u001b[0m\u001b[0;34m\u001b[0m\u001b[0m\n\u001b[0m",
      "\u001b[0;32m<ipython-input-67-7825c2a98311>\u001b[0m in \u001b[0;36mexponent\u001b[0;34m(n, m)\u001b[0m\n\u001b[1;32m      3\u001b[0m         \u001b[0;32mreturn\u001b[0m \u001b[0;36m1\u001b[0m\u001b[0;34m\u001b[0m\u001b[0;34m\u001b[0m\u001b[0m\n\u001b[1;32m      4\u001b[0m     \u001b[0;32melse\u001b[0m\u001b[0;34m:\u001b[0m\u001b[0;34m\u001b[0m\u001b[0;34m\u001b[0m\u001b[0m\n\u001b[0;32m----> 5\u001b[0;31m         \u001b[0;32mreturn\u001b[0m \u001b[0mmultiply\u001b[0m\u001b[0;34m(\u001b[0m\u001b[0mn\u001b[0m\u001b[0;34m,\u001b[0m \u001b[0mexponent\u001b[0m\u001b[0;34m(\u001b[0m\u001b[0mn\u001b[0m\u001b[0;34m,\u001b[0m \u001b[0msub1\u001b[0m\u001b[0;34m(\u001b[0m\u001b[0mm\u001b[0m\u001b[0;34m)\u001b[0m\u001b[0;34m)\u001b[0m\u001b[0;34m)\u001b[0m\u001b[0;34m\u001b[0m\u001b[0;34m\u001b[0m\u001b[0m\n\u001b[0m",
      "\u001b[0;32m<ipython-input-49-93b66823a936>\u001b[0m in \u001b[0;36mmultiply\u001b[0;34m(n, m)\u001b[0m\n\u001b[1;32m      3\u001b[0m         \u001b[0;32mreturn\u001b[0m \u001b[0;36m0\u001b[0m\u001b[0;34m\u001b[0m\u001b[0;34m\u001b[0m\u001b[0m\n\u001b[1;32m      4\u001b[0m     \u001b[0;32melse\u001b[0m\u001b[0;34m:\u001b[0m\u001b[0;34m\u001b[0m\u001b[0;34m\u001b[0m\u001b[0m\n\u001b[0;32m----> 5\u001b[0;31m         \u001b[0;32mreturn\u001b[0m \u001b[0mplus\u001b[0m\u001b[0;34m(\u001b[0m\u001b[0mm\u001b[0m\u001b[0;34m,\u001b[0m \u001b[0mmultiply\u001b[0m\u001b[0;34m(\u001b[0m\u001b[0mm\u001b[0m\u001b[0;34m,\u001b[0m \u001b[0msub1\u001b[0m\u001b[0;34m(\u001b[0m\u001b[0mn\u001b[0m\u001b[0;34m)\u001b[0m\u001b[0;34m)\u001b[0m\u001b[0;34m)\u001b[0m\u001b[0;34m\u001b[0m\u001b[0;34m\u001b[0m\u001b[0m\n\u001b[0m",
      "\u001b[0;32m<ipython-input-49-93b66823a936>\u001b[0m in \u001b[0;36mmultiply\u001b[0;34m(n, m)\u001b[0m\n\u001b[1;32m      3\u001b[0m         \u001b[0;32mreturn\u001b[0m \u001b[0;36m0\u001b[0m\u001b[0;34m\u001b[0m\u001b[0;34m\u001b[0m\u001b[0m\n\u001b[1;32m      4\u001b[0m     \u001b[0;32melse\u001b[0m\u001b[0;34m:\u001b[0m\u001b[0;34m\u001b[0m\u001b[0;34m\u001b[0m\u001b[0m\n\u001b[0;32m----> 5\u001b[0;31m         \u001b[0;32mreturn\u001b[0m \u001b[0mplus\u001b[0m\u001b[0;34m(\u001b[0m\u001b[0mm\u001b[0m\u001b[0;34m,\u001b[0m \u001b[0mmultiply\u001b[0m\u001b[0;34m(\u001b[0m\u001b[0mm\u001b[0m\u001b[0;34m,\u001b[0m \u001b[0msub1\u001b[0m\u001b[0;34m(\u001b[0m\u001b[0mn\u001b[0m\u001b[0;34m)\u001b[0m\u001b[0;34m)\u001b[0m\u001b[0;34m)\u001b[0m\u001b[0;34m\u001b[0m\u001b[0;34m\u001b[0m\u001b[0m\n\u001b[0m",
      "\u001b[0;32m<ipython-input-49-93b66823a936>\u001b[0m in \u001b[0;36mmultiply\u001b[0;34m(n, m)\u001b[0m\n\u001b[1;32m      3\u001b[0m         \u001b[0;32mreturn\u001b[0m \u001b[0;36m0\u001b[0m\u001b[0;34m\u001b[0m\u001b[0;34m\u001b[0m\u001b[0m\n\u001b[1;32m      4\u001b[0m     \u001b[0;32melse\u001b[0m\u001b[0;34m:\u001b[0m\u001b[0;34m\u001b[0m\u001b[0;34m\u001b[0m\u001b[0m\n\u001b[0;32m----> 5\u001b[0;31m         \u001b[0;32mreturn\u001b[0m \u001b[0mplus\u001b[0m\u001b[0;34m(\u001b[0m\u001b[0mm\u001b[0m\u001b[0;34m,\u001b[0m \u001b[0mmultiply\u001b[0m\u001b[0;34m(\u001b[0m\u001b[0mm\u001b[0m\u001b[0;34m,\u001b[0m \u001b[0msub1\u001b[0m\u001b[0;34m(\u001b[0m\u001b[0mn\u001b[0m\u001b[0;34m)\u001b[0m\u001b[0;34m)\u001b[0m\u001b[0;34m)\u001b[0m\u001b[0;34m\u001b[0m\u001b[0;34m\u001b[0m\u001b[0m\n\u001b[0m",
      "\u001b[0;32m<ipython-input-49-93b66823a936>\u001b[0m in \u001b[0;36mmultiply\u001b[0;34m(n, m)\u001b[0m\n\u001b[1;32m      3\u001b[0m         \u001b[0;32mreturn\u001b[0m \u001b[0;36m0\u001b[0m\u001b[0;34m\u001b[0m\u001b[0;34m\u001b[0m\u001b[0m\n\u001b[1;32m      4\u001b[0m     \u001b[0;32melse\u001b[0m\u001b[0;34m:\u001b[0m\u001b[0;34m\u001b[0m\u001b[0;34m\u001b[0m\u001b[0m\n\u001b[0;32m----> 5\u001b[0;31m         \u001b[0;32mreturn\u001b[0m \u001b[0mplus\u001b[0m\u001b[0;34m(\u001b[0m\u001b[0mm\u001b[0m\u001b[0;34m,\u001b[0m \u001b[0mmultiply\u001b[0m\u001b[0;34m(\u001b[0m\u001b[0mm\u001b[0m\u001b[0;34m,\u001b[0m \u001b[0msub1\u001b[0m\u001b[0;34m(\u001b[0m\u001b[0mn\u001b[0m\u001b[0;34m)\u001b[0m\u001b[0;34m)\u001b[0m\u001b[0;34m)\u001b[0m\u001b[0;34m\u001b[0m\u001b[0;34m\u001b[0m\u001b[0m\n\u001b[0m",
      "\u001b[0;32m<ipython-input-49-93b66823a936>\u001b[0m in \u001b[0;36mmultiply\u001b[0;34m(n, m)\u001b[0m\n\u001b[1;32m      3\u001b[0m         \u001b[0;32mreturn\u001b[0m \u001b[0;36m0\u001b[0m\u001b[0;34m\u001b[0m\u001b[0;34m\u001b[0m\u001b[0m\n\u001b[1;32m      4\u001b[0m     \u001b[0;32melse\u001b[0m\u001b[0;34m:\u001b[0m\u001b[0;34m\u001b[0m\u001b[0;34m\u001b[0m\u001b[0m\n\u001b[0;32m----> 5\u001b[0;31m         \u001b[0;32mreturn\u001b[0m \u001b[0mplus\u001b[0m\u001b[0;34m(\u001b[0m\u001b[0mm\u001b[0m\u001b[0;34m,\u001b[0m \u001b[0mmultiply\u001b[0m\u001b[0;34m(\u001b[0m\u001b[0mm\u001b[0m\u001b[0;34m,\u001b[0m \u001b[0msub1\u001b[0m\u001b[0;34m(\u001b[0m\u001b[0mn\u001b[0m\u001b[0;34m)\u001b[0m\u001b[0;34m)\u001b[0m\u001b[0;34m)\u001b[0m\u001b[0;34m\u001b[0m\u001b[0;34m\u001b[0m\u001b[0m\n\u001b[0m",
      "\u001b[0;32m<ipython-input-49-93b66823a936>\u001b[0m in \u001b[0;36mmultiply\u001b[0;34m(n, m)\u001b[0m\n\u001b[1;32m      3\u001b[0m         \u001b[0;32mreturn\u001b[0m \u001b[0;36m0\u001b[0m\u001b[0;34m\u001b[0m\u001b[0;34m\u001b[0m\u001b[0m\n\u001b[1;32m      4\u001b[0m     \u001b[0;32melse\u001b[0m\u001b[0;34m:\u001b[0m\u001b[0;34m\u001b[0m\u001b[0;34m\u001b[0m\u001b[0m\n\u001b[0;32m----> 5\u001b[0;31m         \u001b[0;32mreturn\u001b[0m \u001b[0mplus\u001b[0m\u001b[0;34m(\u001b[0m\u001b[0mm\u001b[0m\u001b[0;34m,\u001b[0m \u001b[0mmultiply\u001b[0m\u001b[0;34m(\u001b[0m\u001b[0mm\u001b[0m\u001b[0;34m,\u001b[0m \u001b[0msub1\u001b[0m\u001b[0;34m(\u001b[0m\u001b[0mn\u001b[0m\u001b[0;34m)\u001b[0m\u001b[0;34m)\u001b[0m\u001b[0;34m)\u001b[0m\u001b[0;34m\u001b[0m\u001b[0;34m\u001b[0m\u001b[0m\n\u001b[0m",
      "\u001b[0;32m<ipython-input-49-93b66823a936>\u001b[0m in \u001b[0;36mmultiply\u001b[0;34m(n, m)\u001b[0m\n\u001b[1;32m      3\u001b[0m         \u001b[0;32mreturn\u001b[0m \u001b[0;36m0\u001b[0m\u001b[0;34m\u001b[0m\u001b[0;34m\u001b[0m\u001b[0m\n\u001b[1;32m      4\u001b[0m     \u001b[0;32melse\u001b[0m\u001b[0;34m:\u001b[0m\u001b[0;34m\u001b[0m\u001b[0;34m\u001b[0m\u001b[0m\n\u001b[0;32m----> 5\u001b[0;31m         \u001b[0;32mreturn\u001b[0m \u001b[0mplus\u001b[0m\u001b[0;34m(\u001b[0m\u001b[0mm\u001b[0m\u001b[0;34m,\u001b[0m \u001b[0mmultiply\u001b[0m\u001b[0;34m(\u001b[0m\u001b[0mm\u001b[0m\u001b[0;34m,\u001b[0m \u001b[0msub1\u001b[0m\u001b[0;34m(\u001b[0m\u001b[0mn\u001b[0m\u001b[0;34m)\u001b[0m\u001b[0;34m)\u001b[0m\u001b[0;34m)\u001b[0m\u001b[0;34m\u001b[0m\u001b[0;34m\u001b[0m\u001b[0m\n\u001b[0m",
      "\u001b[0;32m<ipython-input-49-93b66823a936>\u001b[0m in \u001b[0;36mmultiply\u001b[0;34m(n, m)\u001b[0m\n\u001b[1;32m      3\u001b[0m         \u001b[0;32mreturn\u001b[0m \u001b[0;36m0\u001b[0m\u001b[0;34m\u001b[0m\u001b[0;34m\u001b[0m\u001b[0m\n\u001b[1;32m      4\u001b[0m     \u001b[0;32melse\u001b[0m\u001b[0;34m:\u001b[0m\u001b[0;34m\u001b[0m\u001b[0;34m\u001b[0m\u001b[0m\n\u001b[0;32m----> 5\u001b[0;31m         \u001b[0;32mreturn\u001b[0m \u001b[0mplus\u001b[0m\u001b[0;34m(\u001b[0m\u001b[0mm\u001b[0m\u001b[0;34m,\u001b[0m \u001b[0mmultiply\u001b[0m\u001b[0;34m(\u001b[0m\u001b[0mm\u001b[0m\u001b[0;34m,\u001b[0m \u001b[0msub1\u001b[0m\u001b[0;34m(\u001b[0m\u001b[0mn\u001b[0m\u001b[0;34m)\u001b[0m\u001b[0;34m)\u001b[0m\u001b[0;34m)\u001b[0m\u001b[0;34m\u001b[0m\u001b[0;34m\u001b[0m\u001b[0m\n\u001b[0m",
      "\u001b[0;32m<ipython-input-42-b1336aa4fe99>\u001b[0m in \u001b[0;36mplus\u001b[0;34m(a, b)\u001b[0m\n\u001b[1;32m      3\u001b[0m         \u001b[0;32mreturn\u001b[0m \u001b[0ma\u001b[0m\u001b[0;34m\u001b[0m\u001b[0;34m\u001b[0m\u001b[0m\n\u001b[1;32m      4\u001b[0m     \u001b[0;32melse\u001b[0m\u001b[0;34m:\u001b[0m\u001b[0;34m\u001b[0m\u001b[0;34m\u001b[0m\u001b[0m\n\u001b[0;32m----> 5\u001b[0;31m         \u001b[0;32mreturn\u001b[0m \u001b[0mplus\u001b[0m\u001b[0;34m(\u001b[0m\u001b[0madd1\u001b[0m\u001b[0;34m(\u001b[0m\u001b[0ma\u001b[0m\u001b[0;34m)\u001b[0m\u001b[0;34m,\u001b[0m \u001b[0msub1\u001b[0m\u001b[0;34m(\u001b[0m\u001b[0mb\u001b[0m\u001b[0;34m)\u001b[0m\u001b[0;34m)\u001b[0m\u001b[0;34m\u001b[0m\u001b[0;34m\u001b[0m\u001b[0m\n\u001b[0m",
      "... last 1 frames repeated, from the frame below ...\n",
      "\u001b[0;32m<ipython-input-42-b1336aa4fe99>\u001b[0m in \u001b[0;36mplus\u001b[0;34m(a, b)\u001b[0m\n\u001b[1;32m      3\u001b[0m         \u001b[0;32mreturn\u001b[0m \u001b[0ma\u001b[0m\u001b[0;34m\u001b[0m\u001b[0;34m\u001b[0m\u001b[0m\n\u001b[1;32m      4\u001b[0m     \u001b[0;32melse\u001b[0m\u001b[0;34m:\u001b[0m\u001b[0;34m\u001b[0m\u001b[0;34m\u001b[0m\u001b[0m\n\u001b[0;32m----> 5\u001b[0;31m         \u001b[0;32mreturn\u001b[0m \u001b[0mplus\u001b[0m\u001b[0;34m(\u001b[0m\u001b[0madd1\u001b[0m\u001b[0;34m(\u001b[0m\u001b[0ma\u001b[0m\u001b[0;34m)\u001b[0m\u001b[0;34m,\u001b[0m \u001b[0msub1\u001b[0m\u001b[0;34m(\u001b[0m\u001b[0mb\u001b[0m\u001b[0;34m)\u001b[0m\u001b[0;34m)\u001b[0m\u001b[0;34m\u001b[0m\u001b[0;34m\u001b[0m\u001b[0m\n\u001b[0m",
      "\u001b[0;31mRecursionError\u001b[0m: maximum recursion depth exceeded in comparison"
     ]
    }
   ],
   "source": [
    "## this doesn't work and i can tell why, but i haven't figured out how to fix it\n",
    "exponent(5, 6)"
   ]
  },
  {
   "cell_type": "code",
   "execution_count": 71,
   "id": "4a760c65-8485-43c4-b47c-be400a5d676e",
   "metadata": {},
   "outputs": [],
   "source": [
    "def divide(n, m):\n",
    "    if less_than(n, m):\n",
    "        return 0\n",
    "    else:\n",
    "        return add1(divide(minus(n, m), m))"
   ]
  },
  {
   "cell_type": "code",
   "execution_count": 72,
   "id": "017e78cc-1b6a-4476-83f3-a2744e6cd258",
   "metadata": {},
   "outputs": [
    {
     "data": {
      "text/plain": [
       "2"
      ]
     },
     "execution_count": 72,
     "metadata": {},
     "output_type": "execute_result"
    }
   ],
   "source": [
    "divide(4, 2)"
   ]
  },
  {
   "cell_type": "code",
   "execution_count": 73,
   "id": "26757199-b454-4f54-b8b7-9b6000e26194",
   "metadata": {},
   "outputs": [
    {
     "data": {
      "text/plain": [
       "4"
      ]
     },
     "execution_count": 73,
     "metadata": {},
     "output_type": "execute_result"
    }
   ],
   "source": [
    "divide(8, 2)"
   ]
  },
  {
   "cell_type": "code",
   "execution_count": 74,
   "id": "d8c1fda3-6adc-4b82-8de5-0f836bfda56a",
   "metadata": {},
   "outputs": [
    {
     "data": {
      "text/plain": [
       "3"
      ]
     },
     "execution_count": 74,
     "metadata": {},
     "output_type": "execute_result"
    }
   ],
   "source": [
    "divide(15, 4)"
   ]
  },
  {
   "cell_type": "code",
   "execution_count": 75,
   "id": "9b1a7b1d-21e1-49dc-95d5-3c7cc1bc6375",
   "metadata": {},
   "outputs": [],
   "source": [
    "def length(lat):\n",
    "    if null(lat):\n",
    "        return 0\n",
    "    else:\n",
    "        return add1(length(cdr(lat)))"
   ]
  },
  {
   "cell_type": "code",
   "execution_count": 76,
   "id": "9ff6c94a-9a88-4237-ba3a-8531ef2e53a9",
   "metadata": {},
   "outputs": [
    {
     "data": {
      "text/plain": [
       "2"
      ]
     },
     "execution_count": 76,
     "metadata": {},
     "output_type": "execute_result"
    }
   ],
   "source": [
    "length([1,23])"
   ]
  },
  {
   "cell_type": "code",
   "execution_count": 77,
   "id": "2751dfc9-b255-4eb5-9e71-949bfe08ff32",
   "metadata": {},
   "outputs": [
    {
     "data": {
      "text/plain": [
       "3"
      ]
     },
     "execution_count": 77,
     "metadata": {},
     "output_type": "execute_result"
    }
   ],
   "source": [
    "length([\"word\", \"hello\", \"hi\"])"
   ]
  },
  {
   "cell_type": "code",
   "execution_count": 78,
   "id": "88b178a7-822e-4e90-b3e4-edaf3bbbfb51",
   "metadata": {},
   "outputs": [],
   "source": [
    "def pick(n, lat):\n",
    "    if zero(sub1(n)):\n",
    "        return car(lat)\n",
    "    else:\n",
    "        return pick(sub1(n), cdr(lat))\n",
    "    "
   ]
  },
  {
   "cell_type": "code",
   "execution_count": 79,
   "id": "44b3059e-6a2c-4c27-a4a6-e1061e09c85f",
   "metadata": {},
   "outputs": [
    {
     "data": {
      "text/plain": [
       "'macaroni'"
      ]
     },
     "execution_count": 79,
     "metadata": {},
     "output_type": "execute_result"
    }
   ],
   "source": [
    "n = 4\n",
    "lat = [\"lasagna\", \"spaghetti\", \"ravioli\", \"macaroni\", \"meatball\"]\n",
    "pick(n, lat)"
   ]
  },
  {
   "cell_type": "code",
   "execution_count": 80,
   "id": "1d52e098-0635-47b9-b841-ea19061adf57",
   "metadata": {},
   "outputs": [],
   "source": [
    "def rempick(n, lat):\n",
    "    if zero(sub1(n)):\n",
    "        return cdr(lat)\n",
    "    else:\n",
    "        return cons(car(lat), rempick(sub1(n), cdr(lat)))"
   ]
  },
  {
   "cell_type": "code",
   "execution_count": 81,
   "id": "845ba3d4-de25-4160-817a-8f1c23efeaca",
   "metadata": {},
   "outputs": [
    {
     "data": {
      "text/plain": [
       "['hotdogs', 'with', 'mustard']"
      ]
     },
     "execution_count": 81,
     "metadata": {},
     "output_type": "execute_result"
    }
   ],
   "source": [
    "n = 3\n",
    "lat = [\"hotdogs\", \"with\", \"hot\", \"mustard\"]\n",
    "rempick(n, lat)"
   ]
  },
  {
   "cell_type": "code",
   "execution_count": 82,
   "id": "981c20db-110e-4201-ba05-c8a94faeae4f",
   "metadata": {},
   "outputs": [],
   "source": [
    "def no_nums(lat):\n",
    "    if null(lat):\n",
    "        return []\n",
    "    elif number(car(lat)):\n",
    "        return no_nums(cdr(lat))\n",
    "    else:\n",
    "        return cons(car(lat), no_nums(cdr(lat)))"
   ]
  },
  {
   "cell_type": "code",
   "execution_count": 83,
   "id": "511006e7-05f5-491a-bfda-dd2f42872706",
   "metadata": {},
   "outputs": [
    {
     "data": {
      "text/plain": [
       "['pears', 'prunes', 'dates']"
      ]
     },
     "execution_count": 83,
     "metadata": {},
     "output_type": "execute_result"
    }
   ],
   "source": [
    "lat = [5, \"pears\", 6, \"prunes\", 9, \"dates\"]\n",
    "no_nums(lat)"
   ]
  },
  {
   "cell_type": "code",
   "execution_count": 84,
   "id": "9e6b4298-25e4-4e2c-abb5-81eaf02d21a4",
   "metadata": {},
   "outputs": [],
   "source": [
    "def all_nums(lat):\n",
    "    if null(lat):\n",
    "        return []\n",
    "    elif number(car(lat)):\n",
    "        return cons(car(lat), all_nums(cdr(lat)))\n",
    "    else:\n",
    "        return all_nums(cdr(lat))"
   ]
  },
  {
   "cell_type": "code",
   "execution_count": 85,
   "id": "67f79b90-ab61-4fac-8d8a-4f763c312a58",
   "metadata": {},
   "outputs": [
    {
     "data": {
      "text/plain": [
       "[5, 6, 9]"
      ]
     },
     "execution_count": 85,
     "metadata": {},
     "output_type": "execute_result"
    }
   ],
   "source": [
    "all_nums(lat)"
   ]
  },
  {
   "cell_type": "code",
   "execution_count": 86,
   "id": "ad21fdaf-8324-46a3-962e-e186a053528d",
   "metadata": {},
   "outputs": [],
   "source": [
    "def eqan(a1, a2):\n",
    "    \"\"\"checks if two numbers a equivalent\"\"\"\n",
    "    if number(a1) and number(a2):\n",
    "        return equals(a1, a2)\n",
    "    elif is_atom(a1) and is_atom(a2):\n",
    "        return eq(a1, a2)"
   ]
  },
  {
   "cell_type": "code",
   "execution_count": 87,
   "id": "1d00d56d-ff75-4a68-b7d9-2088e425458e",
   "metadata": {},
   "outputs": [
    {
     "data": {
      "text/plain": [
       "False"
      ]
     },
     "execution_count": 87,
     "metadata": {},
     "output_type": "execute_result"
    }
   ],
   "source": [
    "eqan(1, 2)"
   ]
  },
  {
   "cell_type": "code",
   "execution_count": 88,
   "id": "e29d8631-616e-4322-9d20-b87b1f2ce634",
   "metadata": {},
   "outputs": [
    {
     "data": {
      "text/plain": [
       "True"
      ]
     },
     "execution_count": 88,
     "metadata": {},
     "output_type": "execute_result"
    }
   ],
   "source": [
    "eqan(1,1)"
   ]
  },
  {
   "cell_type": "code",
   "execution_count": 89,
   "id": "03e88c2c-00d2-44e2-8b28-e995d6871da3",
   "metadata": {},
   "outputs": [
    {
     "data": {
      "text/plain": [
       "False"
      ]
     },
     "execution_count": 89,
     "metadata": {},
     "output_type": "execute_result"
    }
   ],
   "source": [
    "eqan(1, \"hi\")"
   ]
  },
  {
   "cell_type": "code",
   "execution_count": 90,
   "id": "8db4611d-a5c7-48fb-b697-923784bc8792",
   "metadata": {},
   "outputs": [
    {
     "data": {
      "text/plain": [
       "True"
      ]
     },
     "execution_count": 90,
     "metadata": {},
     "output_type": "execute_result"
    }
   ],
   "source": [
    "eqan(\"hi\", \"hi\")"
   ]
  },
  {
   "cell_type": "code",
   "execution_count": 91,
   "id": "0cba833f-c561-4748-9e1f-97c358300702",
   "metadata": {},
   "outputs": [],
   "source": [
    "def occur(a, lat):\n",
    "    if null(lat):\n",
    "        return 0\n",
    "    elif eq(car(lat), a):\n",
    "        return add1(occur(a, cdr(lat)))\n",
    "    else:\n",
    "        return occur(a, cdr(lat))"
   ]
  },
  {
   "cell_type": "code",
   "execution_count": 92,
   "id": "1a1ae1fa-f112-495c-a0e4-3e49c3a434ef",
   "metadata": {},
   "outputs": [
    {
     "data": {
      "text/plain": [
       "2"
      ]
     },
     "execution_count": 92,
     "metadata": {},
     "output_type": "execute_result"
    }
   ],
   "source": [
    "a = 3\n",
    "lat = [1, 2, 3, \"hello\", 3, \"yo\"]\n",
    "occur(a, lat)"
   ]
  },
  {
   "cell_type": "code",
   "execution_count": 93,
   "id": "4085afdf-9e2e-4af1-9c88-1ac3b30a83a9",
   "metadata": {},
   "outputs": [],
   "source": [
    "def one(n):\n",
    "    return equals(n, 1)"
   ]
  },
  {
   "cell_type": "code",
   "execution_count": 94,
   "id": "0c146c23-4baa-4f13-a27c-9a524c1cd016",
   "metadata": {},
   "outputs": [
    {
     "data": {
      "text/plain": [
       "False"
      ]
     },
     "execution_count": 94,
     "metadata": {},
     "output_type": "execute_result"
    }
   ],
   "source": [
    "one(3)"
   ]
  },
  {
   "cell_type": "code",
   "execution_count": 95,
   "id": "6c558ab6-77a8-4738-9a12-1795642599ef",
   "metadata": {},
   "outputs": [],
   "source": [
    "def rempick_rewrite(n, lat):\n",
    "    if one(n):\n",
    "        return cdr(lat)\n",
    "    else:\n",
    "        return cons(car(lat), rempick_rewrite(sub1(n), cdr(lat)))\n",
    "    "
   ]
  },
  {
   "cell_type": "code",
   "execution_count": 96,
   "id": "3dea3d23-4f54-49cf-b600-ec159b39fad0",
   "metadata": {},
   "outputs": [
    {
     "data": {
      "text/plain": [
       "['lemon', 'meringue', 'pie']"
      ]
     },
     "execution_count": 96,
     "metadata": {},
     "output_type": "execute_result"
    }
   ],
   "source": [
    "n = 3\n",
    "lat = [\"lemon\", \"meringue\", \"salty\", \"pie\"]\n",
    "rempick_rewrite(n, lat)"
   ]
  },
  {
   "cell_type": "markdown",
   "id": "a126d900-d30f-4a40-b857-b4b42c13796d",
   "metadata": {},
   "source": [
    "# Chapter 5: \\*Oh My Gawd\\*: It's Full of Stars"
   ]
  },
  {
   "cell_type": "code",
   "execution_count": 97,
   "id": "6f2c59ae-0087-4614-a788-6464ad184329",
   "metadata": {},
   "outputs": [],
   "source": [
    "def rember_star(a, l):\n",
    "    if null(l):\n",
    "        return []\n",
    "    elif is_atom(car(l)):\n",
    "        if eq(a, car(l)):\n",
    "            return rember_star(a, cdr(l))\n",
    "        else:\n",
    "            return cons(car(l), rember_star(a, cdr(l)))\n",
    "    else:\n",
    "        return cons(rember_star(a, car(l)), rember_star(a, cdr(l)))"
   ]
  },
  {
   "cell_type": "code",
   "execution_count": 98,
   "id": "5072fb22-8568-44ab-ace2-07db58186de4",
   "metadata": {},
   "outputs": [
    {
     "data": {
      "text/plain": [
       "[['coffee'], ['tea', []], ['and', ['hick']]]"
      ]
     },
     "execution_count": 98,
     "metadata": {},
     "output_type": "execute_result"
    }
   ],
   "source": [
    "a = \"cup\"\n",
    "l = [[\"coffee\"], \"cup\", [\"tea\", [\"cup\"]], [\"and\", [\"hick\"]], \"cup\"]\n",
    "rember_star(a, l)"
   ]
  },
  {
   "cell_type": "code",
   "execution_count": 99,
   "id": "a35c32ae-9645-43d8-84a3-8fc08b1e70f1",
   "metadata": {},
   "outputs": [
    {
     "data": {
      "text/plain": [
       "[['tomato'], ['bean'], ['and', ['flying']]]"
      ]
     },
     "execution_count": 99,
     "metadata": {},
     "output_type": "execute_result"
    }
   ],
   "source": [
    "a = \"sauce\"\n",
    "l = [[\"tomato\", \"sauce\"], [\"bean\"], \"sauce\", [\"and\", [\"flying\"], \"sauce\"]]\n",
    "rember_star(a, l)"
   ]
  },
  {
   "cell_type": "code",
   "execution_count": 100,
   "id": "da5686d3-4867-4f2a-9f80-a8b7d3c7bf62",
   "metadata": {},
   "outputs": [],
   "source": [
    "def insertR_star(new, old, l):\n",
    "    if null(l):\n",
    "        return []\n",
    "    elif is_atom(car(l)):\n",
    "        if eq(car(l), old):\n",
    "            return cons(old, cons(new, insertR_star(new, old, cdr(l))))\n",
    "        else:\n",
    "            return cons(car(l), insertR_star(new, old, cdr(l)))\n",
    "    else:\n",
    "        return cons(insertR_star(new, old, car(l)), insertR_star(new, old, cdr(l)))"
   ]
  },
  {
   "cell_type": "code",
   "execution_count": 101,
   "id": "3921044d-1d33-498f-9a7d-444c3df5bfc5",
   "metadata": {},
   "outputs": [
    {
     "data": {
      "text/plain": [
       "[['how', 'much', ['wood']],\n",
       " 'could',\n",
       " [['a', ['wood'], 'chuck', 'roast']],\n",
       " [[['chuck', 'roast']]],\n",
       " ['if', ['a'], [['wood', 'chuck', 'roast']]],\n",
       " 'could',\n",
       " 'chuck',\n",
       " 'roast',\n",
       " 'wood']"
      ]
     },
     "execution_count": 101,
     "metadata": {},
     "output_type": "execute_result"
    }
   ],
   "source": [
    "new = \"roast\"\n",
    "old = \"chuck\"\n",
    "l = [\n",
    "    [\"how\", \"much\", [\"wood\"]],\n",
    "    \"could\", \n",
    "    [[\"a\", [\"wood\"], \"chuck\"]], \n",
    "    [[[\"chuck\"]]], \n",
    "    [\"if\", [\"a\"], [[\"wood\", \"chuck\"]]],\n",
    "    \"could\", \"chuck\", \"wood\"\n",
    "]\n",
    "insertR_star(new, old, l)"
   ]
  },
  {
   "cell_type": "markdown",
   "id": "b923208d-dfad-44cd-b7b6-7ad2f43dc470",
   "metadata": {},
   "source": [
    "## The First Commandment\n",
    "#### *(final version)*\n",
    "\n",
    "### When recurring on a list of atoms, *lat*, ask two questions about it: (*null? lat*) and else.\n",
    "\n",
    "### When recurring on a number, *n*, ask two questions about it (*zero? n*) and else\n",
    "\n",
    "### When recurring on a list of S-expressions, *l*, ask three questions about it: (*null? l*), (*atom?*(*car l*)), and else.\n",
    "## The Fourth Commandment\n",
    "#### (*final version*)\n",
    "### Always change at least one argument while recurring. When recurring on a list of atoms, *lat*, use(*cdr lat*). When recurring on a number, *n*, use (*sub1 n*). And when recurring on a list of S-expressions, *l*, use (*car l*) and (*cdr l*) if neither (*null?*) nor (*atom?* (*car l*)) are true.\n",
    "\n",
    "### It must be changed to be closer to termination. The changing argument must be tested in the termination condition:\n",
    "\n",
    "### when using *cdr*, test termination with *null?* and\n",
    "\n",
    "### when using *sub1*, test termination with *zero?*."
   ]
  },
  {
   "cell_type": "code",
   "execution_count": 102,
   "id": "21055ee4-a413-4d58-8433-984070d02678",
   "metadata": {},
   "outputs": [],
   "source": [
    "def occur_star(a, l):\n",
    "    if null(l):\n",
    "        return 0\n",
    "    elif is_atom(car(l)):\n",
    "        if eq(car(l), a):\n",
    "            return add1(occur_star(a, cdr(l)))\n",
    "        else:\n",
    "            return occur_star(a, cdr(l))\n",
    "    else:\n",
    "        return plus(occur_star(a, car(l)), occur_star(a, cdr(l)))"
   ]
  },
  {
   "cell_type": "code",
   "execution_count": 103,
   "id": "f5864ebc-83b0-4e64-a0ac-3cbb60c4d5b4",
   "metadata": {},
   "outputs": [
    {
     "data": {
      "text/plain": [
       "5"
      ]
     },
     "execution_count": 103,
     "metadata": {},
     "output_type": "execute_result"
    }
   ],
   "source": [
    "a = \"banana\"\n",
    "l = [\n",
    "    [\"banana\"],\n",
    "    [\"split\", [[[[\"banana\", \"ice\"]]],\n",
    "        [\"cream\", [\"banana\"]],\n",
    "        \"sherbet\"]],\n",
    "    [\"banana\"],\n",
    "    [\"bread\"],\n",
    "    [\"banana\", \"brandy\"]\n",
    "]\n",
    "occur_star(a, l)"
   ]
  },
  {
   "cell_type": "code",
   "execution_count": 104,
   "id": "f78e7a9f-25b8-464e-92c3-eaf72f0c3f5e",
   "metadata": {},
   "outputs": [],
   "source": [
    "def subst_star(new, old, l):\n",
    "    if null(l):\n",
    "        return []\n",
    "    elif is_atom(car(l)):\n",
    "        if eq(old, car(l)):\n",
    "            return cons(new, subst_star(new, old, cdr(l)))\n",
    "        else:\n",
    "            return cons(car(l), subst_star(new, old, cdr(l)))\n",
    "    else:\n",
    "        return cons(subst_star(new, old, car(l)), subst_star(new, old, cdr(l)))"
   ]
  },
  {
   "cell_type": "code",
   "execution_count": 105,
   "id": "4d221ef1-b559-43ab-8093-e1bb35eadf93",
   "metadata": {},
   "outputs": [
    {
     "data": {
      "text/plain": [
       "[['orange'],\n",
       " ['split', [[[['orange', 'ice']]], ['cream', ['orange']], 'sherbet']],\n",
       " ['orange'],\n",
       " ['bread'],\n",
       " ['orange', 'brandy']]"
      ]
     },
     "execution_count": 105,
     "metadata": {},
     "output_type": "execute_result"
    }
   ],
   "source": [
    "new = \"orange\"\n",
    "old = \"banana\"\n",
    "subst_star(new, old, l)"
   ]
  },
  {
   "cell_type": "code",
   "execution_count": 106,
   "id": "96014886-98dc-4eac-8b2d-3acfddac16fb",
   "metadata": {},
   "outputs": [],
   "source": [
    "def insertL_star(new, old, l):\n",
    "    if null(l):\n",
    "        return []\n",
    "    elif is_atom(car(l)):\n",
    "        if eq(old, car(l)):\n",
    "            return cons(new, cons(car(l), insertL_star(new, old, cdr(l))))\n",
    "        else:\n",
    "            return cons(car(l), insertL_star(new, old, cdr(l)))\n",
    "    else:\n",
    "        return cons(insertL_star(new, old, car(l)), insertL_star(new, old, cdr(l)))"
   ]
  },
  {
   "cell_type": "code",
   "execution_count": 107,
   "id": "51d31fba-2e6e-4be3-ace2-6d6ebd7d5b80",
   "metadata": {},
   "outputs": [
    {
     "data": {
      "text/plain": [
       "[['how', 'much', ['wood']],\n",
       " 'could',\n",
       " [['a', ['wood'], 'pecker', 'chuck']],\n",
       " [[['pecker', 'chuck']]],\n",
       " ['if', ['a'], [['wood', 'pecker', 'chuck']]],\n",
       " 'could',\n",
       " 'pecker',\n",
       " 'chuck',\n",
       " 'wood']"
      ]
     },
     "execution_count": 107,
     "metadata": {},
     "output_type": "execute_result"
    }
   ],
   "source": [
    "new = \"pecker\"\n",
    "old = \"chuck\"\n",
    "l = [\n",
    "    [\"how\", \"much\", [\"wood\"]],\n",
    "    \"could\", \n",
    "    [[\"a\", [\"wood\"], \"chuck\"]], \n",
    "    [[[\"chuck\"]]], \n",
    "    [\"if\", [\"a\"], [[\"wood\", \"chuck\"]]],\n",
    "    \"could\", \"chuck\", \"wood\"\n",
    "]\n",
    "insertL_star(new, old, l)"
   ]
  },
  {
   "cell_type": "code",
   "execution_count": 108,
   "id": "34342b63-4bcb-46bf-878a-9fbf74b1a1b7",
   "metadata": {},
   "outputs": [],
   "source": [
    "def member_star(a, l):\n",
    "    if null(l):\n",
    "        return False\n",
    "    elif is_atom(car(l)):\n",
    "        if eq(a, car(l)):\n",
    "            return True\n",
    "        else:\n",
    "            return member_star(a, cdr(l))\n",
    "    elif member_star(a, car(l)) or member_star(a, cdr(l)):\n",
    "        return True"
   ]
  },
  {
   "cell_type": "code",
   "execution_count": 109,
   "id": "367f8976-0887-4074-a036-e7e6ac8bcbc7",
   "metadata": {},
   "outputs": [
    {
     "data": {
      "text/plain": [
       "True"
      ]
     },
     "execution_count": 109,
     "metadata": {},
     "output_type": "execute_result"
    }
   ],
   "source": [
    "a = \"chips\"\n",
    "l = [\n",
    "    [\"potato\"],\n",
    "    [\"chips\", [[\"with\"], \"fish\"], [\"chips\"]]\n",
    "]\n",
    "member_star(a, l)"
   ]
  },
  {
   "cell_type": "code",
   "execution_count": 110,
   "id": "6695fa89-2549-4bac-8cdb-ce19d1ad9e52",
   "metadata": {},
   "outputs": [],
   "source": [
    "def leftmost(l):\n",
    "    if is_atom(car(l)):\n",
    "        return car(l)\n",
    "    else:\n",
    "        return leftmost(car(l))"
   ]
  },
  {
   "cell_type": "code",
   "execution_count": 111,
   "id": "42374d05-7579-4580-9089-5358eb82aab1",
   "metadata": {},
   "outputs": [
    {
     "ename": "IndexError",
     "evalue": "list index out of range",
     "output_type": "error",
     "traceback": [
      "\u001b[0;31m---------------------------------------------------------------------------\u001b[0m",
      "\u001b[0;31mIndexError\u001b[0m                                Traceback (most recent call last)",
      "\u001b[0;32m<ipython-input-111-f45c962a8612>\u001b[0m in \u001b[0;36m<module>\u001b[0;34m\u001b[0m\n\u001b[0;32m----> 1\u001b[0;31m \u001b[0mleftmost\u001b[0m\u001b[0;34m(\u001b[0m\u001b[0;34m[\u001b[0m\u001b[0;34m]\u001b[0m\u001b[0;34m)\u001b[0m\u001b[0;34m\u001b[0m\u001b[0;34m\u001b[0m\u001b[0m\n\u001b[0m",
      "\u001b[0;32m<ipython-input-110-5bf4e0651918>\u001b[0m in \u001b[0;36mleftmost\u001b[0;34m(l)\u001b[0m\n\u001b[1;32m      1\u001b[0m \u001b[0;32mdef\u001b[0m \u001b[0mleftmost\u001b[0m\u001b[0;34m(\u001b[0m\u001b[0ml\u001b[0m\u001b[0;34m)\u001b[0m\u001b[0;34m:\u001b[0m\u001b[0;34m\u001b[0m\u001b[0;34m\u001b[0m\u001b[0m\n\u001b[0;32m----> 2\u001b[0;31m     \u001b[0;32mif\u001b[0m \u001b[0mis_atom\u001b[0m\u001b[0;34m(\u001b[0m\u001b[0mcar\u001b[0m\u001b[0;34m(\u001b[0m\u001b[0ml\u001b[0m\u001b[0;34m)\u001b[0m\u001b[0;34m)\u001b[0m\u001b[0;34m:\u001b[0m\u001b[0;34m\u001b[0m\u001b[0;34m\u001b[0m\u001b[0m\n\u001b[0m\u001b[1;32m      3\u001b[0m         \u001b[0;32mreturn\u001b[0m \u001b[0mcar\u001b[0m\u001b[0;34m(\u001b[0m\u001b[0ml\u001b[0m\u001b[0;34m)\u001b[0m\u001b[0;34m\u001b[0m\u001b[0;34m\u001b[0m\u001b[0m\n\u001b[1;32m      4\u001b[0m     \u001b[0;32melse\u001b[0m\u001b[0;34m:\u001b[0m\u001b[0;34m\u001b[0m\u001b[0;34m\u001b[0m\u001b[0m\n\u001b[1;32m      5\u001b[0m         \u001b[0;32mreturn\u001b[0m \u001b[0mleftmost\u001b[0m\u001b[0;34m(\u001b[0m\u001b[0mcar\u001b[0m\u001b[0;34m(\u001b[0m\u001b[0ml\u001b[0m\u001b[0;34m)\u001b[0m\u001b[0;34m)\u001b[0m\u001b[0;34m\u001b[0m\u001b[0;34m\u001b[0m\u001b[0m\n",
      "\u001b[0;32m<ipython-input-1-21d38a1a72c0>\u001b[0m in \u001b[0;36mcar\u001b[0;34m(l)\u001b[0m\n\u001b[1;32m     19\u001b[0m \u001b[0;32mdef\u001b[0m \u001b[0mcar\u001b[0m\u001b[0;34m(\u001b[0m\u001b[0ml\u001b[0m\u001b[0;34m)\u001b[0m\u001b[0;34m:\u001b[0m\u001b[0;34m\u001b[0m\u001b[0;34m\u001b[0m\u001b[0m\n\u001b[1;32m     20\u001b[0m     \u001b[0;34m\"returns first item in a list\"\u001b[0m\u001b[0;34m\u001b[0m\u001b[0;34m\u001b[0m\u001b[0m\n\u001b[0;32m---> 21\u001b[0;31m     \u001b[0;32mreturn\u001b[0m \u001b[0ml\u001b[0m\u001b[0;34m[\u001b[0m\u001b[0;36m0\u001b[0m\u001b[0;34m]\u001b[0m\u001b[0;34m\u001b[0m\u001b[0;34m\u001b[0m\u001b[0m\n\u001b[0m\u001b[1;32m     22\u001b[0m \u001b[0;34m\u001b[0m\u001b[0m\n\u001b[1;32m     23\u001b[0m \u001b[0;32mdef\u001b[0m \u001b[0mcdr\u001b[0m\u001b[0;34m(\u001b[0m\u001b[0ml\u001b[0m\u001b[0;34m)\u001b[0m\u001b[0;34m:\u001b[0m\u001b[0;34m\u001b[0m\u001b[0;34m\u001b[0m\u001b[0m\n",
      "\u001b[0;31mIndexError\u001b[0m: list index out of range"
     ]
    }
   ],
   "source": [
    "leftmost([])"
   ]
  },
  {
   "cell_type": "code",
   "execution_count": 112,
   "id": "04f06947-d716-43aa-8445-3e5d6d18dd60",
   "metadata": {},
   "outputs": [
    {
     "data": {
      "text/plain": [
       "'potato'"
      ]
     },
     "execution_count": 112,
     "metadata": {},
     "output_type": "execute_result"
    }
   ],
   "source": [
    "l = [[\"potato\"], [\"chips\", [[\"with\"], \"fish\"], [\"chips\"]]]\n",
    "leftmost(l)"
   ]
  },
  {
   "cell_type": "code",
   "execution_count": 113,
   "id": "b690ae07-6154-4189-8064-3f0d80d87d02",
   "metadata": {},
   "outputs": [
    {
     "data": {
      "text/plain": [
       "'hot'"
      ]
     },
     "execution_count": 113,
     "metadata": {},
     "output_type": "execute_result"
    }
   ],
   "source": [
    "l = [[[\"hot\"], [\"tuna\", [\"and\"]]], \"cheese\"]\n",
    "leftmost(l)"
   ]
  },
  {
   "cell_type": "code",
   "execution_count": 114,
   "id": "e7611986-0213-4751-a150-adac67bc576c",
   "metadata": {},
   "outputs": [],
   "source": [
    "def eqlist(l1, l2):\n",
    "    if null(l1) and null(l2):\n",
    "        return True\n",
    "    elif null(l1) and is_atom(car(l2)):\n",
    "        return False\n",
    "    elif null(l1):\n",
    "        return False\n",
    "    elif is_atom(car(l1)) and null(l2):\n",
    "        return False\n",
    "    elif null(l2):\n",
    "        return False\n",
    "    elif is_atom(car(l1)) and is_atom(car(l2)):\n",
    "        if eqan(car(l1), car(l2)):\n",
    "            return eqlist(cdr(l1), cdr(l2))\n",
    "        else:\n",
    "            return False\n",
    "    else:\n",
    "        return eqlist(car(l1), car(l2), eqlist(cdr(l1), cdr(l2)))\n",
    "        "
   ]
  },
  {
   "cell_type": "code",
   "execution_count": 115,
   "id": "2999f413-d51f-405a-a5c8-bfce9cf4a5fe",
   "metadata": {},
   "outputs": [
    {
     "data": {
      "text/plain": [
       "True"
      ]
     },
     "execution_count": 115,
     "metadata": {},
     "output_type": "execute_result"
    }
   ],
   "source": [
    "l1 = [\"strawberry\", \"ice\", \"cream\"]\n",
    "l2 = [\"strawberry\", \"ice\", \"cream\"]\n",
    "eqlist(l1, l2)"
   ]
  },
  {
   "cell_type": "code",
   "execution_count": 116,
   "id": "c0a935a0-0ced-4918-a035-1b901febff8c",
   "metadata": {},
   "outputs": [
    {
     "data": {
      "text/plain": [
       "False"
      ]
     },
     "execution_count": 116,
     "metadata": {},
     "output_type": "execute_result"
    }
   ],
   "source": [
    "l2 = [1, 2, 3]\n",
    "eqlist(l1, l2)"
   ]
  },
  {
   "cell_type": "code",
   "execution_count": 117,
   "id": "c68d9233-2a56-40cf-82c4-af1297605724",
   "metadata": {},
   "outputs": [],
   "source": [
    "def eqlist(l1, l2):\n",
    "    if null(l1) and null(l2):\n",
    "        return True\n",
    "    elif null(l1) or null(l2):\n",
    "        return False\n",
    "    elif is_atom(car(l1)) and is_atom(car(l2)):\n",
    "        if eqan(car(l1), car(l2)):\n",
    "            return eqlist(cdr(l1), cdr(l2))\n",
    "        else: \n",
    "            return False\n",
    "    elif is_atom(car(l1)) or is_atom(car(l2)):\n",
    "        return False\n",
    "    else:\n",
    "        return eqlist(car(l1), car(l2), eqlist(cdr(l1), cdr(l2)))"
   ]
  },
  {
   "cell_type": "code",
   "execution_count": 118,
   "id": "2df0a119-ae30-4605-b25f-7045dc4c02b4",
   "metadata": {},
   "outputs": [
    {
     "data": {
      "text/plain": [
       "True"
      ]
     },
     "execution_count": 118,
     "metadata": {},
     "output_type": "execute_result"
    }
   ],
   "source": [
    "l1 = [\"strawberry\", \"ice\", \"cream\"]\n",
    "l2 = [\"strawberry\", \"ice\", \"cream\"]\n",
    "eqlist(l1, l2)"
   ]
  },
  {
   "cell_type": "code",
   "execution_count": 119,
   "id": "773d9106-125c-4314-877d-ad86ec56274c",
   "metadata": {},
   "outputs": [
    {
     "data": {
      "text/plain": [
       "False"
      ]
     },
     "execution_count": 119,
     "metadata": {},
     "output_type": "execute_result"
    }
   ],
   "source": [
    "l2 = [1, 2, 3]\n",
    "eqlist(l1, l2)"
   ]
  },
  {
   "cell_type": "code",
   "execution_count": 120,
   "id": "5fa6bed4-de03-446a-bac2-593fbcff90a5",
   "metadata": {},
   "outputs": [],
   "source": [
    "def equal(s1, s2):\n",
    "    if is_atom(s1) and is_atom(s2):\n",
    "        return eqan(s1, s2)\n",
    "    elif is_atom(s1) or is_atom(s2):\n",
    "        return False\n",
    "    else:\n",
    "        return eqlist(s1, s2)\n",
    "    "
   ]
  },
  {
   "cell_type": "code",
   "execution_count": 121,
   "id": "6732f790-5f4c-47ca-9169-d119f985f591",
   "metadata": {},
   "outputs": [
    {
     "data": {
      "text/plain": [
       "True"
      ]
     },
     "execution_count": 121,
     "metadata": {},
     "output_type": "execute_result"
    }
   ],
   "source": [
    "l1 = [\"strawberry\", \"ice\", \"cream\"]\n",
    "l2 = [\"strawberry\", \"ice\", \"cream\"]\n",
    "equal(l1, l2)"
   ]
  },
  {
   "cell_type": "code",
   "execution_count": 122,
   "id": "64d635f4-261a-43b9-a0e4-783ddd786ee9",
   "metadata": {},
   "outputs": [
    {
     "data": {
      "text/plain": [
       "False"
      ]
     },
     "execution_count": 122,
     "metadata": {},
     "output_type": "execute_result"
    }
   ],
   "source": [
    "l2 = [1, 2, 3]\n",
    "equal(l1, l2)"
   ]
  },
  {
   "cell_type": "code",
   "execution_count": 123,
   "id": "895372f9-bfa5-42ca-8862-9c8b82246665",
   "metadata": {},
   "outputs": [],
   "source": [
    "def eqlist(l1, l2):\n",
    "    if null(l1) and null(l2):\n",
    "        return True\n",
    "    elif null(l1) and null(l2):\n",
    "        return False\n",
    "    else:\n",
    "        return equal(car(l1), car(l2)) and eqlist(cdr(l1), cdr(l2))"
   ]
  },
  {
   "cell_type": "code",
   "execution_count": 124,
   "id": "05ae3496-4542-4b4d-92a6-33c46bf4abf4",
   "metadata": {},
   "outputs": [
    {
     "data": {
      "text/plain": [
       "False"
      ]
     },
     "execution_count": 124,
     "metadata": {},
     "output_type": "execute_result"
    }
   ],
   "source": [
    "eqlist(l1, l2)"
   ]
  },
  {
   "cell_type": "code",
   "execution_count": 125,
   "id": "4703fd2a-ea46-4a0c-af0f-95649b125c54",
   "metadata": {},
   "outputs": [
    {
     "data": {
      "text/plain": [
       "True"
      ]
     },
     "execution_count": 125,
     "metadata": {},
     "output_type": "execute_result"
    }
   ],
   "source": [
    "l1 = [\"strawberry\", \"ice\", \"cream\"]\n",
    "l2 = [\"strawberry\", \"ice\", \"cream\"]\n",
    "eqlist(l1, l2)"
   ]
  },
  {
   "cell_type": "code",
   "execution_count": 126,
   "id": "b423b860-0ada-4247-8e0b-133f440fa95d",
   "metadata": {},
   "outputs": [
    {
     "data": {
      "text/plain": [
       "False"
      ]
     },
     "execution_count": 126,
     "metadata": {},
     "output_type": "execute_result"
    }
   ],
   "source": [
    "l2 = [1, 2, 3]\n",
    "eqlist(l1, l2)"
   ]
  },
  {
   "cell_type": "markdown",
   "id": "b30958d4-bcc7-49f6-842c-548595d8f839",
   "metadata": {},
   "source": [
    "## The Sixth Commandment\n",
    "### Simplify only after the function is correct"
   ]
  },
  {
   "cell_type": "code",
   "execution_count": 127,
   "id": "0412b93c-44f5-49d1-943d-48af9e70a370",
   "metadata": {},
   "outputs": [],
   "source": [
    "def rember(s, l):\n",
    "    if null(l):\n",
    "        return []\n",
    "    elif is_atom(car(l)):\n",
    "        if equal(car(l), s):\n",
    "            return cdr(l)\n",
    "        else:\n",
    "            return cons(car(l), rember(s, cdr(l)))\n",
    "    elif equal(car(l), s):\n",
    "        return cdr(l)\n",
    "    else:\n",
    "        return cons(car(l), rember(s, cdr(l)))\n",
    "    "
   ]
  },
  {
   "cell_type": "code",
   "execution_count": 128,
   "id": "ab19792a-3360-47ac-8107-c899600df738",
   "metadata": {},
   "outputs": [
    {
     "data": {
      "text/plain": [
       "['lettuce', 'and', 'tomato']"
      ]
     },
     "execution_count": 128,
     "metadata": {},
     "output_type": "execute_result"
    }
   ],
   "source": [
    "a = \"bacon\"\n",
    "lat = [\"bacon\", \"lettuce\", \"and\", \"tomato\"]\n",
    "rember(a, lat)"
   ]
  },
  {
   "cell_type": "code",
   "execution_count": 129,
   "id": "ca7e2f8a-2ee9-42f9-b276-d3175faef1b9",
   "metadata": {},
   "outputs": [
    {
     "data": {
      "text/plain": [
       "['bacon', 'lettuce', 'tomato']"
      ]
     },
     "execution_count": 129,
     "metadata": {},
     "output_type": "execute_result"
    }
   ],
   "source": [
    "a = \"and\"\n",
    "lat = [\"bacon\", \"lettuce\", \"and\", \"tomato\"]\n",
    "rember(a, lat)"
   ]
  },
  {
   "cell_type": "code",
   "execution_count": 130,
   "id": "7538cf16-1013-4bcc-a3ba-adfdcf9fd4fa",
   "metadata": {},
   "outputs": [],
   "source": [
    "# simplified rember\n",
    "def rember(s, l):\n",
    "    if null(l):\n",
    "        return []\n",
    "    else:\n",
    "        if equal(car(l), s):\n",
    "            return cdr(l)\n",
    "        else:\n",
    "            return cons(car(l), rember(s, cdr(l)))"
   ]
  },
  {
   "cell_type": "code",
   "execution_count": 131,
   "id": "26ce9c57-6974-4ebd-8245-7298f545e5d6",
   "metadata": {},
   "outputs": [
    {
     "data": {
      "text/plain": [
       "['lettuce', 'and', 'tomato']"
      ]
     },
     "execution_count": 131,
     "metadata": {},
     "output_type": "execute_result"
    }
   ],
   "source": [
    "s = \"bacon\"\n",
    "l = [\"bacon\", \"lettuce\", \"and\", \"tomato\"]\n",
    "rember(s, l)"
   ]
  },
  {
   "cell_type": "code",
   "execution_count": 132,
   "id": "16871040-5bee-4b35-9a3d-ca95197e9d85",
   "metadata": {},
   "outputs": [
    {
     "data": {
      "text/plain": [
       "['bacon', 'lettuce', 'tomato']"
      ]
     },
     "execution_count": 132,
     "metadata": {},
     "output_type": "execute_result"
    }
   ],
   "source": [
    "s = \"and\"\n",
    "l = [\"bacon\", \"lettuce\", \"and\", \"tomato\"]\n",
    "rember(s, l)"
   ]
  },
  {
   "cell_type": "code",
   "execution_count": 133,
   "id": "619ddb15-7985-407f-842e-0a28d5d02261",
   "metadata": {},
   "outputs": [],
   "source": [
    "# EVEN MORE simplified rember\n",
    "def rember(s, l):\n",
    "    if null(l):\n",
    "        return []\n",
    "    elif equal(car(l), s):\n",
    "        return cdr(l)\n",
    "    else:\n",
    "        return cons(car(l), rember(s, cdr(l)))"
   ]
  },
  {
   "cell_type": "code",
   "execution_count": 134,
   "id": "95e7f1b8-d813-4a81-8094-42f26bc611b6",
   "metadata": {},
   "outputs": [
    {
     "data": {
      "text/plain": [
       "['lettuce', 'and', 'tomato']"
      ]
     },
     "execution_count": 134,
     "metadata": {},
     "output_type": "execute_result"
    }
   ],
   "source": [
    "s = \"bacon\"\n",
    "l = [\"bacon\", \"lettuce\", \"and\", \"tomato\"]\n",
    "rember(s, l)"
   ]
  },
  {
   "cell_type": "code",
   "execution_count": 135,
   "id": "da45fc12-a38e-451d-b10d-9275c517a545",
   "metadata": {},
   "outputs": [
    {
     "data": {
      "text/plain": [
       "['bacon', 'lettuce', 'tomato']"
      ]
     },
     "execution_count": 135,
     "metadata": {},
     "output_type": "execute_result"
    }
   ],
   "source": [
    "s = \"and\"\n",
    "l = [\"bacon\", \"lettuce\", \"and\", \"tomato\"]\n",
    "rember(s, l)"
   ]
  },
  {
   "cell_type": "markdown",
   "id": "27eb56b9-c7f4-478e-91f5-e60e1c739db3",
   "metadata": {},
   "source": [
    "# Chapter 6: Shadows"
   ]
  },
  {
   "cell_type": "code",
   "execution_count": 136,
   "id": "556d1518-9841-4054-b0e8-53a84bc9ab82",
   "metadata": {},
   "outputs": [],
   "source": [
    "def numbered(aexp):\n",
    "    if is_atom(aexp):\n",
    "        return number(aexp)\n",
    "    elif eq(car(cdr(aexp)), \"+\"):\n",
    "        return numbered(car(aexp)) and numbered(car(cdr(cdr(aexp))))\n",
    "    elif eq(car(cdr(aexp)), \"*\"):\n",
    "        return numbered(car(aexp)) and numbered(car(cdr(cdr(aexp))))    \n",
    "    elif eq(car(cdr(aexp)), \"^\"):\n",
    "        return numbered(car(aexp)) and numbered(car(cdr(cdr(aexp))))\n",
    "            "
   ]
  },
  {
   "cell_type": "code",
   "execution_count": 137,
   "id": "5ddfcbd6-a1f7-4c24-9bb9-3a6d76192c4c",
   "metadata": {},
   "outputs": [
    {
     "data": {
      "text/plain": [
       "True"
      ]
     },
     "execution_count": 137,
     "metadata": {},
     "output_type": "execute_result"
    }
   ],
   "source": [
    "aexp = [3, \"+\", 6]\n",
    "numbered(aexp)"
   ]
  },
  {
   "cell_type": "code",
   "execution_count": 138,
   "id": "ad114f42-183f-435e-9fdb-ebb96888a817",
   "metadata": {},
   "outputs": [],
   "source": [
    "#simplified\n",
    "def numbered(aexp):\n",
    "    if is_atom(aexp):\n",
    "        return number(aexp)\n",
    "    else:\n",
    "        return numbered(car(aexp)) and numbered(car(cdr(cdr(aexp))))"
   ]
  },
  {
   "cell_type": "code",
   "execution_count": 139,
   "id": "cb733ec5-3498-4597-b5f0-99c3a701990d",
   "metadata": {},
   "outputs": [
    {
     "data": {
      "text/plain": [
       "True"
      ]
     },
     "execution_count": 139,
     "metadata": {},
     "output_type": "execute_result"
    }
   ],
   "source": [
    "aexp = [3, \"+\", 6]\n",
    "numbered(aexp)"
   ]
  },
  {
   "cell_type": "code",
   "execution_count": 140,
   "id": "7328da16-e08a-47df-bd5e-f4f7985d4693",
   "metadata": {},
   "outputs": [
    {
     "data": {
      "text/plain": [
       "False"
      ]
     },
     "execution_count": 140,
     "metadata": {},
     "output_type": "execute_result"
    }
   ],
   "source": [
    "aexp = [2, \"*\", \"bird\"]\n",
    "numbered(aexp)"
   ]
  },
  {
   "cell_type": "code",
   "execution_count": 141,
   "id": "7c22695e-4080-4f2a-aa08-564f95e06aed",
   "metadata": {},
   "outputs": [],
   "source": [
    "def value(nexp):\n",
    "    if is_atom(nexp):\n",
    "        return nexp\n",
    "    elif eq(car(cdr(nexp)), \"+\"):\n",
    "        return plus(value(car(nexp)), value(car(cdr(cdr(nexp)))))\n",
    "    elif eq(car(cdr(nexp)), \"*\"):\n",
    "        return multiply(value(car(nexp)), value(car(cdr(cdr(nexp)))))\n",
    "    else:\n",
    "        return exponent(value(car(nexp)), value(car(cdr(cdr(nexp)))))"
   ]
  },
  {
   "cell_type": "code",
   "execution_count": 142,
   "id": "02c79ff3-098a-40ad-9553-87154b9f29aa",
   "metadata": {},
   "outputs": [
    {
     "data": {
      "text/plain": [
       "8"
      ]
     },
     "execution_count": 142,
     "metadata": {},
     "output_type": "execute_result"
    }
   ],
   "source": [
    "nexp = [2, \"*\", 4]\n",
    "value(nexp)"
   ]
  },
  {
   "cell_type": "markdown",
   "id": "5a6e666b-cb81-4fc0-ac52-edc88af27aa3",
   "metadata": {},
   "source": [
    "## The Seventh Commandment\n",
    "### Recur on the *subparts* that are the same nature:\n",
    "### - On the sublists of a list.\n",
    "### - On the subexpresssions of an arithmetic expression"
   ]
  },
  {
   "cell_type": "code",
   "execution_count": 143,
   "id": "023f0323-5e01-4223-97b5-6e1bb045c9d4",
   "metadata": {},
   "outputs": [],
   "source": [
    "def value(nexp):\n",
    "    if is_atom(nexp):\n",
    "        return nexp\n",
    "    elif eq(car(cdr(nexp)), \"+\"):\n",
    "        return plus(value(car(nexp)), value(cdr(cdr(nexp))))\n",
    "    elif eq(car(cdr(nexp)), \"*\"):\n",
    "        return multiply(value(cdr(nexp)), value(cdr(cdr(nexp))))\n",
    "    else:\n",
    "        return exponent(value(cdr(nexp)), value(cdr(cdr(nexp))))"
   ]
  },
  {
   "cell_type": "code",
   "execution_count": 144,
   "id": "b60dc162-5237-4ff6-a944-c1cbf7fc352d",
   "metadata": {},
   "outputs": [
    {
     "ename": "IndexError",
     "evalue": "list index out of range",
     "output_type": "error",
     "traceback": [
      "\u001b[0;31m---------------------------------------------------------------------------\u001b[0m",
      "\u001b[0;31mIndexError\u001b[0m                                Traceback (most recent call last)",
      "\u001b[0;32m<ipython-input-144-e8c822e5bcfa>\u001b[0m in \u001b[0;36m<module>\u001b[0;34m\u001b[0m\n\u001b[0;32m----> 1\u001b[0;31m \u001b[0mvalue\u001b[0m\u001b[0;34m(\u001b[0m\u001b[0mnexp\u001b[0m\u001b[0;34m)\u001b[0m\u001b[0;34m\u001b[0m\u001b[0;34m\u001b[0m\u001b[0m\n\u001b[0m",
      "\u001b[0;32m<ipython-input-143-4828495de64c>\u001b[0m in \u001b[0;36mvalue\u001b[0;34m(nexp)\u001b[0m\n\u001b[1;32m      5\u001b[0m         \u001b[0;32mreturn\u001b[0m \u001b[0mplus\u001b[0m\u001b[0;34m(\u001b[0m\u001b[0mvalue\u001b[0m\u001b[0;34m(\u001b[0m\u001b[0mcar\u001b[0m\u001b[0;34m(\u001b[0m\u001b[0mnexp\u001b[0m\u001b[0;34m)\u001b[0m\u001b[0;34m)\u001b[0m\u001b[0;34m,\u001b[0m \u001b[0mvalue\u001b[0m\u001b[0;34m(\u001b[0m\u001b[0mcdr\u001b[0m\u001b[0;34m(\u001b[0m\u001b[0mcdr\u001b[0m\u001b[0;34m(\u001b[0m\u001b[0mnexp\u001b[0m\u001b[0;34m)\u001b[0m\u001b[0;34m)\u001b[0m\u001b[0;34m)\u001b[0m\u001b[0;34m)\u001b[0m\u001b[0;34m\u001b[0m\u001b[0;34m\u001b[0m\u001b[0m\n\u001b[1;32m      6\u001b[0m     \u001b[0;32melif\u001b[0m \u001b[0meq\u001b[0m\u001b[0;34m(\u001b[0m\u001b[0mcar\u001b[0m\u001b[0;34m(\u001b[0m\u001b[0mcdr\u001b[0m\u001b[0;34m(\u001b[0m\u001b[0mnexp\u001b[0m\u001b[0;34m)\u001b[0m\u001b[0;34m)\u001b[0m\u001b[0;34m,\u001b[0m \u001b[0;34m\"*\"\u001b[0m\u001b[0;34m)\u001b[0m\u001b[0;34m:\u001b[0m\u001b[0;34m\u001b[0m\u001b[0;34m\u001b[0m\u001b[0m\n\u001b[0;32m----> 7\u001b[0;31m         \u001b[0;32mreturn\u001b[0m \u001b[0mmultiply\u001b[0m\u001b[0;34m(\u001b[0m\u001b[0mvalue\u001b[0m\u001b[0;34m(\u001b[0m\u001b[0mcdr\u001b[0m\u001b[0;34m(\u001b[0m\u001b[0mnexp\u001b[0m\u001b[0;34m)\u001b[0m\u001b[0;34m)\u001b[0m\u001b[0;34m,\u001b[0m \u001b[0mvalue\u001b[0m\u001b[0;34m(\u001b[0m\u001b[0mcdr\u001b[0m\u001b[0;34m(\u001b[0m\u001b[0mcdr\u001b[0m\u001b[0;34m(\u001b[0m\u001b[0mnexp\u001b[0m\u001b[0;34m)\u001b[0m\u001b[0;34m)\u001b[0m\u001b[0;34m)\u001b[0m\u001b[0;34m)\u001b[0m\u001b[0;34m\u001b[0m\u001b[0;34m\u001b[0m\u001b[0m\n\u001b[0m\u001b[1;32m      8\u001b[0m     \u001b[0;32melse\u001b[0m\u001b[0;34m:\u001b[0m\u001b[0;34m\u001b[0m\u001b[0;34m\u001b[0m\u001b[0m\n\u001b[1;32m      9\u001b[0m         \u001b[0;32mreturn\u001b[0m \u001b[0mexponent\u001b[0m\u001b[0;34m(\u001b[0m\u001b[0mvalue\u001b[0m\u001b[0;34m(\u001b[0m\u001b[0mcdr\u001b[0m\u001b[0;34m(\u001b[0m\u001b[0mnexp\u001b[0m\u001b[0;34m)\u001b[0m\u001b[0;34m)\u001b[0m\u001b[0;34m,\u001b[0m \u001b[0mvalue\u001b[0m\u001b[0;34m(\u001b[0m\u001b[0mcdr\u001b[0m\u001b[0;34m(\u001b[0m\u001b[0mcdr\u001b[0m\u001b[0;34m(\u001b[0m\u001b[0mnexp\u001b[0m\u001b[0;34m)\u001b[0m\u001b[0;34m)\u001b[0m\u001b[0;34m)\u001b[0m\u001b[0;34m)\u001b[0m\u001b[0;34m\u001b[0m\u001b[0;34m\u001b[0m\u001b[0m\n",
      "\u001b[0;32m<ipython-input-143-4828495de64c>\u001b[0m in \u001b[0;36mvalue\u001b[0;34m(nexp)\u001b[0m\n\u001b[1;32m      7\u001b[0m         \u001b[0;32mreturn\u001b[0m \u001b[0mmultiply\u001b[0m\u001b[0;34m(\u001b[0m\u001b[0mvalue\u001b[0m\u001b[0;34m(\u001b[0m\u001b[0mcdr\u001b[0m\u001b[0;34m(\u001b[0m\u001b[0mnexp\u001b[0m\u001b[0;34m)\u001b[0m\u001b[0;34m)\u001b[0m\u001b[0;34m,\u001b[0m \u001b[0mvalue\u001b[0m\u001b[0;34m(\u001b[0m\u001b[0mcdr\u001b[0m\u001b[0;34m(\u001b[0m\u001b[0mcdr\u001b[0m\u001b[0;34m(\u001b[0m\u001b[0mnexp\u001b[0m\u001b[0;34m)\u001b[0m\u001b[0;34m)\u001b[0m\u001b[0;34m)\u001b[0m\u001b[0;34m)\u001b[0m\u001b[0;34m\u001b[0m\u001b[0;34m\u001b[0m\u001b[0m\n\u001b[1;32m      8\u001b[0m     \u001b[0;32melse\u001b[0m\u001b[0;34m:\u001b[0m\u001b[0;34m\u001b[0m\u001b[0;34m\u001b[0m\u001b[0m\n\u001b[0;32m----> 9\u001b[0;31m         \u001b[0;32mreturn\u001b[0m \u001b[0mexponent\u001b[0m\u001b[0;34m(\u001b[0m\u001b[0mvalue\u001b[0m\u001b[0;34m(\u001b[0m\u001b[0mcdr\u001b[0m\u001b[0;34m(\u001b[0m\u001b[0mnexp\u001b[0m\u001b[0;34m)\u001b[0m\u001b[0;34m)\u001b[0m\u001b[0;34m,\u001b[0m \u001b[0mvalue\u001b[0m\u001b[0;34m(\u001b[0m\u001b[0mcdr\u001b[0m\u001b[0;34m(\u001b[0m\u001b[0mcdr\u001b[0m\u001b[0;34m(\u001b[0m\u001b[0mnexp\u001b[0m\u001b[0;34m)\u001b[0m\u001b[0;34m)\u001b[0m\u001b[0;34m)\u001b[0m\u001b[0;34m)\u001b[0m\u001b[0;34m\u001b[0m\u001b[0;34m\u001b[0m\u001b[0m\n\u001b[0m",
      "\u001b[0;32m<ipython-input-143-4828495de64c>\u001b[0m in \u001b[0;36mvalue\u001b[0;34m(nexp)\u001b[0m\n\u001b[1;32m      2\u001b[0m     \u001b[0;32mif\u001b[0m \u001b[0mis_atom\u001b[0m\u001b[0;34m(\u001b[0m\u001b[0mnexp\u001b[0m\u001b[0;34m)\u001b[0m\u001b[0;34m:\u001b[0m\u001b[0;34m\u001b[0m\u001b[0;34m\u001b[0m\u001b[0m\n\u001b[1;32m      3\u001b[0m         \u001b[0;32mreturn\u001b[0m \u001b[0mnexp\u001b[0m\u001b[0;34m\u001b[0m\u001b[0;34m\u001b[0m\u001b[0m\n\u001b[0;32m----> 4\u001b[0;31m     \u001b[0;32melif\u001b[0m \u001b[0meq\u001b[0m\u001b[0;34m(\u001b[0m\u001b[0mcar\u001b[0m\u001b[0;34m(\u001b[0m\u001b[0mcdr\u001b[0m\u001b[0;34m(\u001b[0m\u001b[0mnexp\u001b[0m\u001b[0;34m)\u001b[0m\u001b[0;34m)\u001b[0m\u001b[0;34m,\u001b[0m \u001b[0;34m\"+\"\u001b[0m\u001b[0;34m)\u001b[0m\u001b[0;34m:\u001b[0m\u001b[0;34m\u001b[0m\u001b[0;34m\u001b[0m\u001b[0m\n\u001b[0m\u001b[1;32m      5\u001b[0m         \u001b[0;32mreturn\u001b[0m \u001b[0mplus\u001b[0m\u001b[0;34m(\u001b[0m\u001b[0mvalue\u001b[0m\u001b[0;34m(\u001b[0m\u001b[0mcar\u001b[0m\u001b[0;34m(\u001b[0m\u001b[0mnexp\u001b[0m\u001b[0;34m)\u001b[0m\u001b[0;34m)\u001b[0m\u001b[0;34m,\u001b[0m \u001b[0mvalue\u001b[0m\u001b[0;34m(\u001b[0m\u001b[0mcdr\u001b[0m\u001b[0;34m(\u001b[0m\u001b[0mcdr\u001b[0m\u001b[0;34m(\u001b[0m\u001b[0mnexp\u001b[0m\u001b[0;34m)\u001b[0m\u001b[0;34m)\u001b[0m\u001b[0;34m)\u001b[0m\u001b[0;34m)\u001b[0m\u001b[0;34m\u001b[0m\u001b[0;34m\u001b[0m\u001b[0m\n\u001b[1;32m      6\u001b[0m     \u001b[0;32melif\u001b[0m \u001b[0meq\u001b[0m\u001b[0;34m(\u001b[0m\u001b[0mcar\u001b[0m\u001b[0;34m(\u001b[0m\u001b[0mcdr\u001b[0m\u001b[0;34m(\u001b[0m\u001b[0mnexp\u001b[0m\u001b[0;34m)\u001b[0m\u001b[0;34m)\u001b[0m\u001b[0;34m,\u001b[0m \u001b[0;34m\"*\"\u001b[0m\u001b[0;34m)\u001b[0m\u001b[0;34m:\u001b[0m\u001b[0;34m\u001b[0m\u001b[0;34m\u001b[0m\u001b[0m\n",
      "\u001b[0;32m<ipython-input-1-21d38a1a72c0>\u001b[0m in \u001b[0;36mcar\u001b[0;34m(l)\u001b[0m\n\u001b[1;32m     19\u001b[0m \u001b[0;32mdef\u001b[0m \u001b[0mcar\u001b[0m\u001b[0;34m(\u001b[0m\u001b[0ml\u001b[0m\u001b[0;34m)\u001b[0m\u001b[0;34m:\u001b[0m\u001b[0;34m\u001b[0m\u001b[0;34m\u001b[0m\u001b[0m\n\u001b[1;32m     20\u001b[0m     \u001b[0;34m\"returns first item in a list\"\u001b[0m\u001b[0;34m\u001b[0m\u001b[0;34m\u001b[0m\u001b[0m\n\u001b[0;32m---> 21\u001b[0;31m     \u001b[0;32mreturn\u001b[0m \u001b[0ml\u001b[0m\u001b[0;34m[\u001b[0m\u001b[0;36m0\u001b[0m\u001b[0;34m]\u001b[0m\u001b[0;34m\u001b[0m\u001b[0;34m\u001b[0m\u001b[0m\n\u001b[0m\u001b[1;32m     22\u001b[0m \u001b[0;34m\u001b[0m\u001b[0m\n\u001b[1;32m     23\u001b[0m \u001b[0;32mdef\u001b[0m \u001b[0mcdr\u001b[0m\u001b[0;34m(\u001b[0m\u001b[0ml\u001b[0m\u001b[0;34m)\u001b[0m\u001b[0;34m:\u001b[0m\u001b[0;34m\u001b[0m\u001b[0;34m\u001b[0m\u001b[0m\n",
      "\u001b[0;31mIndexError\u001b[0m: list index out of range"
     ]
    }
   ],
   "source": [
    "value(nexp)"
   ]
  },
  {
   "cell_type": "code",
   "execution_count": 145,
   "id": "a2a43f72-540c-4934-9e31-dafcc0c0f23e",
   "metadata": {},
   "outputs": [],
   "source": [
    "def first_sub_exp(aexp):\n",
    "    return car(cdr(aexp))"
   ]
  },
  {
   "cell_type": "code",
   "execution_count": 146,
   "id": "04471d40-2be9-471c-a199-17c0e6fccdb7",
   "metadata": {},
   "outputs": [],
   "source": [
    "def second_sub_exp(aexp):\n",
    "    return car(cdr(cdr(aexp)))"
   ]
  },
  {
   "cell_type": "code",
   "execution_count": 147,
   "id": "0b42fec0-74d6-4180-9852-dce4150e857e",
   "metadata": {},
   "outputs": [],
   "source": [
    "def operator(aexp):\n",
    "    return car(aexp)"
   ]
  },
  {
   "cell_type": "code",
   "execution_count": 148,
   "id": "908e3bf0-b17d-41bb-a749-ee33a20ea81e",
   "metadata": {},
   "outputs": [],
   "source": [
    "def value(nexp):\n",
    "    if is_atom(nexp):\n",
    "        return nexp\n",
    "    elif eq(operator(nexp), \"+\"):\n",
    "        return plus(value(first_sub_exp(nexp)), value(second_sub_exp(nexp)))\n",
    "    elif eq(operator(nexp), \"*\"):\n",
    "        return multiply(value(first_sub_exp(nexp)), value(second_sub_exp(nexp)))\n",
    "    else:\n",
    "        return exponent(value(first_sub_exp(nexp)), value(second_sub_exp(nexp)))\n"
   ]
  },
  {
   "cell_type": "code",
   "execution_count": 149,
   "id": "20b1faa6-79a0-431b-a73a-f8eb77aa212b",
   "metadata": {},
   "outputs": [
    {
     "data": {
      "text/plain": [
       "18"
      ]
     },
     "execution_count": 149,
     "metadata": {},
     "output_type": "execute_result"
    }
   ],
   "source": [
    "nexp = [\"*\", 3, 6]\n",
    "value(nexp)"
   ]
  },
  {
   "cell_type": "code",
   "execution_count": 150,
   "id": "2c3d83ff-3096-41a4-8ef8-9455dcf817a6",
   "metadata": {},
   "outputs": [],
   "source": [
    "# makes it so value handles [1, \"+\", 2]\n",
    "def first_sub_exp(aexp):\n",
    "    return car(aexp)\n",
    "\n",
    "def operator(aexp):\n",
    "    return car(cdr(aexp))"
   ]
  },
  {
   "cell_type": "code",
   "execution_count": 151,
   "id": "6bd76a61-deea-47c0-b382-09a69c40f1ab",
   "metadata": {},
   "outputs": [
    {
     "data": {
      "text/plain": [
       "3"
      ]
     },
     "execution_count": 151,
     "metadata": {},
     "output_type": "execute_result"
    }
   ],
   "source": [
    "nexp = [1, \"+\", 2]\n",
    "value(nexp)"
   ]
  },
  {
   "cell_type": "markdown",
   "id": "da1f4909-9f06-40d4-9589-5c4a0db97958",
   "metadata": {},
   "source": [
    "## The Eigth Commandment\n",
    "#### Use help functions to abstract form representations"
   ]
  },
  {
   "cell_type": "code",
   "execution_count": 152,
   "id": "6c4ee77b-430b-4539-9fd1-b8b6a8069f18",
   "metadata": {},
   "outputs": [],
   "source": [
    "def sero(n):\n",
    "    return null(n)"
   ]
  },
  {
   "cell_type": "code",
   "execution_count": 153,
   "id": "89f217e6-fd26-4401-a4f0-633681207910",
   "metadata": {},
   "outputs": [
    {
     "data": {
      "text/plain": [
       "True"
      ]
     },
     "execution_count": 153,
     "metadata": {},
     "output_type": "execute_result"
    }
   ],
   "source": [
    "sero([])"
   ]
  },
  {
   "cell_type": "code",
   "execution_count": 154,
   "id": "36743f2f-e159-4d86-92c3-ae8cc9dfbd21",
   "metadata": {},
   "outputs": [],
   "source": [
    "def edd1(n):\n",
    "    return cons([], n)"
   ]
  },
  {
   "cell_type": "code",
   "execution_count": 155,
   "id": "cd3063f2-9539-4c02-9f8f-cf6c8add08b5",
   "metadata": {},
   "outputs": [
    {
     "data": {
      "text/plain": [
       "[[], []]"
      ]
     },
     "execution_count": 155,
     "metadata": {},
     "output_type": "execute_result"
    }
   ],
   "source": [
    "edd1([[]])"
   ]
  },
  {
   "cell_type": "code",
   "execution_count": 156,
   "id": "e2ecdd7e-de74-40e8-ba24-295c1b7e5a64",
   "metadata": {},
   "outputs": [],
   "source": [
    "def zub1(n):\n",
    "    return cdr(n)"
   ]
  },
  {
   "cell_type": "code",
   "execution_count": 157,
   "id": "963936d5-2f3d-488a-9fbe-3311c0fb47da",
   "metadata": {},
   "outputs": [
    {
     "data": {
      "text/plain": [
       "[[], []]"
      ]
     },
     "execution_count": 157,
     "metadata": {},
     "output_type": "execute_result"
    }
   ],
   "source": [
    "zub1([[], [], []])"
   ]
  },
  {
   "cell_type": "code",
   "execution_count": 158,
   "id": "35681a96-81c4-46a1-839d-920b3b5af520",
   "metadata": {},
   "outputs": [
    {
     "ename": "ValueError",
     "evalue": "Cannot cdr empty list",
     "output_type": "error",
     "traceback": [
      "\u001b[0;31m---------------------------------------------------------------------------\u001b[0m",
      "\u001b[0;31mValueError\u001b[0m                                Traceback (most recent call last)",
      "\u001b[0;32m<ipython-input-158-85e25b8a4fe2>\u001b[0m in \u001b[0;36m<module>\u001b[0;34m\u001b[0m\n\u001b[0;32m----> 1\u001b[0;31m \u001b[0mzub1\u001b[0m\u001b[0;34m(\u001b[0m\u001b[0;34m[\u001b[0m\u001b[0;34m]\u001b[0m\u001b[0;34m)\u001b[0m\u001b[0;34m\u001b[0m\u001b[0;34m\u001b[0m\u001b[0m\n\u001b[0m",
      "\u001b[0;32m<ipython-input-156-2f759f97916f>\u001b[0m in \u001b[0;36mzub1\u001b[0;34m(n)\u001b[0m\n\u001b[1;32m      1\u001b[0m \u001b[0;32mdef\u001b[0m \u001b[0mzub1\u001b[0m\u001b[0;34m(\u001b[0m\u001b[0mn\u001b[0m\u001b[0;34m)\u001b[0m\u001b[0;34m:\u001b[0m\u001b[0;34m\u001b[0m\u001b[0;34m\u001b[0m\u001b[0m\n\u001b[0;32m----> 2\u001b[0;31m     \u001b[0;32mreturn\u001b[0m \u001b[0mcdr\u001b[0m\u001b[0;34m(\u001b[0m\u001b[0mn\u001b[0m\u001b[0;34m)\u001b[0m\u001b[0;34m\u001b[0m\u001b[0;34m\u001b[0m\u001b[0m\n\u001b[0m",
      "\u001b[0;32m<ipython-input-1-21d38a1a72c0>\u001b[0m in \u001b[0;36mcdr\u001b[0;34m(l)\u001b[0m\n\u001b[1;32m     24\u001b[0m     \u001b[0;34m\"returns a list without the first item\"\u001b[0m\u001b[0;34m\u001b[0m\u001b[0;34m\u001b[0m\u001b[0m\n\u001b[1;32m     25\u001b[0m     \u001b[0;32mif\u001b[0m \u001b[0mnull\u001b[0m\u001b[0;34m(\u001b[0m\u001b[0ml\u001b[0m\u001b[0;34m)\u001b[0m\u001b[0;34m:\u001b[0m\u001b[0;34m\u001b[0m\u001b[0;34m\u001b[0m\u001b[0m\n\u001b[0;32m---> 26\u001b[0;31m         \u001b[0;32mraise\u001b[0m \u001b[0mValueError\u001b[0m\u001b[0;34m(\u001b[0m\u001b[0;34m\"Cannot cdr empty list\"\u001b[0m\u001b[0;34m)\u001b[0m\u001b[0;34m\u001b[0m\u001b[0;34m\u001b[0m\u001b[0m\n\u001b[0m\u001b[1;32m     27\u001b[0m     \u001b[0;32mreturn\u001b[0m \u001b[0ml\u001b[0m\u001b[0;34m[\u001b[0m\u001b[0;36m1\u001b[0m\u001b[0;34m:\u001b[0m\u001b[0;34m]\u001b[0m\u001b[0;34m\u001b[0m\u001b[0;34m\u001b[0m\u001b[0m\n\u001b[1;32m     28\u001b[0m \u001b[0;34m\u001b[0m\u001b[0m\n",
      "\u001b[0;31mValueError\u001b[0m: Cannot cdr empty list"
     ]
    }
   ],
   "source": [
    "zub1([])"
   ]
  },
  {
   "cell_type": "code",
   "execution_count": 159,
   "id": "9c85a6fa-8947-4e7f-befd-78196032a7c4",
   "metadata": {},
   "outputs": [],
   "source": [
    "def plubs(n, m):\n",
    "    if sero(m):\n",
    "        return n\n",
    "    else:\n",
    "        return edd1(plubs(n, zub1(m)))"
   ]
  },
  {
   "cell_type": "code",
   "execution_count": 160,
   "id": "0ee95911-78ad-4418-a0eb-2b5eda2705e1",
   "metadata": {
    "tags": []
   },
   "outputs": [
    {
     "data": {
      "text/plain": [
       "[[], []]"
      ]
     },
     "execution_count": 160,
     "metadata": {},
     "output_type": "execute_result"
    }
   ],
   "source": [
    "plubs([[]], [[]])"
   ]
  },
  {
   "cell_type": "markdown",
   "id": "d1598e95-9823-47a8-8a9e-3d53adb32847",
   "metadata": {},
   "source": [
    "# Chapter 7: Friends and Relations"
   ]
  },
  {
   "cell_type": "code",
   "execution_count": 161,
   "id": "69f881e7-1050-4c83-8088-22f0b2ba8a00",
   "metadata": {},
   "outputs": [],
   "source": [
    "# rewrite member and multirember with equals instead of eq\n",
    "def member(a, lat):\n",
    "    if null(lat): \n",
    "        return False\n",
    "    else:\n",
    "        return (eqan(car(lat), a) or member(a, cdr(lat)))\n",
    "    \n",
    "def multirember(a, lat):\n",
    "    if null(lat):\n",
    "        return []\n",
    "    elif eqan(car(lat), a):\n",
    "        return multirember(a, cdr(lat))\n",
    "    else:\n",
    "        return cons(car(lat), multirember(a, cdr(lat)))\n"
   ]
  },
  {
   "cell_type": "code",
   "execution_count": 162,
   "id": "157130b7-1ac9-4207-8eea-a93859ed5b00",
   "metadata": {},
   "outputs": [],
   "source": [
    "def is_set_orig(lat):\n",
    "    if null(lat):\n",
    "        return True\n",
    "    else:\n",
    "        if member(car(lat), cdr(lat)):\n",
    "            return False\n",
    "        else:\n",
    "            return is_set_orig(cdr(lat))"
   ]
  },
  {
   "cell_type": "code",
   "execution_count": 163,
   "id": "6e2a3016-971a-409f-add1-7a82376e0f2d",
   "metadata": {},
   "outputs": [
    {
     "data": {
      "text/plain": [
       "True"
      ]
     },
     "execution_count": 163,
     "metadata": {},
     "output_type": "execute_result"
    }
   ],
   "source": [
    "lat = [1, 2, 3, 4]\n",
    "is_set_orig(lat)"
   ]
  },
  {
   "cell_type": "code",
   "execution_count": 164,
   "id": "1a6142bf-23a4-4d9d-9ca1-42fa7bd0ca9f",
   "metadata": {},
   "outputs": [
    {
     "data": {
      "text/plain": [
       "False"
      ]
     },
     "execution_count": 164,
     "metadata": {},
     "output_type": "execute_result"
    }
   ],
   "source": [
    "lat = [2, 2, 5, 3]\n",
    "is_set_orig(lat)"
   ]
  },
  {
   "cell_type": "code",
   "execution_count": 165,
   "id": "8a69e663-6504-44a6-8a1c-857ed61b2e96",
   "metadata": {},
   "outputs": [],
   "source": [
    "def is_set(lat):\n",
    "    if null(lat):\n",
    "        return True\n",
    "    elif member(car(lat), cdr(lat)):\n",
    "        return False\n",
    "    else:\n",
    "        return is_set(cdr(lat))"
   ]
  },
  {
   "cell_type": "code",
   "execution_count": 166,
   "id": "0eaaa926-2e56-4b04-98da-f30da8ceab03",
   "metadata": {},
   "outputs": [
    {
     "data": {
      "text/plain": [
       "True"
      ]
     },
     "execution_count": 166,
     "metadata": {},
     "output_type": "execute_result"
    }
   ],
   "source": [
    "lat = [1, 2, 3, 4]\n",
    "is_set(lat)"
   ]
  },
  {
   "cell_type": "code",
   "execution_count": 167,
   "id": "9f444cd8-1fa0-4db2-aafe-743f6ad16e8e",
   "metadata": {},
   "outputs": [
    {
     "data": {
      "text/plain": [
       "False"
      ]
     },
     "execution_count": 167,
     "metadata": {},
     "output_type": "execute_result"
    }
   ],
   "source": [
    "lat = [2, 2, 5, 3]\n",
    "is_set(lat)"
   ]
  },
  {
   "cell_type": "code",
   "execution_count": 168,
   "id": "a61cc43e-8108-42d5-8693-1be62eb7ab70",
   "metadata": {},
   "outputs": [
    {
     "data": {
      "text/plain": [
       "False"
      ]
     },
     "execution_count": 168,
     "metadata": {},
     "output_type": "execute_result"
    }
   ],
   "source": [
    "lat = [\"apple\", 3, \"pear\", 4, \"apple\", 3, 4]\n",
    "is_set(lat)"
   ]
  },
  {
   "cell_type": "code",
   "execution_count": 169,
   "id": "11a1c3b3-7bd0-449c-b923-dd1de2811ae5",
   "metadata": {},
   "outputs": [
    {
     "data": {
      "text/plain": [
       "True"
      ]
     },
     "execution_count": 169,
     "metadata": {},
     "output_type": "execute_result"
    }
   ],
   "source": [
    "lat = [\"apple\", 3, \"pear\", 4]\n",
    "is_set(lat)"
   ]
  },
  {
   "cell_type": "code",
   "execution_count": 170,
   "id": "0213c5a7-7bf0-4ceb-92f9-449e65ae7fdf",
   "metadata": {},
   "outputs": [],
   "source": [
    "def makeset(lat):\n",
    "    if null(lat):\n",
    "        return []\n",
    "    elif member(car(lat), cdr(lat)):\n",
    "        return makeset(cdr(lat))\n",
    "    else:\n",
    "        return cons(car(lat), makeset(cdr(lat)))"
   ]
  },
  {
   "cell_type": "code",
   "execution_count": 171,
   "id": "e5578277-2672-4c15-b5d4-70f7757b1718",
   "metadata": {},
   "outputs": [
    {
     "data": {
      "text/plain": [
       "['pear', 'apple', 3, 4]"
      ]
     },
     "execution_count": 171,
     "metadata": {},
     "output_type": "execute_result"
    }
   ],
   "source": [
    "lat = [\"apple\", 3, \"pear\", 4, \"apple\", 3, 4]\n",
    "makeset(lat)"
   ]
  },
  {
   "cell_type": "code",
   "execution_count": 172,
   "id": "697442f2-d172-4e0b-9262-9dec6bdc8b22",
   "metadata": {},
   "outputs": [
    {
     "data": {
      "text/plain": [
       "['pear', 'plum', 'apple', 'lemon', 'peach']"
      ]
     },
     "execution_count": 172,
     "metadata": {},
     "output_type": "execute_result"
    }
   ],
   "source": [
    "lat = [\"apple\", \"peach\", \"pear\", \"peach\", \"plum\", \"apple\", \"lemon\", \"peach\"]\n",
    "makeset(lat)"
   ]
  },
  {
   "cell_type": "code",
   "execution_count": 173,
   "id": "765473fc-de1a-4f79-891c-8982017b8a3e",
   "metadata": {},
   "outputs": [],
   "source": [
    "def makeset(lat):\n",
    "    if null(lat):\n",
    "        return []\n",
    "    else:\n",
    "        return cons(car(lat), makeset(multirember(car(lat), cdr(lat))))"
   ]
  },
  {
   "cell_type": "code",
   "execution_count": 174,
   "id": "834b3874-006e-43fe-a5ca-b6067ccf6f0f",
   "metadata": {},
   "outputs": [
    {
     "data": {
      "text/plain": [
       "['apple', 'peach', 'pear', 'plum', 'lemon']"
      ]
     },
     "execution_count": 174,
     "metadata": {},
     "output_type": "execute_result"
    }
   ],
   "source": [
    "lat = [\"apple\", \"peach\", \"pear\", \"peach\", \"plum\", \"apple\", \"lemon\", \"peach\"]\n",
    "makeset(lat)"
   ]
  },
  {
   "cell_type": "code",
   "execution_count": 175,
   "id": "830e3f68-90b1-45ce-bd9a-5f5ab56b2e00",
   "metadata": {},
   "outputs": [],
   "source": [
    "def subset(set1, set2):\n",
    "    if null(set1):\n",
    "        return True\n",
    "    elif member(car(set1), set2):\n",
    "        return subset(cdr(set1), set2)\n",
    "    else:\n",
    "        return False\n",
    "        "
   ]
  },
  {
   "cell_type": "code",
   "execution_count": 176,
   "id": "14d52a32-8e13-451a-a1a0-d05f1bda7d07",
   "metadata": {},
   "outputs": [
    {
     "data": {
      "text/plain": [
       "True"
      ]
     },
     "execution_count": 176,
     "metadata": {},
     "output_type": "execute_result"
    }
   ],
   "source": [
    "set1 = [5, \"chicken\", \"wings\"]\n",
    "set2 = [5, \"hamburgers\", 2, \"pieces\", \"fried\", \"chicken\", \"and\", \"light\", \"duckling\", \"wings\"]\n",
    "subset(set1, set2)"
   ]
  },
  {
   "cell_type": "code",
   "execution_count": 177,
   "id": "ab245ead-d284-4575-8673-ae56468cdb7b",
   "metadata": {},
   "outputs": [],
   "source": [
    "def eqst(set1, set2):\n",
    "    return subset(set1, set2) and subset(set2, set1)        "
   ]
  },
  {
   "cell_type": "code",
   "execution_count": 178,
   "id": "b5ba1655-0799-405f-b948-2de71f8c7e25",
   "metadata": {},
   "outputs": [
    {
     "data": {
      "text/plain": [
       "False"
      ]
     },
     "execution_count": 178,
     "metadata": {},
     "output_type": "execute_result"
    }
   ],
   "source": [
    "eqst(set1, set2)"
   ]
  },
  {
   "cell_type": "code",
   "execution_count": 179,
   "id": "11b81c2a-f1a7-4010-9406-f66d17671257",
   "metadata": {},
   "outputs": [
    {
     "data": {
      "text/plain": [
       "True"
      ]
     },
     "execution_count": 179,
     "metadata": {},
     "output_type": "execute_result"
    }
   ],
   "source": [
    "set1 = [6, \"large\", \"chickens\", \"with\", \"wings\"]\n",
    "set2 = [6, \"chickens\", \"with\", \"large\", \"wings\"]\n",
    "eqst(set1, set2)"
   ]
  },
  {
   "cell_type": "code",
   "execution_count": 180,
   "id": "716546c9-a41a-4179-9f21-9011749f66b8",
   "metadata": {},
   "outputs": [],
   "source": [
    "def intersect(set1, set2):\n",
    "    if null(set1):\n",
    "        return False\n",
    "    elif member(car(set1), set2):\n",
    "        return True\n",
    "    else:\n",
    "        intersect(cdr(set1), set2)"
   ]
  },
  {
   "cell_type": "code",
   "execution_count": 181,
   "id": "fb420441-1fdf-4a63-ae3c-cd6112c7be6b",
   "metadata": {},
   "outputs": [
    {
     "data": {
      "text/plain": [
       "True"
      ]
     },
     "execution_count": 181,
     "metadata": {},
     "output_type": "execute_result"
    }
   ],
   "source": [
    "intersect(set1, set2)"
   ]
  },
  {
   "cell_type": "code",
   "execution_count": 182,
   "id": "40112fe5-ea89-4067-b05e-33784c020deb",
   "metadata": {},
   "outputs": [],
   "source": [
    "def intersect(set1, set2):\n",
    "    if null(set1):\n",
    "        return False\n",
    "    else:\n",
    "        return member(car(set1), set2) or intersect(cdr(set1), set2)"
   ]
  },
  {
   "cell_type": "code",
   "execution_count": 183,
   "id": "17fdd2e6-8873-4692-8435-22b4b495181b",
   "metadata": {},
   "outputs": [
    {
     "data": {
      "text/plain": [
       "True"
      ]
     },
     "execution_count": 183,
     "metadata": {},
     "output_type": "execute_result"
    }
   ],
   "source": [
    "intersect(set1, set2)"
   ]
  },
  {
   "cell_type": "code",
   "execution_count": 184,
   "id": "a2dd279c-15a4-4174-9b8a-f0d361c619a6",
   "metadata": {},
   "outputs": [
    {
     "data": {
      "text/plain": [
       "False"
      ]
     },
     "execution_count": 184,
     "metadata": {},
     "output_type": "execute_result"
    }
   ],
   "source": [
    "set1 = [1, 2 ,3]\n",
    "set2 = [4, 5, 6]\n",
    "intersect(set1, set2)"
   ]
  },
  {
   "cell_type": "code",
   "execution_count": 185,
   "id": "13d3764b-52a4-4f35-a322-716a1c1fb500",
   "metadata": {},
   "outputs": [],
   "source": [
    "def intersect(set1, set2):\n",
    "    if null(set1):\n",
    "        return []\n",
    "    elif member(car(set1), set2):\n",
    "        return cons(car(set1), intersect(cdr(set1), set2))\n",
    "    else:\n",
    "        return intersect(cdr(set1), set2)"
   ]
  },
  {
   "cell_type": "code",
   "execution_count": 186,
   "id": "af7a35d3-b354-4898-a048-0322e6001c7f",
   "metadata": {},
   "outputs": [
    {
     "data": {
      "text/plain": [
       "[]"
      ]
     },
     "execution_count": 186,
     "metadata": {},
     "output_type": "execute_result"
    }
   ],
   "source": [
    "intersect(set1, set2)"
   ]
  },
  {
   "cell_type": "code",
   "execution_count": 187,
   "id": "573db643-ca64-4dfa-bf7b-b91654799fc3",
   "metadata": {},
   "outputs": [
    {
     "data": {
      "text/plain": [
       "[6, 'large', 'chickens', 'with', 'wings']"
      ]
     },
     "execution_count": 187,
     "metadata": {},
     "output_type": "execute_result"
    }
   ],
   "source": [
    "set1 = [6, \"large\", \"chickens\", \"with\", \"wings\"]\n",
    "set2 = [6, \"chickens\", \"with\", \"large\", \"wings\"]\n",
    "intersect(set1, set2)"
   ]
  },
  {
   "cell_type": "code",
   "execution_count": 188,
   "id": "3970a055-4886-42a7-8e10-8ac46589876c",
   "metadata": {},
   "outputs": [],
   "source": [
    "def union(set1, set2):\n",
    "    if null(set1):\n",
    "        return set2\n",
    "    elif member(car(set1), set2):\n",
    "        return union(cdr(set1), set2)\n",
    "    else:\n",
    "        return cons(car(set1), union(cdr(set1), set2))"
   ]
  },
  {
   "cell_type": "code",
   "execution_count": 189,
   "id": "67f0ca55-6d35-4401-8978-de703e067bed",
   "metadata": {},
   "outputs": [
    {
     "data": {
      "text/plain": [
       "[1, 2, 3, 4, 5, 6]"
      ]
     },
     "execution_count": 189,
     "metadata": {},
     "output_type": "execute_result"
    }
   ],
   "source": [
    "set1 = [1, 2 ,3]\n",
    "set2 = [4, 5, 6]\n",
    "union(set1, set2)"
   ]
  },
  {
   "cell_type": "code",
   "execution_count": 190,
   "id": "d4e84d1f-1b79-4e94-938e-714d78e434a7",
   "metadata": {},
   "outputs": [],
   "source": [
    "def difference(set1, set2):\n",
    "    if null(set1):\n",
    "        return []\n",
    "    elif member(car(set1), set2):\n",
    "        return difference(cdr(set1), set2)\n",
    "    else:\n",
    "        return cons(car(set1), difference(cdr(set1), set2))"
   ]
  },
  {
   "cell_type": "code",
   "execution_count": 191,
   "id": "57b0b121-eeb1-4f51-a017-ba3428bf3ac3",
   "metadata": {},
   "outputs": [
    {
     "data": {
      "text/plain": [
       "[1, 2, 3]"
      ]
     },
     "execution_count": 191,
     "metadata": {},
     "output_type": "execute_result"
    }
   ],
   "source": [
    "set1 = [1, 2 ,3]\n",
    "set2 = [4, 5, 6]\n",
    "difference(set1, set2)"
   ]
  },
  {
   "cell_type": "code",
   "execution_count": 192,
   "id": "7e9da74e-8ab5-4735-85ab-ca297d665779",
   "metadata": {},
   "outputs": [
    {
     "data": {
      "text/plain": [
       "[]"
      ]
     },
     "execution_count": 192,
     "metadata": {},
     "output_type": "execute_result"
    }
   ],
   "source": [
    "set1 = [6, \"large\", \"chickens\", \"with\", \"wings\"]\n",
    "set2 = [6, \"chickens\", \"with\", \"large\", \"wings\"]\n",
    "difference(set1, set2)"
   ]
  },
  {
   "cell_type": "code",
   "execution_count": 193,
   "id": "bdad2d6d-a7a4-44d3-a4e7-3cbc4274f660",
   "metadata": {},
   "outputs": [],
   "source": [
    "def intersectall(lset):\n",
    "    if null(cdr(lset)):\n",
    "        return car(lset)\n",
    "    else:\n",
    "        return intersect(car(lset), intersectall(cdr(lset)))"
   ]
  },
  {
   "cell_type": "code",
   "execution_count": 194,
   "id": "f215aa2d-1237-4e84-b1f9-0cf7f760d468",
   "metadata": {},
   "outputs": [
    {
     "data": {
      "text/plain": [
       "[6, 'and']"
      ]
     },
     "execution_count": 194,
     "metadata": {},
     "output_type": "execute_result"
    }
   ],
   "source": [
    "lset =[\n",
    "    [6, \"pears\", \"and\"],\n",
    "    [3, \"peaches\", \"and\", 6, \"peppers\"],\n",
    "    [8, \"pears\", \"and\", 6, \"plums\"],\n",
    "    [\"and\", 6, \"prunes\", \"with\", \"some\", \"apples\"]\n",
    "]\n",
    "intersectall(lset)"
   ]
  },
  {
   "cell_type": "code",
   "execution_count": 195,
   "id": "a20a2ba2-d9c7-441d-b450-716fbb10030b",
   "metadata": {},
   "outputs": [],
   "source": [
    "def apair(x):\n",
    "    if is_atom(x):\n",
    "        return False\n",
    "    if null(x):\n",
    "        return False\n",
    "    if null(cdr(x)):\n",
    "        return False\n",
    "    if null(cdr(cdr(x))):\n",
    "        return True\n",
    "    else:\n",
    "        return False"
   ]
  },
  {
   "cell_type": "code",
   "execution_count": 196,
   "id": "30fc097c-fd60-4ffe-9052-0cacceabbab7",
   "metadata": {},
   "outputs": [
    {
     "data": {
      "text/plain": [
       "True"
      ]
     },
     "execution_count": 196,
     "metadata": {},
     "output_type": "execute_result"
    }
   ],
   "source": [
    "apair([1, 2])"
   ]
  },
  {
   "cell_type": "code",
   "execution_count": 197,
   "id": "f094f3e5-c508-491d-8bc7-3ff045c45f45",
   "metadata": {},
   "outputs": [
    {
     "data": {
      "text/plain": [
       "False"
      ]
     },
     "execution_count": 197,
     "metadata": {},
     "output_type": "execute_result"
    }
   ],
   "source": [
    "apair(3)"
   ]
  },
  {
   "cell_type": "code",
   "execution_count": 198,
   "id": "25cffc7f-26f1-44d0-b795-8450fae44c81",
   "metadata": {},
   "outputs": [
    {
     "data": {
      "text/plain": [
       "True"
      ]
     },
     "execution_count": 198,
     "metadata": {},
     "output_type": "execute_result"
    }
   ],
   "source": [
    "apair([1, [2,3]])"
   ]
  },
  {
   "cell_type": "code",
   "execution_count": 199,
   "id": "19448fe1-e06e-4e91-a9d7-7f51ed2594fa",
   "metadata": {},
   "outputs": [],
   "source": [
    "def first(p):\n",
    "    \"returns first object of p\"\n",
    "    return car(p)\n",
    "\n",
    "def second(p):\n",
    "    \"returns second object of p\"\n",
    "    return car(cdr(p))\n",
    "\n",
    "def build(s1, s2):\n",
    "    \"builds a single list from 2 s expressions\"\n",
    "    return cons(s1, cons(s2, []))\n",
    "\n",
    "def third(p):\n",
    "    \"returns the third item in a list\"\n",
    "    return car(cdr(cdr(p)))"
   ]
  },
  {
   "cell_type": "code",
   "execution_count": 200,
   "id": "6f62c680-e9c8-440d-8c5c-80f5bbfd39b6",
   "metadata": {},
   "outputs": [],
   "source": [
    "def fun(rel):\n",
    "    \"\"\"\n",
    "    checks if list of pairs is a finite function, ie\n",
    "    a list of pairs where the first values are not \n",
    "    duplicated\n",
    "    \"\"\"\n",
    "    if is_set(firsts(rel)):\n",
    "        return True\n",
    "    else:\n",
    "        return False"
   ]
  },
  {
   "cell_type": "code",
   "execution_count": 201,
   "id": "340d03ce-b1f9-4eda-87a3-06fed11a05ca",
   "metadata": {},
   "outputs": [
    {
     "data": {
      "text/plain": [
       "True"
      ]
     },
     "execution_count": 201,
     "metadata": {},
     "output_type": "execute_result"
    }
   ],
   "source": [
    "rel = [[8, 3], [4, 2]]\n",
    "fun(rel)"
   ]
  },
  {
   "cell_type": "code",
   "execution_count": 202,
   "id": "bd36d6aa-ee2c-454e-8b63-388371c664a4",
   "metadata": {},
   "outputs": [
    {
     "data": {
      "text/plain": [
       "False"
      ]
     },
     "execution_count": 202,
     "metadata": {},
     "output_type": "execute_result"
    }
   ],
   "source": [
    "rel = [[8, 3], [4, 2], [4, 5]]\n",
    "fun(rel)"
   ]
  },
  {
   "cell_type": "code",
   "execution_count": 203,
   "id": "178e5ae2-44c0-4afe-aebd-33d039c7d4c8",
   "metadata": {},
   "outputs": [],
   "source": [
    "def revrel(rel):\n",
    "    \"\"\"reverses each pair in a relation\"\"\"\n",
    "    if null(rel):\n",
    "        return []\n",
    "    else:\n",
    "        return cons(build(second(car(rel)), first(car(rel))), revrel(cdr(rel)))"
   ]
  },
  {
   "cell_type": "code",
   "execution_count": 204,
   "id": "bf12305c-02b8-416f-85ac-55b1b51e8e91",
   "metadata": {},
   "outputs": [
    {
     "data": {
      "text/plain": [
       "[[3, 8], [2, 4], [5, 4]]"
      ]
     },
     "execution_count": 204,
     "metadata": {},
     "output_type": "execute_result"
    }
   ],
   "source": [
    "rel = [[8, 3], [4, 2], [4, 5]]\n",
    "revrel(rel)"
   ]
  },
  {
   "cell_type": "code",
   "execution_count": 205,
   "id": "c54601ea-3a91-44e9-b78f-90416631c9d2",
   "metadata": {},
   "outputs": [],
   "source": [
    "def revpair(pair):\n",
    "    \"reverses a single pair\"\n",
    "    return build(second(pair), first(pair))"
   ]
  },
  {
   "cell_type": "code",
   "execution_count": 206,
   "id": "47041dd8-c315-459d-a736-0a6c79a73611",
   "metadata": {},
   "outputs": [],
   "source": [
    "def revrel(rel):\n",
    "    if null(rel):\n",
    "        return []\n",
    "    else:\n",
    "        return cons(revpair(car(rel)), revrel(cdr(rel)))"
   ]
  },
  {
   "cell_type": "code",
   "execution_count": 207,
   "id": "61719b55-d001-4d67-8ec6-c2fe1fe0c6a8",
   "metadata": {},
   "outputs": [
    {
     "data": {
      "text/plain": [
       "[[3, 8], [2, 4], [5, 4]]"
      ]
     },
     "execution_count": 207,
     "metadata": {},
     "output_type": "execute_result"
    }
   ],
   "source": [
    "rel = [[8, 3], [4, 2], [4, 5]]\n",
    "revrel(rel)"
   ]
  },
  {
   "cell_type": "code",
   "execution_count": 208,
   "id": "872b5b14-85b5-4f74-a78e-2e0b36911806",
   "metadata": {},
   "outputs": [],
   "source": [
    "def fullfun(fun):\n",
    "    \"\"\"returns whether all the second values\n",
    "    in a function are unique\"\"\"\n",
    "    return is_set(firsts(revrel(rel)))"
   ]
  },
  {
   "cell_type": "code",
   "execution_count": 209,
   "id": "32e8d5ba-77f3-4630-8cb7-8d54fc2ed8eb",
   "metadata": {},
   "outputs": [
    {
     "data": {
      "text/plain": [
       "True"
      ]
     },
     "execution_count": 209,
     "metadata": {},
     "output_type": "execute_result"
    }
   ],
   "source": [
    "rel = [[\"grape\", \"raisin\"], [\"plum\", \"prune\"], [\"stewed\", \"grape\"]]\n",
    "fullfun(rel)"
   ]
  },
  {
   "cell_type": "code",
   "execution_count": 210,
   "id": "ffd01fbd-fac6-45a1-b534-42d2460668b2",
   "metadata": {},
   "outputs": [
    {
     "data": {
      "text/plain": [
       "False"
      ]
     },
     "execution_count": 210,
     "metadata": {},
     "output_type": "execute_result"
    }
   ],
   "source": [
    "rel = [[1,2], [2, 3], [3,2]]\n",
    "fullfun(rel)"
   ]
  },
  {
   "cell_type": "code",
   "execution_count": 211,
   "id": "3bb29544-e2e2-4ee3-a812-0b2751c5fc04",
   "metadata": {},
   "outputs": [],
   "source": [
    "def one_to_one(rel):\n",
    "    return fun(revrel(rel))"
   ]
  },
  {
   "cell_type": "code",
   "execution_count": 212,
   "id": "4f528cea-9248-4932-b0d0-761731c00c8c",
   "metadata": {},
   "outputs": [
    {
     "data": {
      "text/plain": [
       "False"
      ]
     },
     "execution_count": 212,
     "metadata": {},
     "output_type": "execute_result"
    }
   ],
   "source": [
    "one_to_one(rel)"
   ]
  },
  {
   "cell_type": "markdown",
   "id": "8651e2cc-3b33-42e4-8269-afe3a7494f2f",
   "metadata": {},
   "source": [
    "# Chapter 8: Lambda the Ultimate"
   ]
  },
  {
   "cell_type": "code",
   "execution_count": 284,
   "id": "da4a9c7e-2ef6-426f-9e03-a36df47dc5f0",
   "metadata": {},
   "outputs": [],
   "source": [
    "def rember_f(test, a, l):\n",
    "    if null(l):\n",
    "        return []\n",
    "    elif test(car(l), a):\n",
    "        return cdr(l)\n",
    "    return cons(car(l), rember_f(test, a, cdr(l)))\n",
    "        "
   ]
  },
  {
   "cell_type": "code",
   "execution_count": 285,
   "id": "8e90013d-13fa-405c-a3e2-2e4261db46fc",
   "metadata": {},
   "outputs": [
    {
     "data": {
      "text/plain": [
       "['beans', 'are', 'good']"
      ]
     },
     "execution_count": 285,
     "metadata": {},
     "output_type": "execute_result"
    }
   ],
   "source": [
    "a = \"jelly\"\n",
    "l = [\"jelly\", \"beans\", \"are\", \"good\"]\n",
    "rember_f(eq, a, l)"
   ]
  },
  {
   "cell_type": "code",
   "execution_count": 286,
   "id": "1a9b2420-2c61-4f0e-8897-781ab1dcef3f",
   "metadata": {},
   "outputs": [],
   "source": [
    "def eq_minus_c(a):\n",
    "    def inner(x):\n",
    "        return eq(x, a)\n",
    "    return inner"
   ]
  },
  {
   "cell_type": "code",
   "execution_count": 287,
   "id": "d213b6c5-0c61-4efc-9f07-0666a8483b2a",
   "metadata": {},
   "outputs": [],
   "source": [
    "eq_salad = eq_minus_c(\"salad\")"
   ]
  },
  {
   "cell_type": "code",
   "execution_count": 288,
   "id": "0d420c3f-a88d-4935-90e5-635357b5b2d5",
   "metadata": {},
   "outputs": [
    {
     "data": {
      "text/plain": [
       "True"
      ]
     },
     "execution_count": 288,
     "metadata": {},
     "output_type": "execute_result"
    }
   ],
   "source": [
    "eq_salad(\"salad\")"
   ]
  },
  {
   "cell_type": "code",
   "execution_count": 289,
   "id": "183298f4-f8e9-4f37-9418-15f6b5bc8b82",
   "metadata": {},
   "outputs": [
    {
     "data": {
      "text/plain": [
       "False"
      ]
     },
     "execution_count": 289,
     "metadata": {},
     "output_type": "execute_result"
    }
   ],
   "source": [
    "eq_salad(\"tuna\")"
   ]
  },
  {
   "cell_type": "code",
   "execution_count": 290,
   "id": "6fa07df6-9c31-4b68-979e-11671d38054b",
   "metadata": {},
   "outputs": [],
   "source": [
    "def rember_f(test):\n",
    "    def lam(a, l):\n",
    "        if null(l):\n",
    "            return []\n",
    "        elif test(car(l), a):\n",
    "            return cdr(l)\n",
    "        return cons(car(l), rember_f(test)(a, cdr(l)))\n",
    "    return lam"
   ]
  },
  {
   "cell_type": "code",
   "execution_count": 291,
   "id": "9adb8309-1095-4214-a766-09b62f2ce014",
   "metadata": {},
   "outputs": [],
   "source": [
    "rember_eq = rember_f(eq)"
   ]
  },
  {
   "cell_type": "code",
   "execution_count": 292,
   "id": "d1aa3131-a954-45ab-b8fd-f598039a507f",
   "metadata": {},
   "outputs": [
    {
     "data": {
      "text/plain": [
       "['beans', 'are', 'good']"
      ]
     },
     "execution_count": 292,
     "metadata": {},
     "output_type": "execute_result"
    }
   ],
   "source": [
    "rember_eq(a, l)"
   ]
  },
  {
   "cell_type": "code",
   "execution_count": 293,
   "id": "19edd0be-d15d-4aaa-9469-8f1f32bf81b3",
   "metadata": {},
   "outputs": [
    {
     "data": {
      "text/plain": [
       "['salad', 'is', 'good']"
      ]
     },
     "execution_count": 293,
     "metadata": {},
     "output_type": "execute_result"
    }
   ],
   "source": [
    "a = \"tuna\"\n",
    "l = [\"salad\", \"is\", \"tuna\", \"good\"]\n",
    "rember_eq(a, l)"
   ]
  },
  {
   "cell_type": "code",
   "execution_count": 294,
   "id": "0fed4712-8e01-49a3-8566-eec75a879373",
   "metadata": {},
   "outputs": [
    {
     "data": {
      "text/plain": [
       "['shrimp', 'salad', 'and', 'salad']"
      ]
     },
     "execution_count": 294,
     "metadata": {},
     "output_type": "execute_result"
    }
   ],
   "source": [
    "a = \"tuna\"\n",
    "l = [\"shrimp\", \"salad\", \"and\", \"tuna\", \"salad\"]\n",
    "rember_eq(a, l)"
   ]
  },
  {
   "cell_type": "code",
   "execution_count": 295,
   "id": "55407584-ce46-4214-a1df-5b6910b5518c",
   "metadata": {},
   "outputs": [],
   "source": [
    "def insertL_f(test):\n",
    "    def lam(new, old, lat):\n",
    "        if null(lat):\n",
    "            return []\n",
    "        elif test(car(lat), old):\n",
    "            return cons(new, cons(old, cdr(lat)))\n",
    "        return cons(car(lat), insertL_f(test)(new, old, cdr(lat)))"
   ]
  },
  {
   "cell_type": "code",
   "execution_count": 296,
   "id": "19fe6faf-3cbb-44e9-81b0-5751ed4fe734",
   "metadata": {},
   "outputs": [],
   "source": [
    "def insertR_f(test):\n",
    "    def lam(new, old, lat):\n",
    "        if null(lat):\n",
    "            return []\n",
    "        elif test(car(lat), old):\n",
    "            return cons(old, cons(new, cdr(lat)))\n",
    "        return cons(car(lat), insertR_f(test)(new, old, cdr(lat)))"
   ]
  },
  {
   "cell_type": "code",
   "execution_count": 299,
   "id": "e76e3fce-cec3-41cd-ac46-d042c0bde712",
   "metadata": {},
   "outputs": [],
   "source": [
    "def seqL(new, old, lat):\n",
    "    return cons(new, cons(old, lat))\n",
    "\n",
    "def seqR(new, old, lat):\n",
    "    return cons(old, cons(new, lat))"
   ]
  },
  {
   "cell_type": "code",
   "execution_count": 300,
   "id": "6459a20d-3a4c-4b6a-8894-aa1755fd15a0",
   "metadata": {},
   "outputs": [],
   "source": [
    "def insert_g(seq):\n",
    "    def lam(new, old, l):\n",
    "        if null(l):\n",
    "            return []\n",
    "        elif eq(car(l), old):\n",
    "            return seq(new, old, cdr(l))\n",
    "        return cons(car(l), insert_g(seq)(new, old, cdr(l))) \n",
    "    return lam"
   ]
  },
  {
   "cell_type": "code",
   "execution_count": 302,
   "id": "48536d51-8011-424d-ac8f-fc3b415bfcb8",
   "metadata": {},
   "outputs": [],
   "source": [
    "insertL = insert_g(seqL)\n",
    "insertR = insert_g(seqR)"
   ]
  },
  {
   "cell_type": "code",
   "execution_count": 305,
   "id": "b410ceb6-a942-41ed-a2b1-92b1f7dac98d",
   "metadata": {},
   "outputs": [],
   "source": [
    "insertL = insert_g(lambda new, old, l: cons(new, cons(old, l)))\n",
    "insertR = insert_g(lambda new, old, l: cons(old, cons(new, l)))"
   ]
  },
  {
   "cell_type": "code",
   "execution_count": 307,
   "id": "1670b6ad-42f2-4df8-896a-a371e88c570d",
   "metadata": {},
   "outputs": [
    {
     "data": {
      "text/plain": [
       "[5, 3, 2, 1, 1, 4]"
      ]
     },
     "execution_count": 307,
     "metadata": {},
     "output_type": "execute_result"
    }
   ],
   "source": [
    "insertR(1, 2, [5, 3, 2, 1, 4])"
   ]
  },
  {
   "cell_type": "code",
   "execution_count": 308,
   "id": "41433b7a-ff4c-4110-848e-34511920aa4e",
   "metadata": {},
   "outputs": [
    {
     "data": {
      "text/plain": [
       "[5, 3, 1, 2, 1, 4]"
      ]
     },
     "execution_count": 308,
     "metadata": {},
     "output_type": "execute_result"
    }
   ],
   "source": [
    "insertL(1, 2, [5, 3, 2, 1, 4])"
   ]
  },
  {
   "cell_type": "code",
   "execution_count": 321,
   "id": "4384e702-66d9-4f16-a259-0c52ea51cfb2",
   "metadata": {},
   "outputs": [],
   "source": [
    "def seqS(new, old, l):\n",
    "    return cons(new, l)"
   ]
  },
  {
   "cell_type": "code",
   "execution_count": 322,
   "id": "9b760014-51b0-4a7c-9e95-b97a6224750b",
   "metadata": {},
   "outputs": [],
   "source": [
    "subst = insert_g(seqS)"
   ]
  },
  {
   "cell_type": "code",
   "execution_count": 323,
   "id": "c0308930-20ac-47b4-ad24-efbc5d939645",
   "metadata": {},
   "outputs": [
    {
     "data": {
      "text/plain": [
       "[4, 5, 3, 1]"
      ]
     },
     "execution_count": 323,
     "metadata": {},
     "output_type": "execute_result"
    }
   ],
   "source": [
    "subst(1, 2, [4, 5, 3, 2])"
   ]
  },
  {
   "cell_type": "markdown",
   "id": "f504c356-3ff8-4120-b92a-ee79edbf782c",
   "metadata": {},
   "source": [
    "## The Ninth Commandment\n",
    "### Abstract common patterns with a new function"
   ]
  },
  {
   "cell_type": "code",
   "execution_count": null,
   "id": "fcb0c89d-76d4-444e-a040-0af508f55b41",
   "metadata": {},
   "outputs": [],
   "source": [
    " "
   ]
  }
 ],
 "metadata": {
  "kernelspec": {
   "display_name": "Python 3",
   "language": "python",
   "name": "python3"
  },
  "language_info": {
   "codemirror_mode": {
    "name": "ipython",
    "version": 3
   },
   "file_extension": ".py",
   "mimetype": "text/x-python",
   "name": "python",
   "nbconvert_exporter": "python",
   "pygments_lexer": "ipython3",
   "version": "3.8.8"
  }
 },
 "nbformat": 4,
 "nbformat_minor": 5
}
