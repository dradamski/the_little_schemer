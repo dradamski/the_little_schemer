{
 "cells": [
  {
   "cell_type": "markdown",
   "id": "193f82f0-2fb4-4959-b240-797b93d182ca",
   "metadata": {},
   "source": [
    "## Scheme Jargon\n",
    "These are built in functions used in LISP"
   ]
  },
  {
   "cell_type": "code",
   "execution_count": 1,
   "id": "d52ea580-0871-4421-b19f-3e420abf89e5",
   "metadata": {},
   "outputs": [],
   "source": [
    "def null(lat):\n",
    "    \"checks if x is null\"\n",
    "    if type(lat) == list:\n",
    "        return len(lat) == 0\n",
    "    else:\n",
    "        raise TypeError(\"only checks lists\")\n",
    "\n",
    "def is_pair(x):\n",
    "    \"checks if x is a pair\"\n",
    "    if type(x) is list:\n",
    "        return len(x) == 2\n",
    "    else:\n",
    "        False\n",
    "        \n",
    "def zero(n):\n",
    "    \"checks if x is 0\"\n",
    "    return n == 0\n",
    "\n",
    "def car(l):\n",
    "    \"returns first item in a list\"\n",
    "    return l[0]\n",
    "\n",
    "def cdr(l):\n",
    "    \"returns a list without the first item\"\n",
    "    return l[1:]\n",
    "\n",
    "def eq(a, b):\n",
    "    \"returns equality of two items\"\n",
    "    return a == b\n",
    "\n",
    "def add1(a):\n",
    "    \"adds q\"\n",
    "    return a + 1\n",
    "\n",
    "def sub1(a):\n",
    "    \"subtracts 1\"\n",
    "    return a - 1\n",
    "\n",
    "def cons(s, l):\n",
    "    l.insert(0, s)\n",
    "    return l\n",
    "\n",
    "def number(n):\n",
    "    return isinstance(n, int)"
   ]
  },
  {
   "cell_type": "markdown",
   "id": "b8896fca-fa7b-431e-b897-125a742930b3",
   "metadata": {},
   "source": [
    "## Chapter 1: Toys"
   ]
  },
  {
   "cell_type": "code",
   "execution_count": 2,
   "id": "0822c533-ed7f-4dbe-816a-19526e80b135",
   "metadata": {},
   "outputs": [
    {
     "data": {
      "text/plain": [
       "[['banana', 'and'], 'peanut', 'butter', 'and', 'jelly']"
      ]
     },
     "execution_count": 2,
     "metadata": {},
     "output_type": "execute_result"
    }
   ],
   "source": [
    "s = ['banana', 'and']\n",
    "l = ['peanut', 'butter', 'and', 'jelly']\n",
    "cons(s, l)"
   ]
  },
  {
   "cell_type": "code",
   "execution_count": 3,
   "id": "fa655a4d-d563-4464-ad02-f11399fe2141",
   "metadata": {},
   "outputs": [
    {
     "data": {
      "text/plain": [
       "[[['help'], 'this'], 'is', 'very', [['hard'], 'to', 'learn']]"
      ]
     },
     "execution_count": 3,
     "metadata": {},
     "output_type": "execute_result"
    }
   ],
   "source": [
    "s = [['help'], 'this']\n",
    "l = ['is', 'very', [['hard'], 'to', 'learn']]\n",
    "cons(s, l)"
   ]
  },
  {
   "cell_type": "code",
   "execution_count": 4,
   "id": "deead4a1-1c82-447a-b610-839fedbe9b28",
   "metadata": {},
   "outputs": [
    {
     "data": {
      "text/plain": [
       "['a', 'b']"
      ]
     },
     "execution_count": 4,
     "metadata": {},
     "output_type": "execute_result"
    }
   ],
   "source": [
    "s = 'a'\n",
    "l = [['b'], 'c', 'd']\n",
    "cons(s, car(l))"
   ]
  },
  {
   "cell_type": "code",
   "execution_count": 5,
   "id": "2e7be96b-29bf-4d34-9614-cdd806d3cc0e",
   "metadata": {},
   "outputs": [
    {
     "data": {
      "text/plain": [
       "True"
      ]
     },
     "execution_count": 5,
     "metadata": {},
     "output_type": "execute_result"
    }
   ],
   "source": [
    "null([])"
   ]
  },
  {
   "cell_type": "code",
   "execution_count": 6,
   "id": "b2ded28b-9214-4410-b489-3f790a799e01",
   "metadata": {},
   "outputs": [
    {
     "data": {
      "text/plain": [
       "False"
      ]
     },
     "execution_count": 6,
     "metadata": {},
     "output_type": "execute_result"
    }
   ],
   "source": [
    "null(['a', 'b', 'c'])"
   ]
  },
  {
   "cell_type": "code",
   "execution_count": 7,
   "id": "f8adbccd-44ed-4229-b537-c36cc34c7421",
   "metadata": {},
   "outputs": [
    {
     "ename": "TypeError",
     "evalue": "only checks lists",
     "output_type": "error",
     "traceback": [
      "\u001b[0;31m---------------------------------------------------------------------------\u001b[0m",
      "\u001b[0;31mTypeError\u001b[0m                                 Traceback (most recent call last)",
      "\u001b[0;32m<ipython-input-7-0f70b4018080>\u001b[0m in \u001b[0;36m<module>\u001b[0;34m\u001b[0m\n\u001b[0;32m----> 1\u001b[0;31m \u001b[0mnull\u001b[0m\u001b[0;34m(\u001b[0m\u001b[0;34m'a'\u001b[0m\u001b[0;34m)\u001b[0m\u001b[0;34m\u001b[0m\u001b[0;34m\u001b[0m\u001b[0m\n\u001b[0m",
      "\u001b[0;32m<ipython-input-1-5e162b814926>\u001b[0m in \u001b[0;36mnull\u001b[0;34m(lat)\u001b[0m\n\u001b[1;32m      4\u001b[0m         \u001b[0;32mreturn\u001b[0m \u001b[0mlen\u001b[0m\u001b[0;34m(\u001b[0m\u001b[0mlat\u001b[0m\u001b[0;34m)\u001b[0m \u001b[0;34m==\u001b[0m \u001b[0;36m0\u001b[0m\u001b[0;34m\u001b[0m\u001b[0;34m\u001b[0m\u001b[0m\n\u001b[1;32m      5\u001b[0m     \u001b[0;32melse\u001b[0m\u001b[0;34m:\u001b[0m\u001b[0;34m\u001b[0m\u001b[0;34m\u001b[0m\u001b[0m\n\u001b[0;32m----> 6\u001b[0;31m         \u001b[0;32mraise\u001b[0m \u001b[0mTypeError\u001b[0m\u001b[0;34m(\u001b[0m\u001b[0;34m\"only checks lists\"\u001b[0m\u001b[0;34m)\u001b[0m\u001b[0;34m\u001b[0m\u001b[0;34m\u001b[0m\u001b[0m\n\u001b[0m\u001b[1;32m      7\u001b[0m \u001b[0;34m\u001b[0m\u001b[0m\n\u001b[1;32m      8\u001b[0m \u001b[0;32mdef\u001b[0m \u001b[0mis_pair\u001b[0m\u001b[0;34m(\u001b[0m\u001b[0mx\u001b[0m\u001b[0;34m)\u001b[0m\u001b[0;34m:\u001b[0m\u001b[0;34m\u001b[0m\u001b[0;34m\u001b[0m\u001b[0m\n",
      "\u001b[0;31mTypeError\u001b[0m: only checks lists"
     ]
    }
   ],
   "source": [
    "null('a')"
   ]
  },
  {
   "cell_type": "markdown",
   "id": "20dd1a6c-1056-43ee-bac2-6378999f829d",
   "metadata": {},
   "source": [
    "## Chapter 2: Do It, Do It Again, and Again, and Again..."
   ]
  },
  {
   "cell_type": "code",
   "execution_count": 8,
   "id": "ab676e25-aadb-4bd3-8af5-f4037d61cd39",
   "metadata": {},
   "outputs": [],
   "source": [
    "def is_atom(a):\n",
    "    return type(a) in (int, str)"
   ]
  },
  {
   "cell_type": "code",
   "execution_count": 100,
   "id": "c7e72375-826e-4c8b-bc21-b99abd3e88f4",
   "metadata": {},
   "outputs": [],
   "source": [
    "def is_lat(l):\n",
    "    while not null(l):\n",
    "        if is_atom(car(l)):\n",
    "            l = cdr(l)\n",
    "        else:\n",
    "            return False\n",
    "    return True"
   ]
  },
  {
   "cell_type": "code",
   "execution_count": 101,
   "id": "52aab5f3-62a0-47b2-a44f-1dfe1ae36aec",
   "metadata": {},
   "outputs": [
    {
     "data": {
      "text/plain": [
       "False"
      ]
     },
     "execution_count": 101,
     "metadata": {},
     "output_type": "execute_result"
    }
   ],
   "source": [
    "is_lat([1, 2, [3, 3]])"
   ]
  },
  {
   "cell_type": "code",
   "execution_count": 11,
   "id": "b9248dd8-5a96-483f-8222-9058f058bab2",
   "metadata": {},
   "outputs": [],
   "source": [
    "def member(a, lat):\n",
    "    if null(lat): return False\n",
    "    else:\n",
    "        return (eq(car(lat), a) or member(a, cdr(lat)))"
   ]
  },
  {
   "cell_type": "code",
   "execution_count": 12,
   "id": "54373f08-6f58-48f8-956e-0c4f8935f468",
   "metadata": {},
   "outputs": [],
   "source": [
    "a = \"meat\"\n",
    "lat = [\"mashed\", \"potatoes\", \"and\", \"meat\", \"gravy\"]"
   ]
  },
  {
   "cell_type": "code",
   "execution_count": 13,
   "id": "99bc78f0-b12d-406a-840b-7fb281aa3175",
   "metadata": {},
   "outputs": [
    {
     "data": {
      "text/plain": [
       "True"
      ]
     },
     "execution_count": 13,
     "metadata": {},
     "output_type": "execute_result"
    }
   ],
   "source": [
    "member(a, lat)"
   ]
  },
  {
   "cell_type": "markdown",
   "id": "5429b7bf-e75c-4ca5-bd5f-4e017818d3c6",
   "metadata": {},
   "source": [
    "## First Commandment:\n",
    "### Always ask *null?* as the first question in expressing any function"
   ]
  },
  {
   "cell_type": "markdown",
   "id": "1bfc5307-b261-47e2-bb16-2670b91072b4",
   "metadata": {},
   "source": [
    "# Chapter 3: Cons the Magnificent"
   ]
  },
  {
   "cell_type": "code",
   "execution_count": 14,
   "id": "888cba8c-fb23-4bd1-a2de-815562e56db5",
   "metadata": {},
   "outputs": [
    {
     "data": {
      "text/plain": [
       "['mashed', 'potatoes', 'and', 'meat', 'gravy']"
      ]
     },
     "execution_count": 14,
     "metadata": {},
     "output_type": "execute_result"
    }
   ],
   "source": [
    "lat"
   ]
  },
  {
   "cell_type": "code",
   "execution_count": 15,
   "id": "ed7f8f2d-ec03-4fcd-aa95-c8da64388ff6",
   "metadata": {},
   "outputs": [
    {
     "name": "stdout",
     "output_type": "stream",
     "text": [
      "['gravy']\n"
     ]
    }
   ],
   "source": [
    "if eq('meat', car(['meat', 'gravy'])):\n",
    "    print(cdr(['meat', 'gravy']))"
   ]
  },
  {
   "cell_type": "code",
   "execution_count": 16,
   "id": "91aac616-9da6-42c7-bc79-01748b9dd449",
   "metadata": {},
   "outputs": [],
   "source": [
    "def rember(a, lat):\n",
    "    if null(lat): \n",
    "        return False\n",
    "    elif eq(car(lat), a):\n",
    "        return cdr(lat)\n",
    "    else: \n",
    "        return rember(a, cdr(lat))"
   ]
  },
  {
   "cell_type": "code",
   "execution_count": 17,
   "id": "5de33bf9-6463-438e-98b4-52fcd80703a7",
   "metadata": {},
   "outputs": [
    {
     "data": {
      "text/plain": [
       "['lettuce', 'and', 'tomato']"
      ]
     },
     "execution_count": 17,
     "metadata": {},
     "output_type": "execute_result"
    }
   ],
   "source": [
    "a = \"bacon\"\n",
    "lat = [\"bacon\", \"lettuce\", \"and\", \"tomato\"]\n",
    "rember(a, lat)"
   ]
  },
  {
   "cell_type": "code",
   "execution_count": 18,
   "id": "08b828c6-7b9c-4aef-a546-50c46a09d7f4",
   "metadata": {},
   "outputs": [
    {
     "data": {
      "text/plain": [
       "['tomato']"
      ]
     },
     "execution_count": 18,
     "metadata": {},
     "output_type": "execute_result"
    }
   ],
   "source": [
    "# why doesnt this return anything?\n",
    "a = \"and\"\n",
    "lat = [\"bacon\", \"lettuce\", \"and\", \"tomato\"]\n",
    "rember(a, lat)"
   ]
  },
  {
   "cell_type": "markdown",
   "id": "f69a34e9-9a83-42fa-85c1-01c9e560634b",
   "metadata": {},
   "source": [
    "## The Second Commandment\n",
    "### Use *cons* to build lists"
   ]
  },
  {
   "cell_type": "code",
   "execution_count": 19,
   "id": "406a0ee9-74a3-4d4a-97b3-bf60b05755d7",
   "metadata": {},
   "outputs": [],
   "source": [
    "def rember(a, lat):  \n",
    "    if null(lat): \n",
    "        return []\n",
    "    elif eq(car(lat), a): \n",
    "        return cdr(lat)\n",
    "    else: \n",
    "        return cons(car(lat), rember(a, cdr(lat)))"
   ]
  },
  {
   "cell_type": "code",
   "execution_count": 20,
   "id": "2b2d77ed-c40b-4ea0-b64b-169c0045c1de",
   "metadata": {},
   "outputs": [
    {
     "data": {
      "text/plain": [
       "[['a', 'b'], 'c', 'd']"
      ]
     },
     "execution_count": 20,
     "metadata": {},
     "output_type": "execute_result"
    }
   ],
   "source": [
    "a = \"and\"\n",
    "lat = [\"bacon\", \"lettuce\", \"and\", \"tomato\"]\n",
    "rember(a, l)"
   ]
  },
  {
   "cell_type": "code",
   "execution_count": 21,
   "id": "698aa855-e513-4bbc-a46f-e548b3aef3e1",
   "metadata": {},
   "outputs": [],
   "source": [
    "def firsts(l):\n",
    "    if null(l):\n",
    "        return []\n",
    "    else:\n",
    "        return cons(car(car(l)), firsts(cdr(l)))"
   ]
  },
  {
   "cell_type": "code",
   "execution_count": 22,
   "id": "135210f5-02a3-4a17-b233-0121ea5e6da6",
   "metadata": {},
   "outputs": [
    {
     "data": {
      "text/plain": [
       "'a'"
      ]
     },
     "execution_count": 22,
     "metadata": {},
     "output_type": "execute_result"
    }
   ],
   "source": [
    "car(car([\"a\",\"b\"]))"
   ]
  },
  {
   "cell_type": "code",
   "execution_count": 23,
   "id": "8346c6e7-2d43-4fcd-8adf-ab723e50f41f",
   "metadata": {},
   "outputs": [
    {
     "data": {
      "text/plain": [
       "['a', 'c', 'e']"
      ]
     },
     "execution_count": 23,
     "metadata": {},
     "output_type": "execute_result"
    }
   ],
   "source": [
    "l = [[\"a\", \"b\"], [\"c\", \"d\"], [\"e\"]]\n",
    "firsts(l)"
   ]
  },
  {
   "cell_type": "markdown",
   "id": "423e0214-3a4f-4552-8436-a5e0445e852e",
   "metadata": {},
   "source": [
    "## Third Commandment\n",
    "### When building a list, describe the first typical element, and then *cons* it onto the natural recursion"
   ]
  },
  {
   "cell_type": "code",
   "execution_count": 24,
   "id": "5488ee90-0d7e-45bf-9993-d90d4c6cefa0",
   "metadata": {},
   "outputs": [],
   "source": [
    "def insertR(new, old, lat):\n",
    "    if null(lat):\n",
    "        return []\n",
    "    elif eq(car(lat), old):\n",
    "        return cons(old, cons(new, cdr(lat)))\n",
    "#         return cons(new, lat) # this also works\n",
    "    else:\n",
    "        return cons(car(lat), insertR(new, old, cdr(lat)))"
   ]
  },
  {
   "cell_type": "code",
   "execution_count": 25,
   "id": "5cd0a3ee-bbd2-4259-b5a6-f40717f384f9",
   "metadata": {},
   "outputs": [],
   "source": [
    "lat = [\"a\", \"b\", \"c\", \"e\", \"f\"]\n",
    "old = \"c\"\n",
    "new = \"d\""
   ]
  },
  {
   "cell_type": "code",
   "execution_count": 26,
   "id": "b96c4174-852d-4bb5-92d1-bb4e03fde084",
   "metadata": {},
   "outputs": [
    {
     "data": {
      "text/plain": [
       "['a', 'b', 'c', 'd', 'e', 'f']"
      ]
     },
     "execution_count": 26,
     "metadata": {},
     "output_type": "execute_result"
    }
   ],
   "source": [
    "insertR(new, old, lat)"
   ]
  },
  {
   "cell_type": "code",
   "execution_count": 27,
   "id": "15cdbe2f-8709-458a-8006-f33b24da6f12",
   "metadata": {},
   "outputs": [],
   "source": [
    "lat = [\"a\", \"b\", \"c\", \"e\", \"f\"]\n",
    "old = \"c\"\n",
    "new = \"d\""
   ]
  },
  {
   "cell_type": "code",
   "execution_count": 28,
   "id": "609497f8-c418-490e-a02b-be0c5e508a48",
   "metadata": {},
   "outputs": [],
   "source": [
    "def insertL(new, old, lat):\n",
    "    if null(lat):\n",
    "        return []\n",
    "    elif eq(car(lat), old):\n",
    "        return cons(new, cons(old, cdr(lat)))\n",
    "#         return cons(new, lat) # this also works\n",
    "    else:\n",
    "        return cons(car(lat), insertL(new, old, cdr(lat)))"
   ]
  },
  {
   "cell_type": "code",
   "execution_count": 29,
   "id": "5ae803e8-d98b-4319-8033-b1efbad826b0",
   "metadata": {},
   "outputs": [
    {
     "data": {
      "text/plain": [
       "['a', 'b', 'd', 'c', 'e', 'f']"
      ]
     },
     "execution_count": 29,
     "metadata": {},
     "output_type": "execute_result"
    }
   ],
   "source": [
    "insertL(new, old, lat)"
   ]
  },
  {
   "cell_type": "code",
   "execution_count": 30,
   "id": "fb6e7b6a-01c5-47ae-9b88-a693f472e6d4",
   "metadata": {},
   "outputs": [],
   "source": [
    "def subst(new, old, lat):\n",
    "    if null(lat): \n",
    "        return []\n",
    "    elif eq(car(lat), old):\n",
    "        return cons(new, cdr(lat))\n",
    "    else:\n",
    "        return cons(car(lat), subst(new, old, cdr(lat)))"
   ]
  },
  {
   "cell_type": "code",
   "execution_count": 31,
   "id": "10934b32-c81a-4cc6-8102-a80b2a842241",
   "metadata": {},
   "outputs": [
    {
     "data": {
      "text/plain": [
       "['a', 'b', 'd', 'e', 'f']"
      ]
     },
     "execution_count": 31,
     "metadata": {},
     "output_type": "execute_result"
    }
   ],
   "source": [
    "subst(new, old, lat)"
   ]
  },
  {
   "cell_type": "code",
   "execution_count": 32,
   "id": "c3e19cf0-5be8-48d0-b257-46580e5ae5c1",
   "metadata": {},
   "outputs": [],
   "source": [
    "def subst2(new, o1, o2, lat):\n",
    "    if null(lat):\n",
    "        return []\n",
    "    elif car(lat) in (o1, o2):\n",
    "        return cons(new, cdr(lat))\n",
    "    else:\n",
    "        return cons(car(lat), subst2(new, o1, o2, cdr(lat)))"
   ]
  },
  {
   "cell_type": "code",
   "execution_count": 33,
   "id": "af1fe9ad-c456-4599-8890-6d98f9b7235f",
   "metadata": {},
   "outputs": [
    {
     "data": {
      "text/plain": [
       "['vanilla', 'ice', 'cream', 'with', 'chocolate', 'topping']"
      ]
     },
     "execution_count": 33,
     "metadata": {},
     "output_type": "execute_result"
    }
   ],
   "source": [
    "new = \"vanilla\"\n",
    "o1 = \"chocolate\"\n",
    "o2 = \"banana\"\n",
    "lat = [\"banana\", \"ice\", \"cream\", \"with\", \"chocolate\", \"topping\"]\n",
    "subst2(new, o1, o2, lat)"
   ]
  },
  {
   "cell_type": "code",
   "execution_count": 34,
   "id": "16cf5f15-4b0d-4859-9308-f118a27cd95e",
   "metadata": {},
   "outputs": [],
   "source": [
    "def multirember(a, lat):\n",
    "    if null(lat):\n",
    "        return []\n",
    "    elif eq(car(lat), a):\n",
    "        return multirember(a, cdr(lat))\n",
    "    else:\n",
    "        return cons(car(lat), multirember(a, cdr(lat)))"
   ]
  },
  {
   "cell_type": "code",
   "execution_count": 35,
   "id": "a2e5d53e-ab0f-4c9a-90c0-d7fffcde2ac3",
   "metadata": {},
   "outputs": [
    {
     "data": {
      "text/plain": [
       "['coffee', 'tea', 'and', 'hick']"
      ]
     },
     "execution_count": 35,
     "metadata": {},
     "output_type": "execute_result"
    }
   ],
   "source": [
    "lat = ['coffee', 'cup', 'tea', 'cup', 'and', 'hick', 'cup']\n",
    "a = 'cup'\n",
    "multirember(a, lat)"
   ]
  },
  {
   "cell_type": "code",
   "execution_count": 36,
   "id": "94a56b82-c21f-4bdb-9902-fb95bd17ce1a",
   "metadata": {},
   "outputs": [],
   "source": [
    "def multiinsertR(new, old, lat):\n",
    "    if null(lat):\n",
    "        return []\n",
    "    elif eq(old, car(lat)):\n",
    "        return cons(car(lat), cons(new, multiinsertR(new, old, cdr(lat))))\n",
    "    else:\n",
    "        return cons(car(lat), multiinsertR(new, old, cdr(lat)))"
   ]
  },
  {
   "cell_type": "code",
   "execution_count": 37,
   "id": "0758afa3-c5af-4957-accf-bd7b2bc08ba2",
   "metadata": {},
   "outputs": [],
   "source": [
    "def wrongmultiinsertL(new, old, lat):\n",
    "    if null(lat):\n",
    "        return []\n",
    "    elif eq(car(lat), old):\n",
    "        cons(new, cons(old, wrongmultiinsertL(new, old, lat)))\n",
    "    else:\n",
    "        cons(car(lat), wrongmultiinsertL(new, old, cdr(lat)))\n",
    "        "
   ]
  },
  {
   "cell_type": "code",
   "execution_count": 38,
   "id": "e74e8138-2d1b-4e3f-bf09-b83ff9ccd862",
   "metadata": {
    "scrolled": true,
    "tags": []
   },
   "outputs": [
    {
     "ename": "RecursionError",
     "evalue": "maximum recursion depth exceeded while calling a Python object",
     "output_type": "error",
     "traceback": [
      "\u001b[0;31m---------------------------------------------------------------------------\u001b[0m",
      "\u001b[0;31mRecursionError\u001b[0m                            Traceback (most recent call last)",
      "\u001b[0;32m<ipython-input-38-c4392a28aff9>\u001b[0m in \u001b[0;36m<module>\u001b[0;34m\u001b[0m\n\u001b[1;32m      2\u001b[0m \u001b[0mold\u001b[0m \u001b[0;34m=\u001b[0m \u001b[0;34m\"fish\"\u001b[0m\u001b[0;34m\u001b[0m\u001b[0;34m\u001b[0m\u001b[0m\n\u001b[1;32m      3\u001b[0m \u001b[0mlat\u001b[0m \u001b[0;34m=\u001b[0m \u001b[0;34m[\u001b[0m\u001b[0;34m\"chips\"\u001b[0m\u001b[0;34m,\u001b[0m \u001b[0;34m\"and\"\u001b[0m\u001b[0;34m,\u001b[0m \u001b[0;34m\"fish\"\u001b[0m\u001b[0;34m,\u001b[0m \u001b[0;34m\"or\"\u001b[0m\u001b[0;34m,\u001b[0m \u001b[0;34m\"fish\"\u001b[0m\u001b[0;34m,\u001b[0m \u001b[0;34m\"and\"\u001b[0m\u001b[0;34m,\u001b[0m \u001b[0;34m\"fried\"\u001b[0m\u001b[0;34m]\u001b[0m\u001b[0;34m\u001b[0m\u001b[0;34m\u001b[0m\u001b[0m\n\u001b[0;32m----> 4\u001b[0;31m \u001b[0mwrongmultiinsertL\u001b[0m\u001b[0;34m(\u001b[0m\u001b[0mnew\u001b[0m\u001b[0;34m,\u001b[0m \u001b[0mold\u001b[0m\u001b[0;34m,\u001b[0m \u001b[0mlat\u001b[0m\u001b[0;34m)\u001b[0m\u001b[0;34m\u001b[0m\u001b[0;34m\u001b[0m\u001b[0m\n\u001b[0m",
      "\u001b[0;32m<ipython-input-37-d09d689311ec>\u001b[0m in \u001b[0;36mwrongmultiinsertL\u001b[0;34m(new, old, lat)\u001b[0m\n\u001b[1;32m      5\u001b[0m         \u001b[0mcons\u001b[0m\u001b[0;34m(\u001b[0m\u001b[0mnew\u001b[0m\u001b[0;34m,\u001b[0m \u001b[0mcons\u001b[0m\u001b[0;34m(\u001b[0m\u001b[0mold\u001b[0m\u001b[0;34m,\u001b[0m \u001b[0mwrongmultiinsertL\u001b[0m\u001b[0;34m(\u001b[0m\u001b[0mnew\u001b[0m\u001b[0;34m,\u001b[0m \u001b[0mold\u001b[0m\u001b[0;34m,\u001b[0m \u001b[0mlat\u001b[0m\u001b[0;34m)\u001b[0m\u001b[0;34m)\u001b[0m\u001b[0;34m)\u001b[0m\u001b[0;34m\u001b[0m\u001b[0;34m\u001b[0m\u001b[0m\n\u001b[1;32m      6\u001b[0m     \u001b[0;32melse\u001b[0m\u001b[0;34m:\u001b[0m\u001b[0;34m\u001b[0m\u001b[0;34m\u001b[0m\u001b[0m\n\u001b[0;32m----> 7\u001b[0;31m         \u001b[0mcons\u001b[0m\u001b[0;34m(\u001b[0m\u001b[0mcar\u001b[0m\u001b[0;34m(\u001b[0m\u001b[0mlat\u001b[0m\u001b[0;34m)\u001b[0m\u001b[0;34m,\u001b[0m \u001b[0mwrongmultiinsertL\u001b[0m\u001b[0;34m(\u001b[0m\u001b[0mnew\u001b[0m\u001b[0;34m,\u001b[0m \u001b[0mold\u001b[0m\u001b[0;34m,\u001b[0m \u001b[0mcdr\u001b[0m\u001b[0;34m(\u001b[0m\u001b[0mlat\u001b[0m\u001b[0;34m)\u001b[0m\u001b[0;34m)\u001b[0m\u001b[0;34m)\u001b[0m\u001b[0;34m\u001b[0m\u001b[0;34m\u001b[0m\u001b[0m\n\u001b[0m\u001b[1;32m      8\u001b[0m \u001b[0;34m\u001b[0m\u001b[0m\n",
      "\u001b[0;32m<ipython-input-37-d09d689311ec>\u001b[0m in \u001b[0;36mwrongmultiinsertL\u001b[0;34m(new, old, lat)\u001b[0m\n\u001b[1;32m      5\u001b[0m         \u001b[0mcons\u001b[0m\u001b[0;34m(\u001b[0m\u001b[0mnew\u001b[0m\u001b[0;34m,\u001b[0m \u001b[0mcons\u001b[0m\u001b[0;34m(\u001b[0m\u001b[0mold\u001b[0m\u001b[0;34m,\u001b[0m \u001b[0mwrongmultiinsertL\u001b[0m\u001b[0;34m(\u001b[0m\u001b[0mnew\u001b[0m\u001b[0;34m,\u001b[0m \u001b[0mold\u001b[0m\u001b[0;34m,\u001b[0m \u001b[0mlat\u001b[0m\u001b[0;34m)\u001b[0m\u001b[0;34m)\u001b[0m\u001b[0;34m)\u001b[0m\u001b[0;34m\u001b[0m\u001b[0;34m\u001b[0m\u001b[0m\n\u001b[1;32m      6\u001b[0m     \u001b[0;32melse\u001b[0m\u001b[0;34m:\u001b[0m\u001b[0;34m\u001b[0m\u001b[0;34m\u001b[0m\u001b[0m\n\u001b[0;32m----> 7\u001b[0;31m         \u001b[0mcons\u001b[0m\u001b[0;34m(\u001b[0m\u001b[0mcar\u001b[0m\u001b[0;34m(\u001b[0m\u001b[0mlat\u001b[0m\u001b[0;34m)\u001b[0m\u001b[0;34m,\u001b[0m \u001b[0mwrongmultiinsertL\u001b[0m\u001b[0;34m(\u001b[0m\u001b[0mnew\u001b[0m\u001b[0;34m,\u001b[0m \u001b[0mold\u001b[0m\u001b[0;34m,\u001b[0m \u001b[0mcdr\u001b[0m\u001b[0;34m(\u001b[0m\u001b[0mlat\u001b[0m\u001b[0;34m)\u001b[0m\u001b[0;34m)\u001b[0m\u001b[0;34m)\u001b[0m\u001b[0;34m\u001b[0m\u001b[0;34m\u001b[0m\u001b[0m\n\u001b[0m\u001b[1;32m      8\u001b[0m \u001b[0;34m\u001b[0m\u001b[0m\n",
      "\u001b[0;32m<ipython-input-37-d09d689311ec>\u001b[0m in \u001b[0;36mwrongmultiinsertL\u001b[0;34m(new, old, lat)\u001b[0m\n\u001b[1;32m      3\u001b[0m         \u001b[0;32mreturn\u001b[0m \u001b[0;34m[\u001b[0m\u001b[0;34m]\u001b[0m\u001b[0;34m\u001b[0m\u001b[0;34m\u001b[0m\u001b[0m\n\u001b[1;32m      4\u001b[0m     \u001b[0;32melif\u001b[0m \u001b[0meq\u001b[0m\u001b[0;34m(\u001b[0m\u001b[0mcar\u001b[0m\u001b[0;34m(\u001b[0m\u001b[0mlat\u001b[0m\u001b[0;34m)\u001b[0m\u001b[0;34m,\u001b[0m \u001b[0mold\u001b[0m\u001b[0;34m)\u001b[0m\u001b[0;34m:\u001b[0m\u001b[0;34m\u001b[0m\u001b[0;34m\u001b[0m\u001b[0m\n\u001b[0;32m----> 5\u001b[0;31m         \u001b[0mcons\u001b[0m\u001b[0;34m(\u001b[0m\u001b[0mnew\u001b[0m\u001b[0;34m,\u001b[0m \u001b[0mcons\u001b[0m\u001b[0;34m(\u001b[0m\u001b[0mold\u001b[0m\u001b[0;34m,\u001b[0m \u001b[0mwrongmultiinsertL\u001b[0m\u001b[0;34m(\u001b[0m\u001b[0mnew\u001b[0m\u001b[0;34m,\u001b[0m \u001b[0mold\u001b[0m\u001b[0;34m,\u001b[0m \u001b[0mlat\u001b[0m\u001b[0;34m)\u001b[0m\u001b[0;34m)\u001b[0m\u001b[0;34m)\u001b[0m\u001b[0;34m\u001b[0m\u001b[0;34m\u001b[0m\u001b[0m\n\u001b[0m\u001b[1;32m      6\u001b[0m     \u001b[0;32melse\u001b[0m\u001b[0;34m:\u001b[0m\u001b[0;34m\u001b[0m\u001b[0;34m\u001b[0m\u001b[0m\n\u001b[1;32m      7\u001b[0m         \u001b[0mcons\u001b[0m\u001b[0;34m(\u001b[0m\u001b[0mcar\u001b[0m\u001b[0;34m(\u001b[0m\u001b[0mlat\u001b[0m\u001b[0;34m)\u001b[0m\u001b[0;34m,\u001b[0m \u001b[0mwrongmultiinsertL\u001b[0m\u001b[0;34m(\u001b[0m\u001b[0mnew\u001b[0m\u001b[0;34m,\u001b[0m \u001b[0mold\u001b[0m\u001b[0;34m,\u001b[0m \u001b[0mcdr\u001b[0m\u001b[0;34m(\u001b[0m\u001b[0mlat\u001b[0m\u001b[0;34m)\u001b[0m\u001b[0;34m)\u001b[0m\u001b[0;34m)\u001b[0m\u001b[0;34m\u001b[0m\u001b[0;34m\u001b[0m\u001b[0m\n",
      "... last 1 frames repeated, from the frame below ...\n",
      "\u001b[0;32m<ipython-input-37-d09d689311ec>\u001b[0m in \u001b[0;36mwrongmultiinsertL\u001b[0;34m(new, old, lat)\u001b[0m\n\u001b[1;32m      3\u001b[0m         \u001b[0;32mreturn\u001b[0m \u001b[0;34m[\u001b[0m\u001b[0;34m]\u001b[0m\u001b[0;34m\u001b[0m\u001b[0;34m\u001b[0m\u001b[0m\n\u001b[1;32m      4\u001b[0m     \u001b[0;32melif\u001b[0m \u001b[0meq\u001b[0m\u001b[0;34m(\u001b[0m\u001b[0mcar\u001b[0m\u001b[0;34m(\u001b[0m\u001b[0mlat\u001b[0m\u001b[0;34m)\u001b[0m\u001b[0;34m,\u001b[0m \u001b[0mold\u001b[0m\u001b[0;34m)\u001b[0m\u001b[0;34m:\u001b[0m\u001b[0;34m\u001b[0m\u001b[0;34m\u001b[0m\u001b[0m\n\u001b[0;32m----> 5\u001b[0;31m         \u001b[0mcons\u001b[0m\u001b[0;34m(\u001b[0m\u001b[0mnew\u001b[0m\u001b[0;34m,\u001b[0m \u001b[0mcons\u001b[0m\u001b[0;34m(\u001b[0m\u001b[0mold\u001b[0m\u001b[0;34m,\u001b[0m \u001b[0mwrongmultiinsertL\u001b[0m\u001b[0;34m(\u001b[0m\u001b[0mnew\u001b[0m\u001b[0;34m,\u001b[0m \u001b[0mold\u001b[0m\u001b[0;34m,\u001b[0m \u001b[0mlat\u001b[0m\u001b[0;34m)\u001b[0m\u001b[0;34m)\u001b[0m\u001b[0;34m)\u001b[0m\u001b[0;34m\u001b[0m\u001b[0;34m\u001b[0m\u001b[0m\n\u001b[0m\u001b[1;32m      6\u001b[0m     \u001b[0;32melse\u001b[0m\u001b[0;34m:\u001b[0m\u001b[0;34m\u001b[0m\u001b[0;34m\u001b[0m\u001b[0m\n\u001b[1;32m      7\u001b[0m         \u001b[0mcons\u001b[0m\u001b[0;34m(\u001b[0m\u001b[0mcar\u001b[0m\u001b[0;34m(\u001b[0m\u001b[0mlat\u001b[0m\u001b[0;34m)\u001b[0m\u001b[0;34m,\u001b[0m \u001b[0mwrongmultiinsertL\u001b[0m\u001b[0;34m(\u001b[0m\u001b[0mnew\u001b[0m\u001b[0;34m,\u001b[0m \u001b[0mold\u001b[0m\u001b[0;34m,\u001b[0m \u001b[0mcdr\u001b[0m\u001b[0;34m(\u001b[0m\u001b[0mlat\u001b[0m\u001b[0;34m)\u001b[0m\u001b[0;34m)\u001b[0m\u001b[0;34m)\u001b[0m\u001b[0;34m\u001b[0m\u001b[0;34m\u001b[0m\u001b[0m\n",
      "\u001b[0;31mRecursionError\u001b[0m: maximum recursion depth exceeded while calling a Python object"
     ]
    }
   ],
   "source": [
    "new = \"fried\"\n",
    "old = \"fish\"\n",
    "lat = [\"chips\", \"and\", \"fish\", \"or\", \"fish\", \"and\", \"fried\"]\n",
    "wrongmultiinsertL(new, old, lat)"
   ]
  },
  {
   "cell_type": "code",
   "execution_count": 39,
   "id": "1f8f61ca-de70-4fb0-94e4-12e88167079c",
   "metadata": {},
   "outputs": [],
   "source": [
    "def multiinsertL(new, old, lat):\n",
    "    if null(lat):\n",
    "        return []\n",
    "    elif eq(car(lat), old):\n",
    "        return cons(new, cons(old, multiinsertL(new, old, cdr(lat))))\n",
    "    else:\n",
    "        return cons(car(lat), multiinsertL(new, old, cdr(lat)))"
   ]
  },
  {
   "cell_type": "code",
   "execution_count": 40,
   "id": "e4d98654-f992-4800-b826-4070b37f49b4",
   "metadata": {},
   "outputs": [
    {
     "data": {
      "text/plain": [
       "['chips', 'and', 'fried', 'fish', 'or', 'fried', 'fish', 'and', 'fried']"
      ]
     },
     "execution_count": 40,
     "metadata": {},
     "output_type": "execute_result"
    }
   ],
   "source": [
    "multiinsertL(new, old, lat)"
   ]
  },
  {
   "cell_type": "markdown",
   "id": "eebe2444-2a4d-4571-af80-95c53b573929",
   "metadata": {},
   "source": [
    "## The Fourth Commandment\n",
    "#### (*preliminary*)\n",
    "### Always change at least one argument while recurring. It must be changed to be closer to termination. The changing argument must be tested in the termination condition: when using *cdr*, test termination with *null?*."
   ]
  },
  {
   "cell_type": "code",
   "execution_count": 41,
   "id": "d947bfd2-7520-4702-bbb9-2277e7d39ce4",
   "metadata": {},
   "outputs": [],
   "source": [
    "def multisubst(new, old, lat):\n",
    "    if null(lat):\n",
    "        return []\n",
    "    elif eq(car(lat), old):\n",
    "        return cons(new, multisubst(new, old, cdr(lat)))\n",
    "    else:\n",
    "        return cons(car(lat), multisubst(new, old, cdr(lat)))"
   ]
  },
  {
   "cell_type": "code",
   "execution_count": 42,
   "id": "30220f06-7024-42df-9286-58b82aecafe8",
   "metadata": {},
   "outputs": [
    {
     "data": {
      "text/plain": [
       "['chips', 'and', 'fried', 'or', 'fried', 'and', 'fried']"
      ]
     },
     "execution_count": 42,
     "metadata": {},
     "output_type": "execute_result"
    }
   ],
   "source": [
    "multisubst(new, old, lat)"
   ]
  },
  {
   "cell_type": "markdown",
   "id": "2aa2c0a2-9967-48ad-aa9b-040757043b51",
   "metadata": {},
   "source": [
    "# Chapter 4: Numbers Games"
   ]
  },
  {
   "cell_type": "code",
   "execution_count": 43,
   "id": "62dd4105-2cb2-4f31-b961-fafbb2d6ff5b",
   "metadata": {},
   "outputs": [],
   "source": [
    "def plus(a, b):\n",
    "    if zero(b):\n",
    "        return a\n",
    "    else:\n",
    "        return plus(add1(a), sub1(b))"
   ]
  },
  {
   "cell_type": "code",
   "execution_count": 46,
   "id": "cbbb7782-1498-4ae5-b82c-f28a50cc347f",
   "metadata": {},
   "outputs": [
    {
     "data": {
      "text/plain": [
       "26"
      ]
     },
     "execution_count": 46,
     "metadata": {},
     "output_type": "execute_result"
    }
   ],
   "source": [
    "plus(12, 14)"
   ]
  },
  {
   "cell_type": "code",
   "execution_count": 47,
   "id": "42481d79-f9e3-474f-b880-dab47cc58890",
   "metadata": {},
   "outputs": [],
   "source": [
    "def minus(a, b):\n",
    "    if zero(b):\n",
    "        return a\n",
    "    else:\n",
    "        return sub1(minus(a, sub1(b)))"
   ]
  },
  {
   "cell_type": "code",
   "execution_count": 48,
   "id": "e4b8df6c-94bd-4dbd-98b3-13f95919d5e4",
   "metadata": {},
   "outputs": [
    {
     "data": {
      "text/plain": [
       "9"
      ]
     },
     "execution_count": 48,
     "metadata": {},
     "output_type": "execute_result"
    }
   ],
   "source": [
    "minus(17, 8)"
   ]
  },
  {
   "cell_type": "markdown",
   "id": "6e854dd8-fd3f-495b-9dd1-43dcd554a61e",
   "metadata": {},
   "source": [
    "## The First Commandment\n",
    "#### (*first revision*)\n",
    "### When recurring on a list of atoms, *lat*, ask two questions about it (*null? lat*) and else.\n",
    "### When recurring on a number, *n*, ask two questions about it: (*zero? n*) and else."
   ]
  },
  {
   "cell_type": "code",
   "execution_count": 49,
   "id": "457f85dc-b9e2-4c90-90c9-a68092ffce19",
   "metadata": {},
   "outputs": [],
   "source": [
    "def addtup(tup):\n",
    "    if null(tup):\n",
    "        return 0\n",
    "    else:\n",
    "        return plus(car(tup), addtup(cdr(tup)))"
   ]
  },
  {
   "cell_type": "code",
   "execution_count": 50,
   "id": "a488200b-6f01-45b0-9714-9bf60f6ed066",
   "metadata": {},
   "outputs": [
    {
     "data": {
      "text/plain": [
       "43"
      ]
     },
     "execution_count": 50,
     "metadata": {},
     "output_type": "execute_result"
    }
   ],
   "source": [
    "addtup([15, 6, 7, 12, 3])"
   ]
  },
  {
   "cell_type": "code",
   "execution_count": 51,
   "id": "46299448-4563-4a41-ab38-70d5847bb442",
   "metadata": {},
   "outputs": [
    {
     "data": {
      "text/plain": [
       "18"
      ]
     },
     "execution_count": 51,
     "metadata": {},
     "output_type": "execute_result"
    }
   ],
   "source": [
    "addtup([3, 5, 2,8])"
   ]
  },
  {
   "cell_type": "markdown",
   "id": "989c40e3-c76c-4945-8e75-4f7781d1cfa2",
   "metadata": {},
   "source": [
    "## The Fourth Commandment\n",
    "#### (*first revision*)\n",
    "### Always change at least one argument while recurringh. It must be changed to be closer to termination. The changing argument must be tested in the termination condition:\n",
    "### when using *cdr*, test termination with *null?* and when using *sub1*, test termination with *zero?*.\n"
   ]
  },
  {
   "cell_type": "code",
   "execution_count": 52,
   "id": "d819886d-5b61-4155-8eda-02c4ac538224",
   "metadata": {},
   "outputs": [],
   "source": [
    "def multiply(n, m):\n",
    "    if zero(n):\n",
    "        return 0\n",
    "    else:\n",
    "        return plus(m, multiply(m, sub1(n)))"
   ]
  },
  {
   "cell_type": "code",
   "execution_count": 53,
   "id": "f9333eac-b919-44a8-a6dd-6c37bdd78934",
   "metadata": {},
   "outputs": [
    {
     "data": {
      "text/plain": [
       "6"
      ]
     },
     "execution_count": 53,
     "metadata": {},
     "output_type": "execute_result"
    }
   ],
   "source": [
    "multiply(2, 3)"
   ]
  },
  {
   "cell_type": "markdown",
   "id": "39534670-47fb-4903-9f25-25268c744d04",
   "metadata": {},
   "source": [
    "## The Fifth Commandment\n",
    "### When bulding a value with **+**, always use 0 for the value of the terminating line, for adding 0 does not change the value of an addition.\n",
    "### When building a value with **x**, alwyas use 1 for the value of the terminating line, for multiplying by 1 does not change the value of multiplication\n",
    "### When building a value with *cons*, always consider () for the value of the terminating line."
   ]
  },
  {
   "cell_type": "code",
   "execution_count": 54,
   "id": "4489276f-7416-4675-85ad-8cab4555eba5",
   "metadata": {},
   "outputs": [],
   "source": [
    "def plustup(tup1, tup2):\n",
    "    if null(tup1) and null(tup2):\n",
    "        return []\n",
    "    else:\n",
    "        return cons(\n",
    "            plus(car(tup1), car(tup2)), \n",
    "            plustup(\n",
    "                cdr(tup1), \n",
    "                cdr(tup2)\n",
    "            )\n",
    "        )"
   ]
  },
  {
   "cell_type": "code",
   "execution_count": 55,
   "id": "085797f0-763c-4af3-9fda-8c3c9f1bbd3b",
   "metadata": {},
   "outputs": [
    {
     "data": {
      "text/plain": [
       "[6, 9]"
      ]
     },
     "execution_count": 55,
     "metadata": {},
     "output_type": "execute_result"
    }
   ],
   "source": [
    "tup1 = [2, 3]\n",
    "tup2 = [4, 6]\n",
    "plustup(tup1, tup2)"
   ]
  },
  {
   "cell_type": "code",
   "execution_count": 56,
   "id": "36406272-fe9e-4cbc-9a68-8bd53d2cbdf4",
   "metadata": {},
   "outputs": [
    {
     "data": {
      "text/plain": [
       "[7, 13]"
      ]
     },
     "execution_count": 56,
     "metadata": {},
     "output_type": "execute_result"
    }
   ],
   "source": [
    "tup1 = [3, 7]\n",
    "tup2 = [4, 6]\n",
    "plustup(tup1, tup2)"
   ]
  },
  {
   "cell_type": "code",
   "execution_count": 57,
   "id": "9f7d9179-50fa-453a-8850-288ac5c9a191",
   "metadata": {},
   "outputs": [],
   "source": [
    "def plusanytup(tup1, tup2):\n",
    "    if null(tup1):\n",
    "        return tup2\n",
    "    elif null(tup2):\n",
    "        return tup1\n",
    "    else:\n",
    "        return cons(\n",
    "            plus(car(tup1), car(tup2)),\n",
    "            plusanytup(\n",
    "                cdr(tup1),\n",
    "                cdr(tup2)\n",
    "            )\n",
    "        )"
   ]
  },
  {
   "cell_type": "code",
   "execution_count": 58,
   "id": "a91130b8-4a62-4d4f-829a-77487d667cc6",
   "metadata": {},
   "outputs": [
    {
     "data": {
      "text/plain": [
       "[7, 13]"
      ]
     },
     "execution_count": 58,
     "metadata": {},
     "output_type": "execute_result"
    }
   ],
   "source": [
    "plusanytup(tup1, tup2)"
   ]
  },
  {
   "cell_type": "code",
   "execution_count": 59,
   "id": "09a54241-bfe9-44af-b693-7f3cb59c5a8b",
   "metadata": {},
   "outputs": [],
   "source": [
    "def greater_than(n, m):\n",
    "    if zero(n):\n",
    "        return False\n",
    "    elif zero(m): \n",
    "        return True\n",
    "    else:\n",
    "        return greater_than(sub1(n), sub1(m))"
   ]
  },
  {
   "cell_type": "code",
   "execution_count": 60,
   "id": "c472b04e-5d9c-4293-a3c0-59600717aa38",
   "metadata": {},
   "outputs": [
    {
     "data": {
      "text/plain": [
       "False"
      ]
     },
     "execution_count": 60,
     "metadata": {},
     "output_type": "execute_result"
    }
   ],
   "source": [
    "greater_than(1,2)"
   ]
  },
  {
   "cell_type": "code",
   "execution_count": 61,
   "id": "60d26cd8-61ec-494f-9e0d-d0f004faf63f",
   "metadata": {},
   "outputs": [
    {
     "data": {
      "text/plain": [
       "False"
      ]
     },
     "execution_count": 61,
     "metadata": {},
     "output_type": "execute_result"
    }
   ],
   "source": [
    "greater_than(3,3)"
   ]
  },
  {
   "cell_type": "code",
   "execution_count": 62,
   "id": "84ad0ea0-15fb-417b-bff3-ffaacc01aa87",
   "metadata": {},
   "outputs": [
    {
     "data": {
      "text/plain": [
       "True"
      ]
     },
     "execution_count": 62,
     "metadata": {},
     "output_type": "execute_result"
    }
   ],
   "source": [
    "greater_than(2,1)"
   ]
  },
  {
   "cell_type": "code",
   "execution_count": 63,
   "id": "b22e4c69-6058-4a74-af30-754fbbc897cf",
   "metadata": {},
   "outputs": [],
   "source": [
    "def less_than(n, m):\n",
    "    if zero(m):\n",
    "        return False\n",
    "    elif zero(n):\n",
    "        return True\n",
    "    else:\n",
    "        return less_than(sub1(n), sub1(m))"
   ]
  },
  {
   "cell_type": "code",
   "execution_count": 64,
   "id": "0f211d5f-2a22-425a-8b33-ae2cedf6aacc",
   "metadata": {},
   "outputs": [
    {
     "data": {
      "text/plain": [
       "True"
      ]
     },
     "execution_count": 64,
     "metadata": {},
     "output_type": "execute_result"
    }
   ],
   "source": [
    "less_than(1, 2)"
   ]
  },
  {
   "cell_type": "code",
   "execution_count": 65,
   "id": "88a17d07-26b2-487e-8c8f-0fbc3a320bc7",
   "metadata": {},
   "outputs": [
    {
     "data": {
      "text/plain": [
       "False"
      ]
     },
     "execution_count": 65,
     "metadata": {},
     "output_type": "execute_result"
    }
   ],
   "source": [
    "less_than(3, 3)"
   ]
  },
  {
   "cell_type": "code",
   "execution_count": 66,
   "id": "dece2d65-4dc2-44f1-b8b6-dbc4d23ed409",
   "metadata": {},
   "outputs": [],
   "source": [
    "def equals(n, m):\n",
    "    if less_than(n, m) or greater_than(n, m):\n",
    "        return False\n",
    "    else:\n",
    "        return True"
   ]
  },
  {
   "cell_type": "code",
   "execution_count": 67,
   "id": "b6c5ebad-306b-4d6d-adbb-067bcb5280d8",
   "metadata": {},
   "outputs": [
    {
     "data": {
      "text/plain": [
       "False"
      ]
     },
     "execution_count": 67,
     "metadata": {},
     "output_type": "execute_result"
    }
   ],
   "source": [
    "equals(1,2)"
   ]
  },
  {
   "cell_type": "code",
   "execution_count": 68,
   "id": "081bc5a0-03e1-4038-b052-4d0feb0c4818",
   "metadata": {},
   "outputs": [
    {
     "data": {
      "text/plain": [
       "False"
      ]
     },
     "execution_count": 68,
     "metadata": {},
     "output_type": "execute_result"
    }
   ],
   "source": [
    "equals(2,1)"
   ]
  },
  {
   "cell_type": "code",
   "execution_count": 69,
   "id": "28237b8e-947a-47cf-9d67-864f4d0dece0",
   "metadata": {},
   "outputs": [
    {
     "data": {
      "text/plain": [
       "True"
      ]
     },
     "execution_count": 69,
     "metadata": {},
     "output_type": "execute_result"
    }
   ],
   "source": [
    "equals(2,2)"
   ]
  },
  {
   "cell_type": "code",
   "execution_count": 70,
   "id": "2708769a-7b36-4c81-89d3-f27275039861",
   "metadata": {},
   "outputs": [],
   "source": [
    "def exponent(n, m):\n",
    "    if zero(m):\n",
    "        return 1\n",
    "    else:\n",
    "        return multiply(n, exponent(n, sub1(m)))"
   ]
  },
  {
   "cell_type": "code",
   "execution_count": 71,
   "id": "9fedc4ae-26b1-49e7-9e99-728410c17e82",
   "metadata": {},
   "outputs": [
    {
     "data": {
      "text/plain": [
       "4"
      ]
     },
     "execution_count": 71,
     "metadata": {},
     "output_type": "execute_result"
    }
   ],
   "source": [
    "exponent(2,2)"
   ]
  },
  {
   "cell_type": "code",
   "execution_count": 72,
   "id": "5340da79-979d-4032-a31d-22a1956adb09",
   "metadata": {},
   "outputs": [
    {
     "data": {
      "text/plain": [
       "1"
      ]
     },
     "execution_count": 72,
     "metadata": {},
     "output_type": "execute_result"
    }
   ],
   "source": [
    "exponent(1, 2)"
   ]
  },
  {
   "cell_type": "code",
   "execution_count": 73,
   "id": "58c160cf-024e-411d-8abf-3cd9153d03d4",
   "metadata": {},
   "outputs": [
    {
     "ename": "RecursionError",
     "evalue": "maximum recursion depth exceeded in comparison",
     "output_type": "error",
     "traceback": [
      "\u001b[0;31m---------------------------------------------------------------------------\u001b[0m",
      "\u001b[0;31mRecursionError\u001b[0m                            Traceback (most recent call last)",
      "\u001b[0;32m<ipython-input-73-1ada04f8b01a>\u001b[0m in \u001b[0;36m<module>\u001b[0;34m\u001b[0m\n\u001b[1;32m      1\u001b[0m \u001b[0;31m## this doesn't work and i can tell why, but i haven't figured out how to fix it\u001b[0m\u001b[0;34m\u001b[0m\u001b[0;34m\u001b[0m\u001b[0;34m\u001b[0m\u001b[0m\n\u001b[0;32m----> 2\u001b[0;31m \u001b[0mexponent\u001b[0m\u001b[0;34m(\u001b[0m\u001b[0;36m5\u001b[0m\u001b[0;34m,\u001b[0m \u001b[0;36m6\u001b[0m\u001b[0;34m)\u001b[0m\u001b[0;34m\u001b[0m\u001b[0;34m\u001b[0m\u001b[0m\n\u001b[0m",
      "\u001b[0;32m<ipython-input-70-7825c2a98311>\u001b[0m in \u001b[0;36mexponent\u001b[0;34m(n, m)\u001b[0m\n\u001b[1;32m      3\u001b[0m         \u001b[0;32mreturn\u001b[0m \u001b[0;36m1\u001b[0m\u001b[0;34m\u001b[0m\u001b[0;34m\u001b[0m\u001b[0m\n\u001b[1;32m      4\u001b[0m     \u001b[0;32melse\u001b[0m\u001b[0;34m:\u001b[0m\u001b[0;34m\u001b[0m\u001b[0;34m\u001b[0m\u001b[0m\n\u001b[0;32m----> 5\u001b[0;31m         \u001b[0;32mreturn\u001b[0m \u001b[0mmultiply\u001b[0m\u001b[0;34m(\u001b[0m\u001b[0mn\u001b[0m\u001b[0;34m,\u001b[0m \u001b[0mexponent\u001b[0m\u001b[0;34m(\u001b[0m\u001b[0mn\u001b[0m\u001b[0;34m,\u001b[0m \u001b[0msub1\u001b[0m\u001b[0;34m(\u001b[0m\u001b[0mm\u001b[0m\u001b[0;34m)\u001b[0m\u001b[0;34m)\u001b[0m\u001b[0;34m)\u001b[0m\u001b[0;34m\u001b[0m\u001b[0;34m\u001b[0m\u001b[0m\n\u001b[0m",
      "\u001b[0;32m<ipython-input-52-93b66823a936>\u001b[0m in \u001b[0;36mmultiply\u001b[0;34m(n, m)\u001b[0m\n\u001b[1;32m      3\u001b[0m         \u001b[0;32mreturn\u001b[0m \u001b[0;36m0\u001b[0m\u001b[0;34m\u001b[0m\u001b[0;34m\u001b[0m\u001b[0m\n\u001b[1;32m      4\u001b[0m     \u001b[0;32melse\u001b[0m\u001b[0;34m:\u001b[0m\u001b[0;34m\u001b[0m\u001b[0;34m\u001b[0m\u001b[0m\n\u001b[0;32m----> 5\u001b[0;31m         \u001b[0;32mreturn\u001b[0m \u001b[0mplus\u001b[0m\u001b[0;34m(\u001b[0m\u001b[0mm\u001b[0m\u001b[0;34m,\u001b[0m \u001b[0mmultiply\u001b[0m\u001b[0;34m(\u001b[0m\u001b[0mm\u001b[0m\u001b[0;34m,\u001b[0m \u001b[0msub1\u001b[0m\u001b[0;34m(\u001b[0m\u001b[0mn\u001b[0m\u001b[0;34m)\u001b[0m\u001b[0;34m)\u001b[0m\u001b[0;34m)\u001b[0m\u001b[0;34m\u001b[0m\u001b[0;34m\u001b[0m\u001b[0m\n\u001b[0m",
      "\u001b[0;32m<ipython-input-52-93b66823a936>\u001b[0m in \u001b[0;36mmultiply\u001b[0;34m(n, m)\u001b[0m\n\u001b[1;32m      3\u001b[0m         \u001b[0;32mreturn\u001b[0m \u001b[0;36m0\u001b[0m\u001b[0;34m\u001b[0m\u001b[0;34m\u001b[0m\u001b[0m\n\u001b[1;32m      4\u001b[0m     \u001b[0;32melse\u001b[0m\u001b[0;34m:\u001b[0m\u001b[0;34m\u001b[0m\u001b[0;34m\u001b[0m\u001b[0m\n\u001b[0;32m----> 5\u001b[0;31m         \u001b[0;32mreturn\u001b[0m \u001b[0mplus\u001b[0m\u001b[0;34m(\u001b[0m\u001b[0mm\u001b[0m\u001b[0;34m,\u001b[0m \u001b[0mmultiply\u001b[0m\u001b[0;34m(\u001b[0m\u001b[0mm\u001b[0m\u001b[0;34m,\u001b[0m \u001b[0msub1\u001b[0m\u001b[0;34m(\u001b[0m\u001b[0mn\u001b[0m\u001b[0;34m)\u001b[0m\u001b[0;34m)\u001b[0m\u001b[0;34m)\u001b[0m\u001b[0;34m\u001b[0m\u001b[0;34m\u001b[0m\u001b[0m\n\u001b[0m",
      "\u001b[0;32m<ipython-input-52-93b66823a936>\u001b[0m in \u001b[0;36mmultiply\u001b[0;34m(n, m)\u001b[0m\n\u001b[1;32m      3\u001b[0m         \u001b[0;32mreturn\u001b[0m \u001b[0;36m0\u001b[0m\u001b[0;34m\u001b[0m\u001b[0;34m\u001b[0m\u001b[0m\n\u001b[1;32m      4\u001b[0m     \u001b[0;32melse\u001b[0m\u001b[0;34m:\u001b[0m\u001b[0;34m\u001b[0m\u001b[0;34m\u001b[0m\u001b[0m\n\u001b[0;32m----> 5\u001b[0;31m         \u001b[0;32mreturn\u001b[0m \u001b[0mplus\u001b[0m\u001b[0;34m(\u001b[0m\u001b[0mm\u001b[0m\u001b[0;34m,\u001b[0m \u001b[0mmultiply\u001b[0m\u001b[0;34m(\u001b[0m\u001b[0mm\u001b[0m\u001b[0;34m,\u001b[0m \u001b[0msub1\u001b[0m\u001b[0;34m(\u001b[0m\u001b[0mn\u001b[0m\u001b[0;34m)\u001b[0m\u001b[0;34m)\u001b[0m\u001b[0;34m)\u001b[0m\u001b[0;34m\u001b[0m\u001b[0;34m\u001b[0m\u001b[0m\n\u001b[0m",
      "\u001b[0;32m<ipython-input-52-93b66823a936>\u001b[0m in \u001b[0;36mmultiply\u001b[0;34m(n, m)\u001b[0m\n\u001b[1;32m      3\u001b[0m         \u001b[0;32mreturn\u001b[0m \u001b[0;36m0\u001b[0m\u001b[0;34m\u001b[0m\u001b[0;34m\u001b[0m\u001b[0m\n\u001b[1;32m      4\u001b[0m     \u001b[0;32melse\u001b[0m\u001b[0;34m:\u001b[0m\u001b[0;34m\u001b[0m\u001b[0;34m\u001b[0m\u001b[0m\n\u001b[0;32m----> 5\u001b[0;31m         \u001b[0;32mreturn\u001b[0m \u001b[0mplus\u001b[0m\u001b[0;34m(\u001b[0m\u001b[0mm\u001b[0m\u001b[0;34m,\u001b[0m \u001b[0mmultiply\u001b[0m\u001b[0;34m(\u001b[0m\u001b[0mm\u001b[0m\u001b[0;34m,\u001b[0m \u001b[0msub1\u001b[0m\u001b[0;34m(\u001b[0m\u001b[0mn\u001b[0m\u001b[0;34m)\u001b[0m\u001b[0;34m)\u001b[0m\u001b[0;34m)\u001b[0m\u001b[0;34m\u001b[0m\u001b[0;34m\u001b[0m\u001b[0m\n\u001b[0m",
      "\u001b[0;32m<ipython-input-52-93b66823a936>\u001b[0m in \u001b[0;36mmultiply\u001b[0;34m(n, m)\u001b[0m\n\u001b[1;32m      3\u001b[0m         \u001b[0;32mreturn\u001b[0m \u001b[0;36m0\u001b[0m\u001b[0;34m\u001b[0m\u001b[0;34m\u001b[0m\u001b[0m\n\u001b[1;32m      4\u001b[0m     \u001b[0;32melse\u001b[0m\u001b[0;34m:\u001b[0m\u001b[0;34m\u001b[0m\u001b[0;34m\u001b[0m\u001b[0m\n\u001b[0;32m----> 5\u001b[0;31m         \u001b[0;32mreturn\u001b[0m \u001b[0mplus\u001b[0m\u001b[0;34m(\u001b[0m\u001b[0mm\u001b[0m\u001b[0;34m,\u001b[0m \u001b[0mmultiply\u001b[0m\u001b[0;34m(\u001b[0m\u001b[0mm\u001b[0m\u001b[0;34m,\u001b[0m \u001b[0msub1\u001b[0m\u001b[0;34m(\u001b[0m\u001b[0mn\u001b[0m\u001b[0;34m)\u001b[0m\u001b[0;34m)\u001b[0m\u001b[0;34m)\u001b[0m\u001b[0;34m\u001b[0m\u001b[0;34m\u001b[0m\u001b[0m\n\u001b[0m",
      "\u001b[0;32m<ipython-input-52-93b66823a936>\u001b[0m in \u001b[0;36mmultiply\u001b[0;34m(n, m)\u001b[0m\n\u001b[1;32m      3\u001b[0m         \u001b[0;32mreturn\u001b[0m \u001b[0;36m0\u001b[0m\u001b[0;34m\u001b[0m\u001b[0;34m\u001b[0m\u001b[0m\n\u001b[1;32m      4\u001b[0m     \u001b[0;32melse\u001b[0m\u001b[0;34m:\u001b[0m\u001b[0;34m\u001b[0m\u001b[0;34m\u001b[0m\u001b[0m\n\u001b[0;32m----> 5\u001b[0;31m         \u001b[0;32mreturn\u001b[0m \u001b[0mplus\u001b[0m\u001b[0;34m(\u001b[0m\u001b[0mm\u001b[0m\u001b[0;34m,\u001b[0m \u001b[0mmultiply\u001b[0m\u001b[0;34m(\u001b[0m\u001b[0mm\u001b[0m\u001b[0;34m,\u001b[0m \u001b[0msub1\u001b[0m\u001b[0;34m(\u001b[0m\u001b[0mn\u001b[0m\u001b[0;34m)\u001b[0m\u001b[0;34m)\u001b[0m\u001b[0;34m)\u001b[0m\u001b[0;34m\u001b[0m\u001b[0;34m\u001b[0m\u001b[0m\n\u001b[0m",
      "\u001b[0;32m<ipython-input-52-93b66823a936>\u001b[0m in \u001b[0;36mmultiply\u001b[0;34m(n, m)\u001b[0m\n\u001b[1;32m      3\u001b[0m         \u001b[0;32mreturn\u001b[0m \u001b[0;36m0\u001b[0m\u001b[0;34m\u001b[0m\u001b[0;34m\u001b[0m\u001b[0m\n\u001b[1;32m      4\u001b[0m     \u001b[0;32melse\u001b[0m\u001b[0;34m:\u001b[0m\u001b[0;34m\u001b[0m\u001b[0;34m\u001b[0m\u001b[0m\n\u001b[0;32m----> 5\u001b[0;31m         \u001b[0;32mreturn\u001b[0m \u001b[0mplus\u001b[0m\u001b[0;34m(\u001b[0m\u001b[0mm\u001b[0m\u001b[0;34m,\u001b[0m \u001b[0mmultiply\u001b[0m\u001b[0;34m(\u001b[0m\u001b[0mm\u001b[0m\u001b[0;34m,\u001b[0m \u001b[0msub1\u001b[0m\u001b[0;34m(\u001b[0m\u001b[0mn\u001b[0m\u001b[0;34m)\u001b[0m\u001b[0;34m)\u001b[0m\u001b[0;34m)\u001b[0m\u001b[0;34m\u001b[0m\u001b[0;34m\u001b[0m\u001b[0m\n\u001b[0m",
      "\u001b[0;32m<ipython-input-52-93b66823a936>\u001b[0m in \u001b[0;36mmultiply\u001b[0;34m(n, m)\u001b[0m\n\u001b[1;32m      3\u001b[0m         \u001b[0;32mreturn\u001b[0m \u001b[0;36m0\u001b[0m\u001b[0;34m\u001b[0m\u001b[0;34m\u001b[0m\u001b[0m\n\u001b[1;32m      4\u001b[0m     \u001b[0;32melse\u001b[0m\u001b[0;34m:\u001b[0m\u001b[0;34m\u001b[0m\u001b[0;34m\u001b[0m\u001b[0m\n\u001b[0;32m----> 5\u001b[0;31m         \u001b[0;32mreturn\u001b[0m \u001b[0mplus\u001b[0m\u001b[0;34m(\u001b[0m\u001b[0mm\u001b[0m\u001b[0;34m,\u001b[0m \u001b[0mmultiply\u001b[0m\u001b[0;34m(\u001b[0m\u001b[0mm\u001b[0m\u001b[0;34m,\u001b[0m \u001b[0msub1\u001b[0m\u001b[0;34m(\u001b[0m\u001b[0mn\u001b[0m\u001b[0;34m)\u001b[0m\u001b[0;34m)\u001b[0m\u001b[0;34m)\u001b[0m\u001b[0;34m\u001b[0m\u001b[0;34m\u001b[0m\u001b[0m\n\u001b[0m",
      "\u001b[0;32m<ipython-input-43-b1336aa4fe99>\u001b[0m in \u001b[0;36mplus\u001b[0;34m(a, b)\u001b[0m\n\u001b[1;32m      3\u001b[0m         \u001b[0;32mreturn\u001b[0m \u001b[0ma\u001b[0m\u001b[0;34m\u001b[0m\u001b[0;34m\u001b[0m\u001b[0m\n\u001b[1;32m      4\u001b[0m     \u001b[0;32melse\u001b[0m\u001b[0;34m:\u001b[0m\u001b[0;34m\u001b[0m\u001b[0;34m\u001b[0m\u001b[0m\n\u001b[0;32m----> 5\u001b[0;31m         \u001b[0;32mreturn\u001b[0m \u001b[0mplus\u001b[0m\u001b[0;34m(\u001b[0m\u001b[0madd1\u001b[0m\u001b[0;34m(\u001b[0m\u001b[0ma\u001b[0m\u001b[0;34m)\u001b[0m\u001b[0;34m,\u001b[0m \u001b[0msub1\u001b[0m\u001b[0;34m(\u001b[0m\u001b[0mb\u001b[0m\u001b[0;34m)\u001b[0m\u001b[0;34m)\u001b[0m\u001b[0;34m\u001b[0m\u001b[0;34m\u001b[0m\u001b[0m\n\u001b[0m",
      "... last 1 frames repeated, from the frame below ...\n",
      "\u001b[0;32m<ipython-input-43-b1336aa4fe99>\u001b[0m in \u001b[0;36mplus\u001b[0;34m(a, b)\u001b[0m\n\u001b[1;32m      3\u001b[0m         \u001b[0;32mreturn\u001b[0m \u001b[0ma\u001b[0m\u001b[0;34m\u001b[0m\u001b[0;34m\u001b[0m\u001b[0m\n\u001b[1;32m      4\u001b[0m     \u001b[0;32melse\u001b[0m\u001b[0;34m:\u001b[0m\u001b[0;34m\u001b[0m\u001b[0;34m\u001b[0m\u001b[0m\n\u001b[0;32m----> 5\u001b[0;31m         \u001b[0;32mreturn\u001b[0m \u001b[0mplus\u001b[0m\u001b[0;34m(\u001b[0m\u001b[0madd1\u001b[0m\u001b[0;34m(\u001b[0m\u001b[0ma\u001b[0m\u001b[0;34m)\u001b[0m\u001b[0;34m,\u001b[0m \u001b[0msub1\u001b[0m\u001b[0;34m(\u001b[0m\u001b[0mb\u001b[0m\u001b[0;34m)\u001b[0m\u001b[0;34m)\u001b[0m\u001b[0;34m\u001b[0m\u001b[0;34m\u001b[0m\u001b[0m\n\u001b[0m",
      "\u001b[0;31mRecursionError\u001b[0m: maximum recursion depth exceeded in comparison"
     ]
    }
   ],
   "source": [
    "## this doesn't work and i can tell why, but i haven't figured out how to fix it\n",
    "exponent(5, 6)"
   ]
  },
  {
   "cell_type": "code",
   "execution_count": 74,
   "id": "4a760c65-8485-43c4-b47c-be400a5d676e",
   "metadata": {},
   "outputs": [],
   "source": [
    "def divide(n, m):\n",
    "    if less_than(n, m):\n",
    "        return 0\n",
    "    else:\n",
    "        return add1(divide(minus(n, m), m))"
   ]
  },
  {
   "cell_type": "code",
   "execution_count": 75,
   "id": "017e78cc-1b6a-4476-83f3-a2744e6cd258",
   "metadata": {},
   "outputs": [
    {
     "data": {
      "text/plain": [
       "2"
      ]
     },
     "execution_count": 75,
     "metadata": {},
     "output_type": "execute_result"
    }
   ],
   "source": [
    "divide(4, 2)"
   ]
  },
  {
   "cell_type": "code",
   "execution_count": 76,
   "id": "26757199-b454-4f54-b8b7-9b6000e26194",
   "metadata": {},
   "outputs": [
    {
     "data": {
      "text/plain": [
       "4"
      ]
     },
     "execution_count": 76,
     "metadata": {},
     "output_type": "execute_result"
    }
   ],
   "source": [
    "divide(8, 2)"
   ]
  },
  {
   "cell_type": "code",
   "execution_count": 77,
   "id": "d8c1fda3-6adc-4b82-8de5-0f836bfda56a",
   "metadata": {},
   "outputs": [
    {
     "data": {
      "text/plain": [
       "3"
      ]
     },
     "execution_count": 77,
     "metadata": {},
     "output_type": "execute_result"
    }
   ],
   "source": [
    "divide(15, 4)"
   ]
  },
  {
   "cell_type": "code",
   "execution_count": 78,
   "id": "9b1a7b1d-21e1-49dc-95d5-3c7cc1bc6375",
   "metadata": {},
   "outputs": [],
   "source": [
    "def length(lat):\n",
    "    if null(lat):\n",
    "        return 0\n",
    "    else:\n",
    "        return add1(length(cdr(lat)))"
   ]
  },
  {
   "cell_type": "code",
   "execution_count": 79,
   "id": "9ff6c94a-9a88-4237-ba3a-8531ef2e53a9",
   "metadata": {},
   "outputs": [
    {
     "data": {
      "text/plain": [
       "2"
      ]
     },
     "execution_count": 79,
     "metadata": {},
     "output_type": "execute_result"
    }
   ],
   "source": [
    "length([1,23])"
   ]
  },
  {
   "cell_type": "code",
   "execution_count": 80,
   "id": "2751dfc9-b255-4eb5-9e71-949bfe08ff32",
   "metadata": {},
   "outputs": [
    {
     "data": {
      "text/plain": [
       "3"
      ]
     },
     "execution_count": 80,
     "metadata": {},
     "output_type": "execute_result"
    }
   ],
   "source": [
    "length([\"word\", \"hello\", \"hi\"])"
   ]
  },
  {
   "cell_type": "code",
   "execution_count": 81,
   "id": "88b178a7-822e-4e90-b3e4-edaf3bbbfb51",
   "metadata": {},
   "outputs": [],
   "source": [
    "def pick(n, lat):\n",
    "    if zero(sub1(n)):\n",
    "        return car(lat)\n",
    "    else:\n",
    "        return pick(sub1(n), cdr(lat))\n",
    "    "
   ]
  },
  {
   "cell_type": "code",
   "execution_count": 82,
   "id": "44b3059e-6a2c-4c27-a4a6-e1061e09c85f",
   "metadata": {},
   "outputs": [
    {
     "data": {
      "text/plain": [
       "'macaroni'"
      ]
     },
     "execution_count": 82,
     "metadata": {},
     "output_type": "execute_result"
    }
   ],
   "source": [
    "n = 4\n",
    "lat = [\"lasagna\", \"spaghetti\", \"ravioli\", \"macaroni\", \"meatball\"]\n",
    "pick(n, lat)"
   ]
  },
  {
   "cell_type": "code",
   "execution_count": 83,
   "id": "1d52e098-0635-47b9-b841-ea19061adf57",
   "metadata": {},
   "outputs": [],
   "source": [
    "def rempick(n, lat):\n",
    "    if zero(sub1(n)):\n",
    "        return cdr(lat)\n",
    "    else:\n",
    "        return cons(car(lat), rempick(sub1(n), cdr(lat)))"
   ]
  },
  {
   "cell_type": "code",
   "execution_count": 84,
   "id": "845ba3d4-de25-4160-817a-8f1c23efeaca",
   "metadata": {},
   "outputs": [
    {
     "data": {
      "text/plain": [
       "['hotdogs', 'with', 'mustard']"
      ]
     },
     "execution_count": 84,
     "metadata": {},
     "output_type": "execute_result"
    }
   ],
   "source": [
    "n = 3\n",
    "lat = [\"hotdogs\", \"with\", \"hot\", \"mustard\"]\n",
    "rempick(n, lat)"
   ]
  },
  {
   "cell_type": "code",
   "execution_count": 85,
   "id": "981c20db-110e-4201-ba05-c8a94faeae4f",
   "metadata": {},
   "outputs": [],
   "source": [
    "def no_nums(lat):\n",
    "    if null(lat):\n",
    "        return []\n",
    "    elif number(car(lat)):\n",
    "        return no_nums(cdr(lat))\n",
    "    else:\n",
    "        return cons(car(lat), no_nums(cdr(lat)))"
   ]
  },
  {
   "cell_type": "code",
   "execution_count": 86,
   "id": "511006e7-05f5-491a-bfda-dd2f42872706",
   "metadata": {},
   "outputs": [
    {
     "data": {
      "text/plain": [
       "['pears', 'prunes', 'dates']"
      ]
     },
     "execution_count": 86,
     "metadata": {},
     "output_type": "execute_result"
    }
   ],
   "source": [
    "lat = [5, \"pears\", 6, \"prunes\", 9, \"dates\"]\n",
    "no_nums(lat)"
   ]
  },
  {
   "cell_type": "code",
   "execution_count": 87,
   "id": "9e6b4298-25e4-4e2c-abb5-81eaf02d21a4",
   "metadata": {},
   "outputs": [],
   "source": [
    "def all_nums(lat):\n",
    "    if null(lat):\n",
    "        return []\n",
    "    elif number(car(lat)):\n",
    "        return cons(car(lat), all_nums(cdr(lat)))\n",
    "    else:\n",
    "        return all_nums(cdr(lat))"
   ]
  },
  {
   "cell_type": "code",
   "execution_count": 88,
   "id": "67f79b90-ab61-4fac-8d8a-4f763c312a58",
   "metadata": {},
   "outputs": [
    {
     "data": {
      "text/plain": [
       "[5, 6, 9]"
      ]
     },
     "execution_count": 88,
     "metadata": {},
     "output_type": "execute_result"
    }
   ],
   "source": [
    "all_nums(lat)"
   ]
  },
  {
   "cell_type": "code",
   "execution_count": 89,
   "id": "ad21fdaf-8324-46a3-962e-e186a053528d",
   "metadata": {},
   "outputs": [],
   "source": [
    "def eqan(a1, a2):\n",
    "    if number(a1) and number(a2):\n",
    "        return equals(a1, a2)\n",
    "    elif is_atom(a1) and is_atom(a2):\n",
    "        return eq(a1, a2)"
   ]
  },
  {
   "cell_type": "code",
   "execution_count": 90,
   "id": "1d00d56d-ff75-4a68-b7d9-2088e425458e",
   "metadata": {},
   "outputs": [
    {
     "data": {
      "text/plain": [
       "False"
      ]
     },
     "execution_count": 90,
     "metadata": {},
     "output_type": "execute_result"
    }
   ],
   "source": [
    "eqan(1, 2)"
   ]
  },
  {
   "cell_type": "code",
   "execution_count": 91,
   "id": "e29d8631-616e-4322-9d20-b87b1f2ce634",
   "metadata": {},
   "outputs": [
    {
     "data": {
      "text/plain": [
       "True"
      ]
     },
     "execution_count": 91,
     "metadata": {},
     "output_type": "execute_result"
    }
   ],
   "source": [
    "eqan(1,1)"
   ]
  },
  {
   "cell_type": "code",
   "execution_count": 92,
   "id": "03e88c2c-00d2-44e2-8b28-e995d6871da3",
   "metadata": {},
   "outputs": [
    {
     "data": {
      "text/plain": [
       "False"
      ]
     },
     "execution_count": 92,
     "metadata": {},
     "output_type": "execute_result"
    }
   ],
   "source": [
    "eqan(1, \"hi\")"
   ]
  },
  {
   "cell_type": "code",
   "execution_count": 93,
   "id": "8db4611d-a5c7-48fb-b697-923784bc8792",
   "metadata": {},
   "outputs": [
    {
     "data": {
      "text/plain": [
       "True"
      ]
     },
     "execution_count": 93,
     "metadata": {},
     "output_type": "execute_result"
    }
   ],
   "source": [
    "eqan(\"hi\", \"hi\")"
   ]
  },
  {
   "cell_type": "code",
   "execution_count": 94,
   "id": "0cba833f-c561-4748-9e1f-97c358300702",
   "metadata": {},
   "outputs": [],
   "source": [
    "def occur(a, lat):\n",
    "    if null(lat):\n",
    "        return 0\n",
    "    elif eq(car(lat), a):\n",
    "        return add1(occur(a, cdr(lat)))\n",
    "    else:\n",
    "        return occur(a, cdr(lat))"
   ]
  },
  {
   "cell_type": "code",
   "execution_count": 95,
   "id": "1a1ae1fa-f112-495c-a0e4-3e49c3a434ef",
   "metadata": {},
   "outputs": [
    {
     "data": {
      "text/plain": [
       "2"
      ]
     },
     "execution_count": 95,
     "metadata": {},
     "output_type": "execute_result"
    }
   ],
   "source": [
    "a = 3\n",
    "lat = [1, 2, 3, \"hello\", 3, \"yo\"]\n",
    "occur(a, lat)"
   ]
  },
  {
   "cell_type": "code",
   "execution_count": 96,
   "id": "4085afdf-9e2e-4af1-9c88-1ac3b30a83a9",
   "metadata": {},
   "outputs": [],
   "source": [
    "def one(n):\n",
    "    return equals(n, 1)"
   ]
  },
  {
   "cell_type": "code",
   "execution_count": 97,
   "id": "0c146c23-4baa-4f13-a27c-9a524c1cd016",
   "metadata": {},
   "outputs": [
    {
     "data": {
      "text/plain": [
       "False"
      ]
     },
     "execution_count": 97,
     "metadata": {},
     "output_type": "execute_result"
    }
   ],
   "source": [
    "one(3)"
   ]
  },
  {
   "cell_type": "code",
   "execution_count": 98,
   "id": "6c558ab6-77a8-4738-9a12-1795642599ef",
   "metadata": {},
   "outputs": [],
   "source": [
    "def rempick_rewrite(n, lat):\n",
    "    if one(n):\n",
    "        return cdr(lat)\n",
    "    else:\n",
    "        return cons(car(lat), rempick_rewrite(sub1(n), cdr(lat)))\n",
    "    "
   ]
  },
  {
   "cell_type": "code",
   "execution_count": 99,
   "id": "3dea3d23-4f54-49cf-b600-ec159b39fad0",
   "metadata": {},
   "outputs": [
    {
     "data": {
      "text/plain": [
       "['lemon', 'meringue', 'pie']"
      ]
     },
     "execution_count": 99,
     "metadata": {},
     "output_type": "execute_result"
    }
   ],
   "source": [
    "n = 3\n",
    "lat = [\"lemon\", \"meringue\", \"salty\", \"pie\"]\n",
    "rempick_rewrite(n, lat)"
   ]
  },
  {
   "cell_type": "markdown",
   "id": "a126d900-d30f-4a40-b857-b4b42c13796d",
   "metadata": {},
   "source": [
    "# Chapter 5: \\*Oh My Gawd\\*: It's Full of Stars"
   ]
  },
  {
   "cell_type": "code",
   "execution_count": 111,
   "id": "6f2c59ae-0087-4614-a788-6464ad184329",
   "metadata": {},
   "outputs": [],
   "source": [
    "def rember_star(a, l):\n",
    "    if null(l):\n",
    "        return []\n",
    "    elif is_atom(car(l)):\n",
    "        if eq(a, car(l)):\n",
    "            return rember_star(a, cdr(l))\n",
    "        else:\n",
    "            return cons(car(l), rember_star(a, cdr(l)))\n",
    "    else:\n",
    "        return cons(rember_star(a, car(l)), rember_star(a, cdr(l)))"
   ]
  },
  {
   "cell_type": "code",
   "execution_count": 113,
   "id": "5072fb22-8568-44ab-ace2-07db58186de4",
   "metadata": {},
   "outputs": [
    {
     "data": {
      "text/plain": [
       "[['coffee'], ['tea', []], ['and', ['hick']]]"
      ]
     },
     "execution_count": 113,
     "metadata": {},
     "output_type": "execute_result"
    }
   ],
   "source": [
    "a = \"cup\"\n",
    "l = [[\"coffee\"], \"cup\", [\"tea\", [\"cup\"]], [\"and\", [\"hick\"]], \"cup\"]\n",
    "rember_star(a, l)"
   ]
  },
  {
   "cell_type": "code",
   "execution_count": 115,
   "id": "a35c32ae-9645-43d8-84a3-8fc08b1e70f1",
   "metadata": {},
   "outputs": [
    {
     "data": {
      "text/plain": [
       "[['tomato'], ['bean'], ['and', ['flying']]]"
      ]
     },
     "execution_count": 115,
     "metadata": {},
     "output_type": "execute_result"
    }
   ],
   "source": [
    "a = \"sauce\"\n",
    "l = [[\"tomato\", \"sauce\"], [\"bean\"], \"sauce\", [\"and\", [\"flying\"], \"sauce\"]]\n",
    "rember_star(a, l)"
   ]
  },
  {
   "cell_type": "code",
   "execution_count": 141,
   "id": "da5686d3-4867-4f2a-9f80-a8b7d3c7bf62",
   "metadata": {},
   "outputs": [],
   "source": [
    "def insertR_star(new, old, l):\n",
    "    if null(l):\n",
    "        return []\n",
    "    elif is_atom(car(l)):\n",
    "        if eq(car(l), old):\n",
    "            return cons(old, cons(new, insertR_star(new, old, cdr(l))))\n",
    "        else:\n",
    "            return cons(car(l), insertR_star(new, old, cdr(l)))\n",
    "    else:\n",
    "        return cons(insertR_star(new, old, car(l)), insertR_star(new, old, cdr(l)))"
   ]
  },
  {
   "cell_type": "code",
   "execution_count": 142,
   "id": "3921044d-1d33-498f-9a7d-444c3df5bfc5",
   "metadata": {},
   "outputs": [
    {
     "name": "stdout",
     "output_type": "stream",
     "text": [
      "here\n",
      "here\n",
      "here\n",
      "here\n"
     ]
    },
    {
     "data": {
      "text/plain": [
       "[['how', 'much', ['wood']],\n",
       " 'could',\n",
       " [['a', ['wood'], 'chuck', 'roast']],\n",
       " [[['chuck', 'roast']]],\n",
       " ['if', ['a'], [['wood', 'chuck', 'roast']]],\n",
       " 'could',\n",
       " 'chuck',\n",
       " 'roast',\n",
       " 'wood']"
      ]
     },
     "execution_count": 142,
     "metadata": {},
     "output_type": "execute_result"
    }
   ],
   "source": [
    "new = \"roast\"\n",
    "old = \"chuck\"\n",
    "l = [\n",
    "    [\"how\", \"much\", [\"wood\"]],\n",
    "    \"could\", \n",
    "    [[\"a\", [\"wood\"], \"chuck\"]], \n",
    "    [[[\"chuck\"]]], \n",
    "    [\"if\", [\"a\"], [[\"wood\", \"chuck\"]]],\n",
    "    \"could\", \"chuck\", \"wood\"\n",
    "]\n",
    "insertR_star(new, old, l)"
   ]
  },
  {
   "cell_type": "markdown",
   "id": "b923208d-dfad-44cd-b7b6-7ad2f43dc470",
   "metadata": {},
   "source": [
    "## The First Commandment\n",
    "#### *(final version)*\n",
    "### When recurring on a list of atoms, *lat*, ask two questions about it: (*null? lat*) and else.\n",
    "### When recurring on a number, *n*, ask two questions about it (*zero? n*) and else\n",
    "### When recurring on a list of S-expressions, *l*, ask three questions about it: (*null? l*), (*atom?*(*car l*)), and else.\n",
    "## The Fourth Commandment\n",
    "#### (*final version*)\n",
    "### Always change at least one argument while recurring. When recurring on a list of atoms, *lat*, use(*cdr lat*). When recurring on a number, *n*, use (*sub1 n*). And when recurring on a list of S-expressions, *l*, use (*car l*) and (*cdr l*) if neither (*null?*) nor (*atom?* (*car l*)) are true.\n",
    "### It must be changed to be closer to termination. The changing argument must be tested in the termination condition:\n",
    "### when using *cdr*, test termination with *null?* and\n",
    "### when using *sub1*, test termination with *zero?*."
   ]
  },
  {
   "cell_type": "code",
   "execution_count": 145,
   "id": "21055ee4-a413-4d58-8433-984070d02678",
   "metadata": {},
   "outputs": [],
   "source": [
    "def occur_star(a, l):\n",
    "    if null(l):\n",
    "        return 0\n",
    "    elif is_atom(car(l)):\n",
    "        if eq(car(l), a):\n",
    "            return add1(occur_star(a, cdr(l)))\n",
    "        else:\n",
    "            return occur_star(a, cdr(l))\n",
    "    else:\n",
    "        return plus(occur_star(a, car(l)), occur_star(a, cdr(l)))"
   ]
  },
  {
   "cell_type": "code",
   "execution_count": 150,
   "id": "f5864ebc-83b0-4e64-a0ac-3cbb60c4d5b4",
   "metadata": {},
   "outputs": [
    {
     "data": {
      "text/plain": [
       "5"
      ]
     },
     "execution_count": 150,
     "metadata": {},
     "output_type": "execute_result"
    }
   ],
   "source": [
    "a = \"banana\"\n",
    "l = [\n",
    "    [\"banana\"],\n",
    "    [\"split\", [[[[\"banana\", \"ice\"]]],\n",
    "        [\"cream\", [\"banana\"]],\n",
    "        \"sherbet\"]],\n",
    "    [\"banana\"],\n",
    "    [\"bread\"],\n",
    "    [\"banana\", \"brandy\"]\n",
    "]\n",
    "occur_star(a, l)"
   ]
  },
  {
   "cell_type": "code",
   "execution_count": 153,
   "id": "f78e7a9f-25b8-464e-92c3-eaf72f0c3f5e",
   "metadata": {},
   "outputs": [],
   "source": [
    "def subst_star(new, old, l):\n",
    "    if null(l):\n",
    "        return []\n",
    "    elif is_atom(car(l)):\n",
    "        if eq(old, car(l)):\n",
    "            return cons(new, subst_star(new, old, cdr(l)))\n",
    "        else:\n",
    "            return cons(car(l), subst_star(new, old, cdr(l)))\n",
    "    else:\n",
    "        return cons(subst_star(new, old, car(l)), subst_star(new, old, cdr(l)))"
   ]
  },
  {
   "cell_type": "code",
   "execution_count": 154,
   "id": "4d221ef1-b559-43ab-8093-e1bb35eadf93",
   "metadata": {},
   "outputs": [
    {
     "data": {
      "text/plain": [
       "[['orange'],\n",
       " ['split', [[[['orange', 'ice']]], ['cream', ['orange']], 'sherbet']],\n",
       " ['orange'],\n",
       " ['bread'],\n",
       " ['orange', 'brandy']]"
      ]
     },
     "execution_count": 154,
     "metadata": {},
     "output_type": "execute_result"
    }
   ],
   "source": [
    "new = \"orange\"\n",
    "old = \"banana\"\n",
    "subst_star(new, old, l)"
   ]
  },
  {
   "cell_type": "code",
   "execution_count": 161,
   "id": "96014886-98dc-4eac-8b2d-3acfddac16fb",
   "metadata": {},
   "outputs": [],
   "source": [
    "def insertL_star(new, old, l):\n",
    "    if null(l):\n",
    "        return []\n",
    "    elif is_atom(car(l)):\n",
    "        if eq(old, car(l)):\n",
    "            return cons(new, cons(car(l), insertL_star(new, old, cdr(l))))\n",
    "        else:\n",
    "            return cons(car(l), insertL_star(new, old, cdr(l)))\n",
    "    else:\n",
    "        return cons(insertL_star(new, old, car(l)), insertL_star(new, old, cdr(l)))"
   ]
  },
  {
   "cell_type": "code",
   "execution_count": 162,
   "id": "51d31fba-2e6e-4be3-ace2-6d6ebd7d5b80",
   "metadata": {},
   "outputs": [
    {
     "data": {
      "text/plain": [
       "[['how', 'much', ['wood']],\n",
       " 'could',\n",
       " [['a', ['wood'], 'pecker', 'chuck']],\n",
       " [[['pecker', 'chuck']]],\n",
       " ['if', ['a'], [['wood', 'pecker', 'chuck']]],\n",
       " 'could',\n",
       " 'pecker',\n",
       " 'chuck',\n",
       " 'wood']"
      ]
     },
     "execution_count": 162,
     "metadata": {},
     "output_type": "execute_result"
    }
   ],
   "source": [
    "new = \"pecker\"\n",
    "old = \"chuck\"\n",
    "l = [\n",
    "    [\"how\", \"much\", [\"wood\"]],\n",
    "    \"could\", \n",
    "    [[\"a\", [\"wood\"], \"chuck\"]], \n",
    "    [[[\"chuck\"]]], \n",
    "    [\"if\", [\"a\"], [[\"wood\", \"chuck\"]]],\n",
    "    \"could\", \"chuck\", \"wood\"\n",
    "]\n",
    "insertL_star(new, old, l)"
   ]
  },
  {
   "cell_type": "code",
   "execution_count": 167,
   "id": "34342b63-4bcb-46bf-878a-9fbf74b1a1b7",
   "metadata": {},
   "outputs": [],
   "source": [
    "def member_star(a, l):\n",
    "    if null(l):\n",
    "        return False\n",
    "    elif is_atom(car(l)):\n",
    "        if eq(a, car(l)):\n",
    "            return True\n",
    "        else:\n",
    "            return member_star(a, cdr(l))\n",
    "    elif member_star(a, car(l)) or member_star(a, cdr(l)):\n",
    "        return True"
   ]
  },
  {
   "cell_type": "code",
   "execution_count": 168,
   "id": "367f8976-0887-4074-a036-e7e6ac8bcbc7",
   "metadata": {},
   "outputs": [
    {
     "data": {
      "text/plain": [
       "True"
      ]
     },
     "execution_count": 168,
     "metadata": {},
     "output_type": "execute_result"
    }
   ],
   "source": [
    "a = \"chips\"\n",
    "l = [\n",
    "    [\"potato\"],\n",
    "    [\"chips\", [[\"with\"], \"fish\"], [\"chips\"]]\n",
    "]\n",
    "member_star(a, l)"
   ]
  },
  {
   "cell_type": "code",
   "execution_count": 171,
   "id": "6695fa89-2549-4bac-8cdb-ce19d1ad9e52",
   "metadata": {},
   "outputs": [],
   "source": [
    "def leftmost(l):\n",
    "    if is_atom(car(l)):\n",
    "        return car(l)\n",
    "    else:\n",
    "        return leftmost(car(l))"
   ]
  },
  {
   "cell_type": "code",
   "execution_count": 172,
   "id": "42374d05-7579-4580-9089-5358eb82aab1",
   "metadata": {},
   "outputs": [
    {
     "ename": "IndexError",
     "evalue": "list index out of range",
     "output_type": "error",
     "traceback": [
      "\u001b[0;31m---------------------------------------------------------------------------\u001b[0m",
      "\u001b[0;31mIndexError\u001b[0m                                Traceback (most recent call last)",
      "\u001b[0;32m<ipython-input-172-f45c962a8612>\u001b[0m in \u001b[0;36m<module>\u001b[0;34m\u001b[0m\n\u001b[0;32m----> 1\u001b[0;31m \u001b[0mleftmost\u001b[0m\u001b[0;34m(\u001b[0m\u001b[0;34m[\u001b[0m\u001b[0;34m]\u001b[0m\u001b[0;34m)\u001b[0m\u001b[0;34m\u001b[0m\u001b[0;34m\u001b[0m\u001b[0m\n\u001b[0m",
      "\u001b[0;32m<ipython-input-171-5bf4e0651918>\u001b[0m in \u001b[0;36mleftmost\u001b[0;34m(l)\u001b[0m\n\u001b[1;32m      1\u001b[0m \u001b[0;32mdef\u001b[0m \u001b[0mleftmost\u001b[0m\u001b[0;34m(\u001b[0m\u001b[0ml\u001b[0m\u001b[0;34m)\u001b[0m\u001b[0;34m:\u001b[0m\u001b[0;34m\u001b[0m\u001b[0;34m\u001b[0m\u001b[0m\n\u001b[0;32m----> 2\u001b[0;31m     \u001b[0;32mif\u001b[0m \u001b[0mis_atom\u001b[0m\u001b[0;34m(\u001b[0m\u001b[0mcar\u001b[0m\u001b[0;34m(\u001b[0m\u001b[0ml\u001b[0m\u001b[0;34m)\u001b[0m\u001b[0;34m)\u001b[0m\u001b[0;34m:\u001b[0m\u001b[0;34m\u001b[0m\u001b[0;34m\u001b[0m\u001b[0m\n\u001b[0m\u001b[1;32m      3\u001b[0m         \u001b[0;32mreturn\u001b[0m \u001b[0mcar\u001b[0m\u001b[0;34m(\u001b[0m\u001b[0ml\u001b[0m\u001b[0;34m)\u001b[0m\u001b[0;34m\u001b[0m\u001b[0;34m\u001b[0m\u001b[0m\n\u001b[1;32m      4\u001b[0m     \u001b[0;32melse\u001b[0m\u001b[0;34m:\u001b[0m\u001b[0;34m\u001b[0m\u001b[0;34m\u001b[0m\u001b[0m\n\u001b[1;32m      5\u001b[0m         \u001b[0;32mreturn\u001b[0m \u001b[0mleftmost\u001b[0m\u001b[0;34m(\u001b[0m\u001b[0mcar\u001b[0m\u001b[0;34m(\u001b[0m\u001b[0ml\u001b[0m\u001b[0;34m)\u001b[0m\u001b[0;34m)\u001b[0m\u001b[0;34m\u001b[0m\u001b[0;34m\u001b[0m\u001b[0m\n",
      "\u001b[0;32m<ipython-input-1-5e162b814926>\u001b[0m in \u001b[0;36mcar\u001b[0;34m(l)\u001b[0m\n\u001b[1;32m     19\u001b[0m \u001b[0;32mdef\u001b[0m \u001b[0mcar\u001b[0m\u001b[0;34m(\u001b[0m\u001b[0ml\u001b[0m\u001b[0;34m)\u001b[0m\u001b[0;34m:\u001b[0m\u001b[0;34m\u001b[0m\u001b[0;34m\u001b[0m\u001b[0m\n\u001b[1;32m     20\u001b[0m     \u001b[0;34m\"returns first item in a list\"\u001b[0m\u001b[0;34m\u001b[0m\u001b[0;34m\u001b[0m\u001b[0m\n\u001b[0;32m---> 21\u001b[0;31m     \u001b[0;32mreturn\u001b[0m \u001b[0ml\u001b[0m\u001b[0;34m[\u001b[0m\u001b[0;36m0\u001b[0m\u001b[0;34m]\u001b[0m\u001b[0;34m\u001b[0m\u001b[0;34m\u001b[0m\u001b[0m\n\u001b[0m\u001b[1;32m     22\u001b[0m \u001b[0;34m\u001b[0m\u001b[0m\n\u001b[1;32m     23\u001b[0m \u001b[0;32mdef\u001b[0m \u001b[0mcdr\u001b[0m\u001b[0;34m(\u001b[0m\u001b[0ml\u001b[0m\u001b[0;34m)\u001b[0m\u001b[0;34m:\u001b[0m\u001b[0;34m\u001b[0m\u001b[0;34m\u001b[0m\u001b[0m\n",
      "\u001b[0;31mIndexError\u001b[0m: list index out of range"
     ]
    }
   ],
   "source": [
    "leftmost([])"
   ]
  },
  {
   "cell_type": "code",
   "execution_count": 174,
   "id": "04f06947-d716-43aa-8445-3e5d6d18dd60",
   "metadata": {},
   "outputs": [
    {
     "data": {
      "text/plain": [
       "'potato'"
      ]
     },
     "execution_count": 174,
     "metadata": {},
     "output_type": "execute_result"
    }
   ],
   "source": [
    "l = [[\"potato\"], [\"chips\", [[\"with\"], \"fish\"], [\"chips\"]]]\n",
    "leftmost(l)"
   ]
  },
  {
   "cell_type": "code",
   "execution_count": 175,
   "id": "b690ae07-6154-4189-8064-3f0d80d87d02",
   "metadata": {},
   "outputs": [
    {
     "data": {
      "text/plain": [
       "'hot'"
      ]
     },
     "execution_count": 175,
     "metadata": {},
     "output_type": "execute_result"
    }
   ],
   "source": [
    "l = [[[\"hot\"], [\"tuna\", [\"and\"]]], \"cheese\"]\n",
    "leftmost(l)"
   ]
  }
 ],
 "metadata": {
  "kernelspec": {
   "display_name": "Python 3",
   "language": "python",
   "name": "python3"
  },
  "language_info": {
   "codemirror_mode": {
    "name": "ipython",
    "version": 3
   },
   "file_extension": ".py",
   "mimetype": "text/x-python",
   "name": "python",
   "nbconvert_exporter": "python",
   "pygments_lexer": "ipython3",
   "version": "3.8.8"
  }
 },
 "nbformat": 4,
 "nbformat_minor": 5
}
